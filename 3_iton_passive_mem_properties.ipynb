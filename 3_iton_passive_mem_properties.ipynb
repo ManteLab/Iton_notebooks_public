{
  "cells": [
    {
      "cell_type": "markdown",
      "metadata": {
        "id": "eudUol3p0CHA"
      },
      "source": [
        "# Introduction to Neuroinformatics\n",
        "## Exercise session 2: Passive membrane properties\n",
        "\n",
        "Welcome to the second exercise session of the introduction to neuroinformatics course. This exerciese session will dive deeper into the RC circuits explored in the last exercise session and model some simple properties of neurons."
      ]
    },
    {
      "cell_type": "markdown",
      "metadata": {
        "id": "WCVtGJgJ0CHE"
      },
      "source": [
        "# Table of contents\n",
        "\n",
        "* [Packages](#packages)\n",
        "* [1: The parallel RC circuit](#prc)\n",
        "    * [1.1: Charging the capacitor in the parallel RC circuit](#cprc)\n",
        "    * [1.2: The neuronal membrane: Multiple conductances](#tnm)\n",
        "* [2: Cable equation](#ce)\n",
        "    * [2.1: Cable resistance](#cr)\n",
        "    * [2.2 The cable equation](#tce)\n",
        "    * [2.3 Steady-state solution (infinite cable)](#sss)\n",
        "    * [2.4: An axon with three injection sites](#axon)\n",
        "* [3: Integrate-and-Fire neuron and delayed synaptic inputs](#if)\n",
        "    * [3.1: Delays: How cable theory affects synaptic inputs](#cable)\n",
        "    * [3.2: The Integrate-and-No-Fire Model](#inf)\n"
      ]
    },
    {
      "cell_type": "markdown",
      "metadata": {
        "id": "6JthYH1d0CHF"
      },
      "source": [
        "# Packages <a class=\"anchor\" id=\"packages\"></a>\n",
        "\n",
        "This notebook was <font color='red'>**designed to be run in colab**</font>. We have included code blocks to allow the possibility of running the notebook locally, but due to the vastness of peoples' setups, we do not support it much further.\n",
        "\n",
        "If you wish to continue in Colab, click on the \"Copy to Drive\" button to be able to save your progress.\n",
        "\n",
        "The following cells are used to install the necessary packages and libraries for the exercise:"
      ]
    },
    {
      "cell_type": "code",
      "execution_count": null,
      "metadata": {
        "id": "0aP4EFSUX828"
      },
      "outputs": [],
      "source": [
        "!which python  # This displays which python is being used\n",
        "!pwd # This displays the current directory"
      ]
    },
    {
      "cell_type": "markdown",
      "metadata": {},
      "source": [
        "**IMPORTANT**:\n",
        "\n",
        " Interactive plots act strange in google colab, so after after running the following cell, restart your session (in the dropdown under \"Run all\")."
      ]
    },
    {
      "cell_type": "code",
      "execution_count": null,
      "metadata": {
        "id": "T4BQFHWa0CHF"
      },
      "outputs": [],
      "source": [
        "!pip3 install --quiet ipywidgets ipympl wget # Install necessary packages"
      ]
    },
    {
      "cell_type": "code",
      "execution_count": null,
      "metadata": {
        "ExecuteTime": {
          "end_time": "2024-10-09T17:18:20.869605Z",
          "start_time": "2024-10-09T17:18:20.865874Z"
        },
        "id": "Qt4p7aCyM8va"
      },
      "outputs": [],
      "source": [
        "platform = 'notebook'\n",
        "try:\n",
        "    import google.colab\n",
        "    from google.colab import output\n",
        "    platform = 'colab'\n",
        "    output.enable_custom_widget_manager()\n",
        "except:\n",
        "    pass\n",
        "print(f\"platform: {platform}\")"
      ]
    },
    {
      "cell_type": "code",
      "execution_count": null,
      "metadata": {
        "id": "7jBkms7XYFQN"
      },
      "outputs": [],
      "source": [
        "if platform == 'colab':\n",
        "    %matplotlib widget\n",
        "    from google.colab import output\n",
        "    output.enable_custom_widget_manager()\n",
        "else:\n",
        "    %matplotlib inline\n"
      ]
    },
    {
      "cell_type": "code",
      "execution_count": null,
      "metadata": {
        "ExecuteTime": {
          "end_time": "2024-10-09T17:18:20.873431Z",
          "start_time": "2024-10-09T17:18:20.871963Z"
        },
        "id": "8v_yBXoINEZl"
      },
      "outputs": [],
      "source": [
        "import wget\n",
        "import os\n",
        "\n",
        "# Define the URL and the output directory\n",
        "url = 'https://github.com/ManteLab/Iton_notebooks_public/raw/refs/heads/ex2/utils_ex2/utils.py'\n",
        "output_dir = 'utils_ex2'\n",
        "\n",
        "if not os.path.exists(output_dir):\n",
        "    # Create the directory if it doesn't already exist\n",
        "    os.makedirs(output_dir, exist_ok=True)\n",
        "\n",
        "    # Download the file into the specified directory\n",
        "    print(f\"Downloading file to '{output_dir}'...\")\n",
        "    filename = wget.download(url, out=output_dir)\n",
        "    print(f\"\\nFile successfully downloaded as: {filename}\")"
      ]
    },
    {
      "cell_type": "markdown",
      "metadata": {
        "collapsed": false,
        "id": "tIv7oQbk7wlf"
      },
      "source": [
        "## 1.1: Charging the capacitor in the parallel RC circuit <a class=\"anchor\" id=\"cprc\"></a>\n",
        "\n",
        "In the last exercise, we took a closer look at the <ins>Nernst equation</ins> and the <ins>GHK equation</ins>. We also introduced the <ins>series RC circuit</ins> and the <ins>time constant</ins>.\n",
        "\n",
        "These concepts help us to understand further how voltage gradients are established across cell membranes and how the temporal dynamics of these gradients charge and discharge a capacitor.\n",
        "\n",
        "In fact, we can <ins>model the passive properties of real neuronal cell membranes</ins> using the **parallel RC circuit** (note that the last exercise did only intruduce the series RC circuit).\n",
        "For this, we need an electrical circuit with a <ins>**capacitor** in parallel with a **resistor**</ins> that is <ins>in series with a **voltage source**</ins> (see figure below).\n",
        "- The **capacitor** represents the **lipid bilayer** of the membrane.\n",
        "- The **voltage source** represents the **Nernst potential** for a given ion.\n",
        "- The **resistor** represent the **ion channels** (**conductances**) in the membrane for a given ion.\n"
      ]
    },
    {
      "cell_type": "markdown",
      "metadata": {
        "id": "C2qKI8XHDAjW"
      },
      "source": [
        "![My Image](https://github.com/ManteLab/Iton_notebooks_public/blob/ex2/utils_ex2/ex2_parallel.png?raw=true)"
      ]
    },
    {
      "cell_type": "markdown",
      "metadata": {
        "id": "0FyJonoFDX4v"
      },
      "source": [
        "In section 2.a from the last exercise we used Euler's method to find the numerical solution for\n",
        "\n",
        "$\\begin{aligned}\n",
        "    \\frac{dV_C}{dt} = \\frac{V - V_C}{R \\cdot C} \\\\\n",
        "    \\end{aligned}$\n",
        "\n",
        "\n",
        "The solution was\n",
        "\n",
        "\n",
        "\n",
        "$V_C(t + \\Delta t) = V_C(t) + \\frac{V - V_C(t)}{R \\cdot C} \\cdot \\Delta t$ = $(1 - \\frac{\\Delta t}{R \\cdot C}) \\cdot V_C(t) + \\frac{\\Delta t}{R \\cdot C} \\cdot V$\n",
        "\n",
        "This equation nicely shows how the voltage accross a capacitor at time $t + \\Delta t$ is a weighted sum of the current capacitor voltage $V_C(t)$ and the applied voltage $V$, with the weights depending on the time step $\\Delta t$, the resistance $R$, and the capacitance $C$.\n",
        "\n",
        "In this new circuit, the current $I_{in}$ splits at the node - the equations above no longer apply."
      ]
    },
    {
      "cell_type": "markdown",
      "metadata": {
        "id": "1BxUwudT0CHK"
      },
      "source": [
        "---\n",
        "\n",
        "> **Assignment 1**\n",
        ">\n",
        "> Using KVL, KCL and Ohm's Law (see last exercise) mathematically describe how the voltage across the resistor changes over time when charing ($\\frac{dV}{dt} = ...$). Note that the total input current divides between the capacitor and the resistor, based on the rate of voltage change across the capacitor and the resistive load.\n",
        "\n",
        "**Solution 1**:\n",
        "\n",
        "\n",
        "---\n",
        "\n",
        "\n",
        "\n",
        "**Assignment 2**\n",
        ">\n",
        "> Using Euler's method find $V(t+\\Delta t)$ = ...\n",
        ">\n",
        "> If you found the correct equation in the previous assignment, you can now use Euler's method to find the numercial solution.\n",
        "\n",
        "**Solution 2**:\n",
        "\n",
        "---\n",
        "\n",
        "**Assignment 3**\n",
        ">\n",
        "> In section 2.b from last exercise we had set some parameters and you completed the function <ins>rc_euler</ins> by adding the missing equation. Thus, you were able to plot the charging and discharging dynamics for a series RC circuit. Let's try this for the parallel RC circuit.\n",
        ">\n",
        "> Complete the code below and plot the charing curve in the parallel RC circuit."
      ]
    },
    {
      "cell_type": "code",
      "execution_count": null,
      "metadata": {
        "ExecuteTime": {
          "end_time": "2024-10-09T21:53:21.266923Z",
          "start_time": "2024-10-09T21:53:21.187036Z"
        },
        "id": "C5xiG2KqDL_C"
      },
      "outputs": [],
      "source": [
        "import numpy as np\n",
        "def rc_parallel_circuit(V0, E_ion, R, C, I_in, t, dt):\n",
        "    V_t = np.zeros(t.shape)\n",
        "    V_t[0] = V0\n",
        "    for i in range(1, len(t)):\n",
        "        # Assignment: complete the equation below\n",
        "        V_t[i] = ...\n",
        "    return V_t\n",
        "\n",
        "V0 = 0\n",
        "E_ion = 0.3\n",
        "R = 1e2\n",
        "C = 1e-3\n",
        "I_in = 1e-3\n",
        "t = np.arange(0, 100, 0.1)\n",
        "dt = 0.001\n",
        "\n",
        "V_t = rc_parallel_circuit(V0, E_ion, R, C, I_in, t, dt)\n",
        "V_t.shape\n"
      ]
    },
    {
      "cell_type": "code",
      "execution_count": null,
      "metadata": {
        "ExecuteTime": {
          "end_time": "2024-10-09T21:53:22.390156Z",
          "start_time": "2024-10-09T21:53:21.986199Z"
        },
        "id": "Lj1vPPQ-Ya7R"
      },
      "outputs": [],
      "source": [
        "import matplotlib.pyplot as plt\n",
        "px = 1/plt.rcParams['figure.dpi']  # pixel in inches\n",
        "plt.close()\n",
        "fig, ax = plt.subplots(1, 1, figsize=(600*px, 300*px))\n",
        "ax.plot(t, V_t)  # plot in mV\n",
        "ax.set_xlabel('Time (ms)')\n",
        "ax.set_ylabel('Membrane potential (mV)')\n",
        "ax.set_title('Membrane potential of a neuron modeled as a parallel RC circuit')\n",
        "plt.grid()\n",
        "plt.show()"
      ]
    },
    {
      "cell_type": "markdown",
      "metadata": {
        "collapsed": false,
        "id": "BLcvEbOg7wlg"
      },
      "source": [
        "\n",
        "---\n",
        "\n",
        "## 1.2: The neuronal membrane: Multiple conductances <a class=\"anchor\" id=\"tnm\"></a>"
      ]
    },
    {
      "cell_type": "markdown",
      "metadata": {
        "collapsed": false,
        "id": "vxjjYJdf7wlg"
      },
      "source": [
        "We are now getting close to <ins>modelling the passive membrane properties</ins> of a real neuron. As you have seen, the Nernst potential calculates the reversal potential for each ion species seperately. To calculate the resting membrane potential, we need <ins>mainly three ion types</ins>: **sodium**, **potassium**, and **chloride**.\n",
        "\n",
        "In biological neurons, the <ins>reversal potential</ins> for these ions is given by their different concentrations inside and outside the cell. That means, <ins>every ion species</ins> must have its \"personal\" driving force - a **voltage source**, if you will. Additionally, the membrane is selectively permeable for each ion species (different ion channels allow only crossing for specific ions) - thus also the **conductances** are specific for the ion type ($g_{ion}$).\n",
        "\n",
        "We start with the following premises:\n",
        "- Three ions are required to make up the resting membrane potential\n",
        "- Each ion requires a voltage source and some conductance / resistance\n",
        "- The cell membrane itself is modelled as a capacitor in parallel to the resistor(s)\n"
      ]
    },
    {
      "cell_type": "markdown",
      "metadata": {
        "collapsed": false,
        "id": "FALFcIcu7wlg"
      },
      "source": [
        "Knowing how to model the **Nerst equation** (<ins>single ion</ins>) as an electrical circuit (**parallel RC**) and how the **GHK equation** is used to calculate the <ins>resting membrane potential including sodium, potassium and chloride ions</ins>, you can now get close to model the cell membrane of a neuron.\n",
        "\n",
        "---\n",
        "\n",
        "> **Assignment 4**\n",
        ">\n",
        "> Draw the equivalent electrical circuit modelling the cell membrane of a neuron with three conductances. Using this equivalent circuit, answer the following questions:\n",
        "> 1) What is the relationship between the permeability of the membrane and the resistance for that ion?\n",
        "> 1) How can you represent the electrical potential generated by an ion across the membrane?\n",
        "\n",
        "\n",
        "**Solution 4.1**:\n",
        "\n",
        "**Solution 4.2**:\n",
        "\n",
        "---\n",
        "\n",
        "> **Assignment 5**\n",
        ">\n",
        "> Using the equivalent circuit you just drew and Kirchhoff's laws, write the equation for the membrane potential of a neuron.\n",
        ">\n",
        "> $V_m =...$\n",
        "\n",
        "**Solution 5**:\n",
        "\n",
        "---\n",
        "\n",
        "> **Assignment 6**\n",
        ">\n",
        "> Write a function to simulate the membrane potential using the 3-conductance model."
      ]
    },
    {
      "cell_type": "code",
      "execution_count": null,
      "metadata": {
        "ExecuteTime": {
          "end_time": "2024-10-09T21:53:24.623951Z",
          "start_time": "2024-10-09T21:53:24.620842Z"
        },
        "id": "JKG4MV2l7wlh"
      },
      "outputs": [],
      "source": [
        "def membrane_potential(g_K, E_K, g_Na, E_Na, g_Cl, E_Cl):\n",
        "    Vm = ...\n",
        "    return Vm"
      ]
    },
    {
      "cell_type": "markdown",
      "metadata": {
        "id": "TXQee47k0CHM"
      },
      "source": [
        "---"
      ]
    },
    {
      "cell_type": "markdown",
      "metadata": {
        "collapsed": false,
        "id": "WgZQ8J_c7wlh"
      },
      "source": [
        "# 2. Cable equation <a class=\"anchor\" id=\"ce\"></a>\n"
      ]
    },
    {
      "cell_type": "markdown",
      "metadata": {
        "collapsed": false,
        "id": "LPuB4JTteXda"
      },
      "source": [
        "So far, we have discussed membrane properties in steady-state conditions and over time. In neurons, <ins>changes in membrane potential</ins> often initially occur at the tip of long, thin cell membrane protrusions - called **dendrites** - and then <ins>passivly conduct</ins> along these dendrites towards the cell body (**soma**). Large changes in the membrane potential can trigger **action potentials** (**spikes**) at the soma which are propagated actively along the **axon**.\n",
        "\n",
        "The conduction is most pronounced in long and narrow membrane compartments (dendrite and soma) which may be treated like a ‘cable’. If a cable (or an axon, for that matter), would receive a current input $I_0(t)$ at one end, the voltage change at location of input would depent on Ohms Law.\n",
        "\n",
        "A typical problem in **cable theory** (Wilfrid Rall, 1977) is to determine the distribution of voltage $V (x, t)$ along the cable (ditance to the site of input $x$) and over time $t$.\n",
        "\n",
        "![My Image](https://github.com/ManteLab/Iton_notebooks_public/blob/ex2/utils_ex2/ex2_cable.png?raw=true)\n"
      ]
    },
    {
      "cell_type": "markdown",
      "metadata": {
        "id": "KcVDoGV-XDRE"
      },
      "source": [
        "## 2.1: Cable resistance <a class=\"anchor\" id=\"cr\"></a>"
      ]
    },
    {
      "cell_type": "markdown",
      "metadata": {
        "collapsed": false,
        "id": "lrA1vAqXeXdb"
      },
      "source": [
        "Electrons when flowing through a cable (of copper for exemple) encounter a resistance due to the atoms in the cable. This is called the longitudinal resistance of the cable and is given by the formula:\n",
        "$R_L = \\frac{r_L \\Delta x}{\\pi a^2}$ where:\n",
        "- $r_L$ is the specific longitudinal resistance of the cable [$\\Omega \\cdot mm$],\n",
        "- $\\Delta x$ is the length of the cable [$mm$]."
      ]
    },
    {
      "cell_type": "markdown",
      "metadata": {
        "id": "Bd-zmF-J0CHN"
      },
      "source": [
        "---\n",
        "\n",
        ">**Assignment 7**\n",
        ">\n",
        "> Given these information and the depiction in the figure above answer the following questions:\n",
        ">   1. What is the unit of the longitudinal resistance $R_L$?\n",
        ">   2. If you double the radius $a$ of the cable, what happens to the longitudinal resistance $R_L$?\n",
        ">   3. If you double the length $\\Delta x$ of the cable, what happens to the longitudinal resistance $R_L$?\n",
        "\n",
        "**Solution 7.1**:\n",
        "\n",
        "\n",
        "**Solution 7.2**:\n",
        "\n",
        "\n",
        "**Solution 7.3**:\n",
        "\n",
        "---"
      ]
    },
    {
      "cell_type": "markdown",
      "metadata": {
        "id": "-Qsvpy7YXZaP"
      },
      "source": [
        "Note, that we can relate the voltage drop along the cable to the current injected into the cable by using Ohm's law:\n",
        "\n",
        "$\\Delta V = - I_L \\cdot R_L$ = $- I_L \\cdot \\frac{r_L \\Delta x}{\\pi a^2}$."
      ]
    },
    {
      "cell_type": "markdown",
      "metadata": {
        "collapsed": false,
        "id": "mJkkOAKmeXdb"
      },
      "source": [
        "Applying cable theory to neurons, we established that ions flowing along the longitudinal axis of an axon experience a restistance $R_L$. However, ions do not only travel along the x-axis but also in radial direction. The resitance, ions encounter there is called the membrane resistance and is given by the formula:\n",
        "\n",
        "$R_m = \\frac{r_m}{2 \\pi a \\Delta x}$ where:\n",
        "- $r_m$ is the specific membrane resistance [$\\Omega \\cdot mm^2$],\n",
        "- $\\Delta x$ is the length of the cable [$mm$].\n",
        "- $a$ is the radius of the cable [$mm$]."
      ]
    },
    {
      "cell_type": "markdown",
      "metadata": {
        "id": "srHJUaOw0CHO"
      },
      "source": [
        "---\n",
        "\n",
        "> **Assignment 8**\n",
        "> Given these information and the depiction in the figure above answer the following questions:\n",
        ">\n",
        "> 1. What is the unit of the membrane resistance $R_m$?\n",
        "> 2. If you double the radius $a$ of the cable, what happens to the specific membrane resistance $R_m$?\n",
        "> 3. If you double the length $\\Delta x$ of the cable, what happens to the specific membrane resistance $R_m$?\n",
        "\n",
        "**Solution 8.1**:\n",
        "\n",
        "\n",
        "**Solution 8.2**:\n",
        "\n",
        "\n",
        "**Solution 8.3**:\n",
        "\n",
        "\n",
        "---"
      ]
    },
    {
      "cell_type": "markdown",
      "metadata": {
        "id": "vI0o5QE1XdxW"
      },
      "source": [
        "## 2.2: The cable equation <a class=\"anchor\" id=\"tce\"></a>"
      ]
    },
    {
      "cell_type": "markdown",
      "metadata": {
        "collapsed": false,
        "id": "xyadC2AQeXdb"
      },
      "source": [
        "For a passive membrane, the membrane potential $V(x,t)$ is determined by solving the following partial differential equation (linear cable equation):\n",
        "$\\tau_m \\frac{\\partial v}{\\partial t} = \\lambda^2 \\frac{\\partial^2 v}{\\partial x^2} - v + r_m i_e$\n",
        "where:\n",
        "- The time-derivative term $\\frac{\\partial v}{\\partial t}$ relates to chargin of the membrane capacitance.\n",
        "- The second space-derivative term $\\frac{\\partial^2 v}{\\partial x^2}$ relates to accumulation of longitudinal currents.\n",
        "- $\\tau_m = r_m c_m$ sets the scale for the **temporal** variation in the membrane potential. $\\tau_m$ is called the membrane time constant.\n",
        "- $\\lambda = \\sqrt{\\frac{ar_m}{2r_l}}$ sets the scale for the **spatial** variation in the membrane potential. $\\lambda$ is called the electrotonic length constant.\n",
        "with:\n",
        "- $c_m$ is the specific membrane capacitance,\n",
        "- $a$ is the radius of the cable (axon in our case),\n",
        "- $v = V - V_{rest}$ is the membrane potential relative to the resting potential,\n",
        "- $r_m$ is the specific membrane resistance (= $1 M\\Omega \\cdot mm^2$),\n",
        "- $r_L$ is the longitudinal resistance (= $1 k\\Omega \\cdot mm$),\n",
        "- $i_e$ is the current injected into the cable."
      ]
    },
    {
      "cell_type": "markdown",
      "metadata": {
        "collapsed": false,
        "id": "Z1580G91eXdb"
      },
      "source": [
        "---\n",
        "\n",
        ">**Assignment 9**\n",
        ">\n",
        "> Given the information above answer the following questions:\n",
        ">\n",
        ">$r_m = 1 M\\Omega \\cdot mm^2$,\n",
        ">\n",
        ">$r_L = 1 k\\Omega \\cdot mm$,\n",
        ">\n",
        ">$a = 2 \\mu m$\n",
        ">\n",
        ">1. What is the unit of the  length constant $\\lambda$?\n",
        ">2. What is the unit of the membrane time constant $\\tau_m$?\n",
        "\n",
        "**Solution 9.1**:\n",
        "\n",
        "**Solution 9.2**:\n",
        "\n",
        "\n",
        "---"
      ]
    },
    {
      "cell_type": "markdown",
      "metadata": {
        "collapsed": false,
        "id": "k4lw_Bw8eXdb"
      },
      "source": [
        "## 2.3: Steady-state solution (infinite cable) <a class=\"anchor\" id=\"sss\"></a>"
      ]
    },
    {
      "cell_type": "markdown",
      "metadata": {
        "collapsed": false,
        "id": "xg5aWNIS7wlh"
      },
      "source": [
        "We assume an infinite long **cable** and inject a constant current $i_e$ locally at $x = 0$.\n",
        "\n",
        "The steady-state solution (so that $\\frac{\\partial v}{\\partial t} = 0 $) of the cable equation then is:\n",
        "\n",
        "$v(x) = \\frac{i_e R_L}{2} e^{\\frac{-|x|}{\\lambda}}$ with $R_L = \\frac{r_L \\lambda}{\\pi a^2}$."
      ]
    },
    {
      "cell_type": "code",
      "execution_count": null,
      "metadata": {
        "ExecuteTime": {
          "end_time": "2024-10-09T21:53:31.886917Z",
          "start_time": "2024-10-09T21:53:31.669299Z"
        },
        "id": "07_rgeNC7wlh"
      },
      "outputs": [],
      "source": [
        "import numpy as np\n",
        "import matplotlib.pyplot as plt\n",
        "px = 1/plt.rcParams['figure.dpi']  # pixel in inches\n",
        "platform = 'notebook'\n",
        "x = np.linspace(-10, 10, 1000)  # position along the cable in mm\n",
        "\n",
        "\n",
        "i_e = 1e-6  # injected current in ampere\n",
        "a = 2e-3  # radius of the cable in mm (2um)\n",
        "r_m = 1e6  # specific membrane resistance in Ohm * mm^2\n",
        "r_l = 1e3  # specific longitudinal resistance in Ohm * mm\n",
        "lambda_elc = np.sqrt((a*r_m) / (2*r_l))  #  length constant in mm\n",
        "print(f'Length constant: {lambda_elc:.2f} mm')\n",
        "R_l = r_l * lambda_elc / (np.pi * a**2)  # longitudinal resistance in Ohm\n",
        "\n",
        "v = (i_e * R_l / 2) * np.exp(-np.abs(x) / lambda_elc)  # membrane potential in mV\n",
        "v0 = (i_e * R_l / 2)\n",
        "\n",
        "# Plot the membrane potential along the cable\n",
        "%matplotlib inline\n",
        "plt.close()\n",
        "fig, ax = plt.subplots(1, 1, figsize=(600*px, 300*px))\n",
        "ax.plot(x, v)  # plot in mV\n",
        "ax.set_xlabel('x (mm)')\n",
        "ax.set_ylabel(r'$v$ (mV)')\n",
        "ax.set_title('Membrane potential along the cable \\n for ' + r'$i_e = 1 \\mu A, a = 2 \\mu m, r_m = 1 M\\Omega \\cdot mm^2, r_l = 1 k\\Omega \\cdot mm$')\n",
        "text_display = ax.text(0.2, 0.7, r'$\\lambda$ ' + f' = {lambda_elc:.2f} mm \\n' + r'$V(0) =$' +  f'{v0:.2f} mV', transform=ax.transAxes, fontsize=12, ha='center', bbox=dict(facecolor='white', alpha=0.7))\n",
        "ax.set_xticks(np.arange(-10, 11, 1))\n",
        "plt.grid()\n",
        "plt.show()"
      ]
    },
    {
      "cell_type": "markdown",
      "metadata": {
        "collapsed": false,
        "id": "ymgLbI-l7wlh"
      },
      "source": [
        "To get a better understanding for the parameters in the passive cable equation, you can use an interactive plot below to modify the specific resistances $r_L$ and $r_m$ as well as the amount of current injected $i_e$ (at $x=0$) and the radius of the denrite $a$."
      ]
    },
    {
      "cell_type": "code",
      "execution_count": null,
      "metadata": {
        "id": "Pt0Y8hdvbP-p"
      },
      "outputs": [],
      "source": [
        "%matplotlib widget\n",
        "# Interactive plots are strange in colab, so if you\n",
        "# are having issues with interactive plots, run this cell!\n"
      ]
    },
    {
      "cell_type": "code",
      "execution_count": null,
      "metadata": {
        "ExecuteTime": {
          "end_time": "2024-10-09T21:57:53.304853Z",
          "start_time": "2024-10-09T21:57:53.236015Z"
        },
        "id": "HCGLb2_x7wlh"
      },
      "outputs": [],
      "source": [
        "from utils_ex2.utils import plot_cable_v\n",
        "plt.close()\n",
        "\n",
        "if platform == 'colab':\n",
        "  %matplotlib widget\n",
        "\n",
        "plot_cable_v(y_axis_lim=100, plot_lambda=True) # y_axis_lim is the limit of the y-axis (in mV), default is 80"
      ]
    },
    {
      "cell_type": "markdown",
      "metadata": {
        "collapsed": false,
        "id": "bEDLBqc77wlh"
      },
      "source": [
        "---\n",
        "\n",
        ">**Assignment 10**\n",
        ">Using the provided information (cable equation and interactive plot), answer the following questions:\n",
        ">\n",
        ">1. What happens if you increase the radius $a$? (Hint: there is a second, not obvious effect which you can visualize in the interactive plot above by changing the `y_axis_lim` parameter in the function `plot_cable_v` to a lower value (e.g., 20 mV).\n",
        ">2. What happens if you increase the injected current $i_e$?\n",
        ">3. What happens if you increase the longitudinal resistance $R_L$? Why?\n",
        ">4. What happens if you increase the membrane resistance $R_m$? Why?\n",
        "\n",
        "**Solution 10.1**:\n",
        "\n",
        "**Solution 10.2**:\n",
        "\n",
        "**Solution 10.3**:\n",
        "\n",
        "**Solution 10.4**:\n",
        "\n",
        "\n",
        "---"
      ]
    },
    {
      "cell_type": "markdown",
      "metadata": {
        "id": "bcZtB22fdYnz"
      },
      "source": [
        "Did you wonder, where the <ins>current that changes our membrane potential</ins> comes from in the first place? In neurons, these inputs are usually caused by ions crossing the membrane via **open ion channels**. Why do they open? That depends on the ion channel and you will hear a lot more about this during the rest of the course. For now, we assume that the <ins>initial current input</ins> at $x=0$ <ins>is just a given</ins>.\n",
        "\n",
        "However, along the axon we find more ion channels (let's assume that they allow sodium ions to enter the axon, when open). These channels are likely closed but <ins>change their probability to open</ins> if the <ins>membrane potential at their location crosses a certain **threshold**</ins>. We call them **voltage-gates ion channels**."
      ]
    },
    {
      "cell_type": "markdown",
      "metadata": {
        "id": "BTjaroJ3dXKl"
      },
      "source": [
        "---\n",
        "\n",
        ">**Assignment 11**\n",
        ">\n",
        ">In the code for the interactive plot above, find the function `plot_cable_v` and change the value of the parameter `plot_lambda` to `True`, then rerun the cell. This will plot the vertical line at x=4mm, which represents twice the length constant $\\lambda$. It will also plot a horizontal line showing the membrane potential at x=4mm.\n",
        ">\n",
        ">Press the button $2\\lambda$ (above the ` Reset ` button). This will set $r_m = 6.4 MΩ·mm^2$, $r_l = 0.8 kΩ·mm$ and $a = 1 μm$. >It also sets the injected current $i_e = 0.39 μA$, resulting in a membrane potential of 100 mV at $x = 0$.\n",
        "\n",
        "---"
      ]
    },
    {
      "cell_type": "markdown",
      "metadata": {
        "id": "6WomTTjS0CHR"
      },
      "source": [
        "\n",
        "In the plot above, we generate a <ins>prolonged atrificial \"spike\"</ins> (assume constant current injection) at $x = 0$ to generate a peak voltage of 100mV.\n",
        "\n",
        "The voltage-gated sodium channels at $x = 2\\lambda = 4 mm$ could allow the artificial spike to actively propergate further if the membrane potential at location exceeded their opening-**theshold** voltage of 20mV (let the resting potential be 0V).\n"
      ]
    },
    {
      "cell_type": "markdown",
      "metadata": {
        "id": "faZSpNmK0CHR"
      },
      "source": [
        "---\n",
        "\n",
        ">**Assignment 12**\n",
        ">\n",
        ">1. Looking at the interactive plot above, will these settings allow the spike to be actively propagated beyond $x = 2\\lambda = 4 mm$?\n",
        "> 2. Double the radius of the axon. This will change $\\lambda$ but we keep the absolute position of the two nodes fixed i.e $x_0 = 0$ and $x_1 = 4 mm$. What happems to the membrane potential at $x=0$? How much current do we need to inject into the axon to again reach a membrane potential of 100mV at $x = 0$?\n",
        "> 3. After adjusting the injected current, do the new parameters allow the spike to be actively propagated beyond $x = 2\\lambda = 4 mm$?\n",
        "\n",
        "**Solution 12.1**:\n",
        "\n",
        "**Solution 12.2**:\n",
        "\n",
        "**Solution 12.3**:\n",
        "\n",
        "\n",
        "---"
      ]
    },
    {
      "cell_type": "markdown",
      "metadata": {
        "collapsed": false,
        "id": "ajTFK0FneXdc"
      },
      "source": [
        "## 2.4: An axon with three injection sites <a class=\"anchor\" id=\"axon\"></a>\n",
        "\n",
        "Next, we assume again an infinite cable but this time we inject constant currents $i_{1}$, $i_{2}$ and $i_{3}$ simultaneously at three locations: $x = 0$, $x = x_1$ and $x = x_2$.\n",
        "\n",
        "Here the linear cable equation that we have already introduced for all three injection sites:\n",
        "\n",
        "$\\tau_m \\frac{\\partial v_1}{\\partial t} = \\lambda^2 \\frac{\\partial^2 v_1}{\\partial x^2} - v + r_m i_{e_1}$ for $x = 0$\n",
        "\n",
        "$\\tau_m \\frac{\\partial v_2}{\\partial t} = \\lambda^2 \\frac{\\partial^2 v_2}{\\partial x^2} - v + r_m i_{e_2}$ for $x = x_1$\n",
        "\n",
        "$\\tau_m \\frac{\\partial v_3}{\\partial t} = \\lambda^2 \\frac{\\partial^2 v_3}{\\partial x^2} - v + r_m i_{e_3}$ for $x = x_2$\n",
        "\n",
        "Then the steady-state membrane potential at location $V(x)$ is given by :\n",
        "\n",
        "$V(x) = \\frac{R_L}{2} (i_{0} e^{\\frac{-|x - x_0|}{\\lambda}} + i_{1} e^{\\frac{-|x_1|}{\\lambda}} + i_{2} e^{\\frac{-|x - x_2|}{\\lambda}})$.\n"
      ]
    },
    {
      "cell_type": "code",
      "execution_count": null,
      "metadata": {
        "ExecuteTime": {
          "end_time": "2024-09-26T17:25:44.260761Z",
          "start_time": "2024-09-26T17:25:44.191669Z"
        },
        "id": "8PzLw9SLeXdc"
      },
      "outputs": [],
      "source": [
        "from utils_ex2.utils import plot_multi_injection\n",
        "if platform == 'colab':\n",
        "  %matplotlib widget\n",
        "plot_multi_injection(y_axis_lim=80)"
      ]
    },
    {
      "cell_type": "markdown",
      "metadata": {
        "id": "-u4oV6uC0CHX"
      },
      "source": [
        "In the last assignment we saw that input (current injection) at $x=0$ propagates along an axon where it may or may not trigger a spike at $x=4mm$. Although the mechanism of **action potential propagation** in biological axons is more complicated (we will hear about this later during the course), the general idea of what we saw, holds true.\n"
      ]
    },
    {
      "cell_type": "markdown",
      "metadata": {
        "id": "1UyuU3danwh2"
      },
      "source": [
        "\n",
        "---\n",
        "\n",
        ">**Assignment 13**\n",
        ">\n",
        ">In the **interactive plot** above you can change individual parameters of three current injections. Adjust the settings and observe, what changes. Note that $x_0$ can only occure to the left of $x_1$ and $x_2$ will only occure to the right of $x_1$.\n",
        "\n",
        "\n",
        "**Solution 13**:\n",
        "\n",
        "\n",
        "---\n"
      ]
    },
    {
      "cell_type": "markdown",
      "metadata": {
        "id": "1xyF7HdK0CHY"
      },
      "source": [
        "\n",
        "We use this example to showcase an interesting mechanism found in neurons: summation of inputs."
      ]
    },
    {
      "cell_type": "markdown",
      "metadata": {
        "id": "8eq1Mk0E0CHY"
      },
      "source": [
        "---\n",
        "\n",
        ">**Assignment 14**\n",
        ">\n",
        ">Compare the single-input case with the three-inputs case and try to answer the following questions:\n",
        ">\n",
        ">- Which of the two cases is more relevant for action potential propagation in axons and why?\n",
        ">- What exactly does the red line in the interactive plot above show and how relevant is this line for biological axons?\n",
        ">-  Try to identify three details in the cable equation models above that incorrecly, inadequately, incompletely or poorly represent the mechanisms in biological neurons.\n",
        "\n",
        "\n",
        "**Solution 14**:\n",
        "\n",
        "\n",
        "---"
      ]
    },
    {
      "cell_type": "markdown",
      "metadata": {
        "collapsed": false,
        "id": "F0w2_KGOeXdd"
      },
      "source": [
        "# 3. Integrate-and-Fire neuron and delayed synaptic inputs <a class=\"anchor\" id=\"if\"></a>"
      ]
    },
    {
      "cell_type": "markdown",
      "metadata": {
        "id": "cfaFyJ3Ikhwv"
      },
      "source": [
        "You now have a good understanding of **cable theory** and how passive conduction affects voltage distribution along a neuron’s axon or dendrite. As mentioned already, inputs arriving somewhere along dendrites passivly travel to the soma where they are **integrated**.\n",
        "\n",
        "The **cable equation** has provided us with the tools to calculate how signals <ins>attenuate and decay</ins> as they conduct along a dendrite. Building on this foundation, we introduce the **Integrate-and-No-Fire neuron model** — a simplified representation of **neuronal input integration**.\n",
        "\n",
        "The following properties of a neuron can be studied using the the Integrate-and-No-Fire model:\n",
        "\n",
        "  1.\t**Input integration**: How a neuron accumulates inputs from multiple synapses over time.\n",
        "  2.\t**Synaptic weights**: How varying synaptic strengths impact membrane potential changes.\n",
        "  3.\t**Delays**: How the physical properties of dendrites introduce delays in signal propagation.\n",
        "  4.\t**Summation**: How inputs arriving at different times and different locations along the dendrites are summed.\n",
        "\n"
      ]
    },
    {
      "cell_type": "markdown",
      "metadata": {
        "id": "5vofIVoSl70_"
      },
      "source": [
        "## 3.1: Delays: How cable theory affects synaptic inputs <a class=\"anchor\" id=\"cable\"></a>\n",
        "\n",
        "In the previous section, we have learned that the **passive properties** of **dendrites** cause the membrane potential to attenuate and decay as they travel towards the soma. Note, that passive propagation doesn't happen instantaneously. Aided by insights of **cable theory**, the delay  $d_i$ for a synaptic input located at a distance  $x_i$  is given by:\n",
        "\n",
        "\n",
        "$d_i = \\frac{x_i}{v}$\n",
        "\n",
        "where  $v$  is the propagation velocity along the dendrite, calculated using physical properties such as the length constant ${\\lambda}$ and the membrane time constant ${\\tau_m}$. $v$ is given by:\n",
        "\n",
        "$v = \\frac{2\\lambda}{\\tau_m}$\n",
        "\n",
        "These equations highlight how dendritic properties like resistance, capacitance, and geometry influence the time it takes for a synaptic input to arrive at the soma.\n",
        "\n"
      ]
    },
    {
      "cell_type": "markdown",
      "metadata": {
        "id": "Rd9bT38DnwCZ"
      },
      "source": [
        "## 3.2: The Integrate-and-No-Fire Model <a class=\"anchor\" id=\"inf\"></a>\n",
        "\n",
        "In the Integrate-and-No-Fire model, we model the neuron’s membrane potential  V(t) at the soma as the cumulative sum of all synaptic inputs that have arrived up to time $t$. Each synaptic input contributes to the membrane potential based on its:\n",
        "\n",
        "-\tSynaptic weight ( $w_i$ ): The strength of the synaptic input.\n",
        "-\tDelay ( $d_i$ ): The time it takes for the input to reach the soma.\n",
        "\n",
        "\n",
        "\n",
        "Mathematically, the membrane potential can be expressed as:\n",
        "\n",
        "\n",
        "$V(t) = V_{\\text{rest}} + \\sum_{i=1}^{N} \\sum_{j} w_i \\cdot \\delta(t - (s_{ij} + d_i))$\n",
        "\n",
        "-\t $V_{\\text{rest}}$ : Resting membrane potential (set to 0 for simplicity).\n",
        "-\t $N$ : Number of synapses.\n",
        "-\t $s_{ij}$ : Input times $j$ at synapse $i$ (note that multiple inputs could arrive at a single synapse).\n",
        "-\t $\\delta$ : Kronecker delta function, ensuring the input is considered only if $t = s_{ij} + d_i$ ."
      ]
    },
    {
      "cell_type": "code",
      "execution_count": null,
      "metadata": {
        "id": "5c4TfzpvBRx6"
      },
      "outputs": [],
      "source": [
        "from utils_ex2.utils import iplot_InoF_model\n",
        "iplot_InoF_model()"
      ]
    },
    {
      "cell_type": "markdown",
      "metadata": {
        "id": "2Is_1OiVgM6l"
      },
      "source": [
        "---\n",
        "\n",
        ">**Assignment 15**\n",
        ">\n",
        ">Without changing parameters in the interactive plot obove, look at the input times in all three synapses. How long do the delays $d_1$, $d_2$, and $d_3$ have to be, so that all three inputs arriveat the soma simultaneously at  t=50ms? Adjust the synaptic delays $d_i$ using the sliders and explain how this synchronization will affect the membrane potential at  t=50ms.\n",
        "\n",
        "**Solution 15**:\n",
        "\n",
        "---"
      ]
    },
    {
      "cell_type": "markdown",
      "metadata": {
        "id": "-AC-JEg4cFK2"
      },
      "source": [
        "Using the provided “Integrate-and-No-Fire” model, consider three synapses located along a dendrite at different distances from the soma:\n",
        "\n",
        "-\tSynapse 1 is located at a distance  $x_1$ = 1  mm from the soma.\n",
        "-\tSynapse 2 is located at  $x_2$ = 2  mm.\n",
        "-\tSynapse 3 is located at  $x_3$ = 3  mm.\n",
        "\n",
        "All synapses receive inputs at t=10ms and t=40ms and each input changes the membrane potential locally to +1mV.\n",
        "\n",
        "Assume the following parameters for the dendrite:\n",
        "\n",
        "-\tMembrane resistance per unit length:  $r_m$ = 1  MΩ·mm\n",
        "-\tAxial (internal) resistance per unit length:  $r_i$ = 100  Ω·mm\n",
        "-\tMembrane capacitance per unit length:  $c_m$ = 1  μF/mm\n",
        "- Uniform radius of $a$ = 1 mm\n",
        "- Membrane time constant $\\tau_m$ = 1 s\n",
        "-\tThe dendrite is modeled as a passive cable with uniform properties, assuming that only delay but not voltage is affected by the resistance.\n",
        "\n"
      ]
    },
    {
      "cell_type": "markdown",
      "metadata": {
        "id": "ER787_qugVSm"
      },
      "source": [
        "---\n",
        "\n",
        ">**Assignment 16**\n",
        ">\n",
        ">- Calculate the delays  $d_i$  for each synaptic input.\n",
        ">- Compute the somatic membrane potential  $V(t)$  at  t=50ms using the calculated delays (synaptic weights $w_1$ = 5, $w_2$ = 10, and $w_3$ = 15).\n",
        "\n",
        "**Solution 16**:\n",
        "\n",
        "---\n"
      ]
    },
    {
      "cell_type": "markdown",
      "metadata": {
        "id": "qpKqywhugZSo"
      },
      "source": [
        "Remember when we talked about action potential propagation along the axon (2.c) and wondered where the original input comes from? At the **axon hillock**, the area at the soma where the axon starts, synaptic inputs are integrated - if the membrane potential there crosses a certain theshold, the neuron will fire an action potential.\n",
        "\n",
        "Our \"Integrate-and-No-Fire” model does not implement this functionality by definition (that's why we call it \"no-fire\"). In the next exercise we will implement finally upgrade and work with an \"Integrate-and-Fire” model.\n",
        "\n",
        "Until then, consider a neuron that does have a threshold to trigger action potentials at $V_{th} = 15 mV$. It receives two synaptic inputs of $1mV$ that individually are not sufficient to cross the firing threshold. However, both inputs combined can cause the neuron to fire. The synaptic weights are  $w_1 = w_2 = 10$, and the delays are $d_1 = d_2 = 5 ms$.\n"
      ]
    },
    {
      "cell_type": "markdown",
      "metadata": {
        "id": "cQ5_3wa1ga3T"
      },
      "source": [
        "\n",
        "---\n",
        "\n",
        ">**Assignment 17**\n",
        ">\n",
        "> Determine at what time (if at all) the neuron fires given that:\n",
        ">- Inputs to synapse 1 arrive at  $t_1 = 10 \\text{ms}$  and  $t_2 = 30 \\text{ms}$.\n",
        ">- Inputs to synapse 2 arrive at  $t_1 = 10 \\text{ms}$  and  $t_2 = 12 \\text{ms}$.\n",
        "\n",
        "**Solution 17**:\n",
        "\n",
        "---"
      ]
    },
    {
      "cell_type": "markdown",
      "metadata": {
        "id": "sZCiUugOgqSb"
      },
      "source": [
        "\n",
        ">**Assignment 18**\n",
        ">\n",
        ">Modify the mathematical model to include membrane potential attenuation with a time constant  $\\tau_m$. Write the updated equation for $V(t)$ and explain how this changes the neuron’s response to synaptic inputs.\n",
        "\n",
        "**Solution 18**\n",
        "\n",
        "---"
      ]
    },
    {
      "cell_type": "markdown",
      "metadata": {
        "id": "KbusJouC0CHa"
      },
      "source": [
        "# End of this exercise session"
      ]
    }
  ],
  "metadata": {
    "colab": {
      "provenance": []
    },
    "kernelspec": {
      "display_name": "iton",
      "language": "python",
      "name": "python3"
    },
    "language_info": {
      "codemirror_mode": {
        "name": "ipython",
        "version": 3
      },
      "file_extension": ".py",
      "mimetype": "text/x-python",
      "name": "python",
      "nbconvert_exporter": "python",
      "pygments_lexer": "ipython3",
      "version": "3.12.11"
    }
  },
  "nbformat": 4,
  "nbformat_minor": 0
}
