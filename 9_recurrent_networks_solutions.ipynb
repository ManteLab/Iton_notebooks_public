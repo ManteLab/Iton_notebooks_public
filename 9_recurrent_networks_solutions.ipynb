{
 "cells": [
  {
   "cell_type": "markdown",
   "metadata": {},
   "source": [
    "# Exercise session 9: Recurrent Neural Networks\n",
    "\n",
    "In this notebook you will be presented with:\n",
    "1. Ring Network (hand-designed connectivity)\n",
    "2. Context-dependent Network (learned connectivity)"
   ]
  },
  {
   "cell_type": "code",
   "execution_count": null,
   "metadata": {},
   "outputs": [],
   "source": [
    "!mkdir utils_ex9\n",
    "!mkdir -p utils_ex9/rnn_data\n",
    "\n",
    "!wget -P utils_ex9/ https://github.com/ManteLab/Iton_notebooks_public/raw/refs/heads/main/utils_ex9/utils_ex9.py\n",
    "!wget -P utils_ex9/ https://github.com/ManteLab/Iton_notebooks_public/raw/refs/heads/main/utils_ex9/utils_ctx.py\n",
    "!wget -P utils_ex9/ https://github.com/ManteLab/Iton_notebooks_public/raw/refs/heads/main/utils_ex9/ctx_rnn.png\n",
    "\n",
    "!wget -P utils_ex9/rnn_data/ https://github.com/ManteLab/Iton_notebooks_public/raw/refs/heads/main/utils_ex9/rnn_data/rnn_weights.npz\n",
    "!wget -P utils_ex9/rnn_data/ https://github.com/ManteLab/Iton_notebooks_public/raw/refs/heads/main/utils_ex9/rnn_data/trial_data.npz\n",
    "\n",
    "from utils_ex9.utils_ex9 import *\n",
    "from utils_ex9.utils_ctx import *"
   ]
  },
  {
   "cell_type": "code",
   "execution_count": 1,
   "metadata": {},
   "outputs": [],
   "source": [
    "from utils_ex9.utils_ex9 import *\n",
    "from utils_ex9.utils_ctx import *"
   ]
  },
  {
   "cell_type": "markdown",
   "metadata": {},
   "source": [
    "## Part I. Ring Network (hand-designed connectivity) <a class=\"anchor\" id=\"rnn_ring\"></a>\n",
    "\n",
    "In this notebook we implement a ring network in a rate-based framework. This model was implemented in [Ben-Yishai et al PNAS 1995 - Theory of orientation tuning in visual cortex.](https://www.pnas.org/doi/10.1073/pnas.92.9.3844)\n",
    "\n",
    "We first model the inputs which depend on the orientation of visual stimuli. As described by Hubel and Wiesel, a neuron can respond preferentially to a visual stimulus of a certain orientation $\\theta_0$, where $\\theta_0$ is the orientation of a bar expressed in radians. It is thought that neurons from the visual cortex receive tuned inputs from the thalamus (i.e., the external inputs to the network). The magnitude of these inputs $h_i^{\\text{ext}}$ is proportional, for a given neuron, to the difference between its preferred orientation $\\theta_i$ and the orientation of the stimuli $\\theta_0$:\n",
    "\n",
    "\n",
    "\n",
    "\\begin{align*}\n",
    "  h_{i}^{ext}(\\theta_0) = c[(1-\\epsilon) + \\epsilon cos(2(\\theta_i-\\theta_0))]\\\\\n",
    "\\end{align*}\n",
    "\n",
    "where $c$ represents the contrast of the stimuli and $\\epsilon$ controls the selectivity of the input.\n",
    "\n",
    "The inputs to the neurons are non-linearly filtered given an activation function $g$. The function is defined by:\n",
    "    \n",
    "\n",
    "\\begin{align*}\n",
    "    g(h) = \n",
    "    \\begin{cases} \n",
    "      0 & \\text{if } h \\leq T \\\\\n",
    "      \\beta(h - T) & \\text{if } T < h \\leq T + 1/\\beta \\\\\n",
    "      1 & \\text{if } h > T + 1/\\beta\n",
    "    \\end{cases}\n",
    "\\end{align*}\n",
    "\n",
    "The rate-based neuron model is described by\n",
    "\\begin{align*}\n",
    "  \\tau \\frac{dm_i}{dt} = -m_i + g(h_i(\\theta_0))\\\\\n",
    "\\end{align*}\n",
    "\n",
    "where $m_i$ stands for the activity of neuron $i$, $\\tau$ is a time-constant, $g$ is the non-linear function and $h_i$ is the input to neuron $i$.\n"
   ]
  },
  {
   "cell_type": "markdown",
   "metadata": {},
   "source": [
    "### 1. Changing the stimulus strength in the absence of Jij connectivity <a class=\"anchor\" id=\"stim_strength_wocon\"></a>\n",
    "\n",
    "We are working with the simplest scenario for orientation tuning. This scenario corresponds to the case where the only source of input is the thalamus, i.e. there is no connection between neuron (Jij = 0).\n",
    "\n",
    "**Assignment 1** What do you observe as you increase the stimulus strength “c“?\n",
    "\n",
    "<details>\n",
    "<summary>Answer</summary>\n",
    "When we increase the stimulus strength, the “bump“ of activity gets wider and wider. Neurons that have a preferred orientation different than the orientation of the stimulus become active. The network loses its selectivity. \n",
    "</details>\n"
   ]
  },
  {
   "cell_type": "code",
   "execution_count": null,
   "metadata": {},
   "outputs": [
    {
     "data": {
      "application/vnd.jupyter.widget-view+json": {
       "model_id": "0b68a959ee2c49fa9ea17c732e806fd8",
       "version_major": 2,
       "version_minor": 0
      },
      "text/plain": [
       "interactive(children=(FloatSlider(value=1.0, description='c', max=20.0, min=0.1, step=2.0), Output()), _dom_cl…"
      ]
     },
     "metadata": {},
     "output_type": "display_data"
    }
   ],
   "source": [
    "change_input_strength_no_connectivity()"
   ]
  },
  {
   "cell_type": "markdown",
   "metadata": {},
   "source": [
    "### 2. Changing the stimulus strength in the presence of connectivity Jij <a class=\"anchor\" id=\"stim_strength_wcon\"></a>\n",
    "\n",
    "Next we add connections within the neurons. The connection between two neurons depends on their tuning in the following way:\n",
    "\n",
    "\\begin{align*}\n",
    "J_{ij} = -J_0 + J_2 \\cos(2(\\theta_i - \\theta_j))\n",
    "\\end{align*}\n",
    "\n",
    "With the recurrent connections, the input to the neurons becomes:\n",
    "\n",
    "\\begin{align*}\n",
    "    h_i(\\theta_0) = \\sum_{j=1}^{N} J_{ij} m_j + h_i^{\\text{ext}}(\\theta_0)\n",
    "\\end{align*}\n",
    "\n",
    "**Assignment 2** What do you observe as you increase the stimulus strength “c“ in the presence of recurrent connections?\n",
    "\n",
    "<details>\n",
    "<summary>Answer</summary>\n",
    "When we add recurrent connectivity, the “bump“ of activity does not get wider. The network keeps its selectivity. This is because the inhibitory term J0 introduces a competitive mechanism that prevents the network to respond to all orientations. This is called the “iceberg effect“, where J0 puts the iceberg deep down in the water such that the peak still looks sharp. One role of inhibition is thus to sharpen selectivity.\n",
    "</details>\n"
   ]
  },
  {
   "cell_type": "code",
   "execution_count": null,
   "metadata": {},
   "outputs": [],
   "source": [
    "change_input_strength_with_connectivity()"
   ]
  },
  {
   "cell_type": "markdown",
   "metadata": {},
   "source": [
    "### 3. Changing the stimulus orientation <a class=\"anchor\" id=\"change_stim_wcon\"></a>\n",
    "\n",
    "Run the network for 30 iterations with $\\theta_0 = 0$. Use the last vector of activity as the initial activity for another simulation and change $\\theta_0$ to $\\theta_0 = 2\\pi/3$. Run this simulation for 500 iterations. "
   ]
  },
  {
   "cell_type": "code",
   "execution_count": 2,
   "metadata": {},
   "outputs": [
    {
     "data": {
      "application/vnd.jupyter.widget-view+json": {
       "model_id": "1a489a9c7b0240e081c79b8f0e24ffcc",
       "version_major": 2,
       "version_minor": 0
      },
      "text/plain": [
       "interactive(children=(FloatSlider(value=0.0, description='c', step=20.0), Output()), _dom_classes=('widget-int…"
      ]
     },
     "metadata": {},
     "output_type": "display_data"
    }
   ],
   "source": [
    "\n",
    "change_input_orientation_with_connectivity()"
   ]
  },
  {
   "cell_type": "markdown",
   "metadata": {},
   "source": [
    "**Assignment 3** How does the network activity change when we change the stimulus orientation?\n",
    "\n",
    "<details>\n",
    "<summary>Answer</summary>\n",
    "If the new stimulus is weak, the “bump“ of activity does not move. If the new stimulus is strong, the “bump“ of activity moves to the new location indicated by the stimulus. \n",
    "\n",
    "The first interesting observation: If the new stimulus has the same strength as the recurrent connectivity, these two forces (the recurrent force that tries to keep the bump where it is and the external force that acts as a perturbation and tries to move the bump) will be summed, and thus the “bump“ will move to the average location (the average between initial &#952<sub>0</sub> = 0deg and new &#952<sub>0</sub> = 120deg is 60deg).\n",
    "\n",
    "The second interesting observation: The switch is done progressively and passes smoothly across different orientations. The bump slides to the new location. \n",
    "</details>\n"
   ]
  },
  {
   "cell_type": "markdown",
   "metadata": {},
   "source": [
    "Redo the previous experiment, but now in the absence of recurrent connections.\n",
    "\n",
    "\\begin{align*}\n",
    "  J0 = 0\\\\\n",
    "  J1 = 0\n",
    "\\end{align*}"
   ]
  },
  {
   "cell_type": "code",
   "execution_count": null,
   "metadata": {},
   "outputs": [],
   "source": [
    "change_input_orientation_without_connectivity()\n"
   ]
  },
  {
   "cell_type": "markdown",
   "metadata": {},
   "source": [
    "**Assignment 4** In the absence of recurrent connections, how does the network activity change when we change stimulus orientation?\n",
    "\n",
    "<details>\n",
    "<summary>Answer</summary>\n",
    "The “bump“ jumps at the new location.\n",
    "</details>\n"
   ]
  },
  {
   "cell_type": "markdown",
   "metadata": {},
   "source": [
    "### 4. Remove the stimulus in the presence of recurrent connections <a class=\"anchor\" id=\"remove_stim\"></a>"
   ]
  },
  {
   "cell_type": "markdown",
   "metadata": {},
   "source": [
    "In the next interactive plot, the slider has no functionality, since the input is always zero. So just run the cell and observe the behavior."
   ]
  },
  {
   "cell_type": "code",
   "execution_count": null,
   "metadata": {},
   "outputs": [],
   "source": [
    "remove_stimulus_with_connectivity()"
   ]
  },
  {
   "cell_type": "markdown",
   "metadata": {},
   "source": [
    "**Assignment 5** How does the network activity change when we remove the stimulus?\n",
    "\n",
    "<details>\n",
    "<summary>Answer</summary>\n",
    "The stimulus is still represented. We observe sustained activity because the system is bistable (has two fixed points - one at activity 0 and one at high activity). Note that finding the fixed points for such a non-linear system is done via numerical optimization and was not covered in this lecture. The observation that is bistable here arises from the fact that removing the stimulus, the network can still represent it (is at equilibrium). This is also a result of fine-tuning J0 and J2 (the terms that characterize the recurrent connectivity) and this effect is not present for any arbitrary values.\n",
    "</details>\n"
   ]
  },
  {
   "cell_type": "markdown",
   "metadata": {},
   "source": [
    "In the next interactive plot, the slider has no functionality, since the input is always zero. So just run the cell and observe the behavior."
   ]
  },
  {
   "cell_type": "code",
   "execution_count": null,
   "metadata": {},
   "outputs": [],
   "source": [
    "remove_stimulus_without_connectivity()"
   ]
  },
  {
   "cell_type": "markdown",
   "metadata": {},
   "source": [
    "**Assignment 6** In the absence of recurrent connection, how does the network activity change when we remove the stimulus?\n",
    "\n",
    "<details>\n",
    "<summary>Answer</summary>\n",
    "In the absence of recurrent connectivity, the stimulus representation disappears when the stimulus is removed.\n",
    "</details>\n"
   ]
  },
  {
   "cell_type": "markdown",
   "metadata": {},
   "source": [
    "After removing the inputs, the bump is still there. We observe sustained activity. This can only happen if the recurrent weights J are strong enough to form a bistable system, i.e. a system with two stable fixed points."
   ]
  },
  {
   "cell_type": "markdown",
   "metadata": {},
   "source": [
    "## Part II. Context-dependent network (learned connectivity) <a class=\"anchor\" id=\"rnn_ring\"></a>"
   ]
  },
  {
   "cell_type": "markdown",
   "metadata": {},
   "source": [
    "The Context-dependent RNN was introduced in Lecture 9. The RNN receives two noisy, sensory inputs (between -1 and 1) and two static, context inputs (0 or 1). The network is trained to select one of the two sensory inputs (depending on the currently active context input; i.e. select motion input in motion context) and integrate it over time. The network should reach choice 1 or choice 2 if the average of the contextually relevant sensory input is positive or negative, respectively."
   ]
  },
  {
   "cell_type": "markdown",
   "metadata": {},
   "source": [
    "In this exercise you will give different types of inputs to the network and observe the effect of the relevant and irrelevant input to different dimensions. We will analyze five dimensions shown in the figure above. N is the number of hidden units (100 in this case). The five dimensions are the input weights through which the motion input [N x 1], the color input [N x 1], the motion context [N X 1] and the color context [N x 1]; and the output weights through which the activity of the hidden neurons is transformed into a binary choice [N x 1]. \n",
    "\n",
    "We will analyze projections along these 5 dimensions. If $\\mathbf{X}$ is the activity of the hidden units with dimensionality $N \\times T$, then the projection along the motion input weights  $\\mathbf{W_{motion}}$ of dimensionality $N \\times 1$ will be  $\\mathbf{Y} = \\mathbf{X}^T\\mathbf{W}$ of dimensionality $T \\times 1$."
   ]
  },
  {
   "cell_type": "code",
   "execution_count": null,
   "metadata": {},
   "outputs": [],
   "source": [
    "show_network()"
   ]
  },
  {
   "cell_type": "markdown",
   "metadata": {},
   "source": [
    "Input type: You can choose the input to the network\n",
    "- Gaussian Input, where at each time-step a random draw from a Gaussian is sampled. If after T = 1400 time-steps, more samples are positive than negative, then the network will choose choice +1. Otherwise it will choose choice -1\n",
    "- Pulse Input, where at a few time-steps the network receives an input with amplitude 1 and all other time-steps the network receives no input (amplitude = 0)\n",
    "- Step input, where input is on for a few time-steps and then off\n",
    "\n",
    "Choice: Here you can change the sign of the input\n",
    "- For Gaussian Input with Choice = +1 choice 1, you can select that the majority of Gaussian samples are positive. Alternatively, for Choice = -1 choice 1, you can select that the majority of Gaussian samples are negative.\n",
    "- For Pulse Input and Step Input, you select whether the amplitude of pulses is +1 (Choice = +1 choice 1) or -1 (Choice = -1 choice 2)\n",
    "\n",
    "Context: Here you determine which input should the network integrate\n",
    "- For “motion context“, the network will integrate the motion input and for “color context“, the network will integrate the color input\n",
    "\n",
    "Add noise: Here you can add noise to each hidden unit, at each time-step. Noise here reffers to draw a random sample from a Gaussian distribution with mean 0 and standard deviation 0.1.\n",
    "\n",
    "The purple dot in 2-d projections marks the start of the trial (Time = 1)."
   ]
  },
  {
   "cell_type": "code",
   "execution_count": null,
   "metadata": {},
   "outputs": [],
   "source": [
    "plot_rnn()"
   ]
  },
  {
   "cell_type": "code",
   "execution_count": null,
   "metadata": {},
   "outputs": [],
   "source": [
    "generate_rnn_data()"
   ]
  },
  {
   "cell_type": "markdown",
   "metadata": {},
   "source": [
    "**Assignment 7** For gaussian input, motion context, Choice = +1 choice 1, which choice is selected? See plot 'projection onto output weights'.\n",
    "<details>\n",
    "<summary>Answer</summary>\n",
    "The projection along the output is towards the positive/values.\n",
    "</details>\n",
    "\n",
    "**Assignment 8** What happens if you change the context to color context?\n",
    "<details>\n",
    "<summary>Answer</summary>\n",
    "The projection along the output is towards the negative choice/values.\n",
    "</details>\n",
    "\n",
    "\n",
    "**Assignment 9** For pulse input, motion context, Choice = +1 choice 1, which choice is selected? See plot 'projection onto output weights'.\n",
    "<details>\n",
    "<summary>Answer</summary>\n",
    "Positive choice, see how each peak along the output axis correspond to the moment of a pulse in the motion input. After the pulse, the activity along the choice axis relaxes along the choice axis.\n",
    "</details>\n",
    "\n",
    "\n",
    "**Assignment 10** How does the time-course of the output projection compare between case #1 gaussian input, motion context, Choice = +1 choice 1 vs. case #2 pulse input, motion context, Choice = +1 choice 1?\n",
    "<details>\n",
    "<summary>Answer</summary>\n",
    "For the gaussian input, the network is constantly integrating (i.e. there is always input), but for the pulse input, the network is integrating when a pulse is given (see two pulses that are close in time, how the activity along the choice axis is added), but in the absence of input, we can observe relaxation dynamics.\n",
    "</details>\n",
    "\n",
    "**Assignment 11** For pulse input, motion context, choose Choice = -1 choice 2. What changes?\n",
    "<details>\n",
    "<summary>Answer</summary>\n",
    "The projection along the choice axis is towards the negative values.\n",
    "</details>\n",
    "\n",
    "**Assignment 12** Change the context to color context. What is reflected along the output projection?\n",
    "<details>\n",
    "<summary>Answer</summary>\n",
    "Each pulse in the motion input (irrelevant input) has an effect along the choice axis (very small peaks), but once the pulse finishes, the activity along the choice axis collapses back to where it was prior to the pulse (i.e. it is not integrated).\n",
    "</details>\n",
    "\n",
    "**Assignment 13** Go back to pulse input, motion context, choose Choice = -1 choice 2 and add noise to the hidden units. How does the projection along the output dimension change?\n",
    "<details>\n",
    "<summary>Answer</summary>\n",
    "The projection is more noisy, the effect of each pulse is not as visible as in the absence of noise.\n",
    "</details>\n",
    "\n",
    "**Assignment 14** The 2-d projections plot shows the projection along the context weights against the projection along the output weights. How do the trajectories evolve for some of the settings above?  \n",
    "<details>\n",
    "<summary>Answer</summary>\n",
    "For motion context, the activity moves along the horizontal axis towards the positive side (right) and for the color context, the activity moves towards the negative side. The network waits in one of these two locations for the sensory input (motion or color). Once the sensory input is given, the network moves along the vertical axis (up for choice +1 and down for choice -1).\n",
    "</details>\n",
    "\n"
   ]
  }
 ],
 "metadata": {
  "kernelspec": {
   "display_name": "Python 3",
   "language": "python",
   "name": "python3"
  },
  "language_info": {
   "codemirror_mode": {
    "name": "ipython",
    "version": 3
   },
   "file_extension": ".py",
   "mimetype": "text/x-python",
   "name": "python",
   "nbconvert_exporter": "python",
   "pygments_lexer": "ipython3",
   "version": "3.12.2"
  }
 },
 "nbformat": 4,
 "nbformat_minor": 2
}
