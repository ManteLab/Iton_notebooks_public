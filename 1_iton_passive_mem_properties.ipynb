{
 "cells": [
  {
   "cell_type": "code",
   "outputs": [],
   "source": [
    "#TODO: Add karthik's questions\n",
    "#TODO: Phrase questions and answers (1. done, todo: 2. and 3.)\n",
    "#TODO: 1. Group all plots in one image\n",
    "#TODO: just before 1.c, we can modify the question to be more challenging.\n",
    "#TODO: just before 3, 3 todos for 2.\n",
    "#TODO: 3. Two nodes \n",
    "#TODO: rephrase the questions, explain what is expected from the students ..."
   ],
   "metadata": {
    "collapsed": false,
    "ExecuteTime": {
     "end_time": "2024-09-19T23:03:28.562912Z",
     "start_time": "2024-09-19T23:03:28.558931Z"
    }
   },
   "execution_count": 1
  },
  {
   "cell_type": "code",
   "outputs": [
    {
     "name": "stdout",
     "output_type": "stream",
     "text": [
      "/Users/tristantorchet/Desktop/ITON/.venv/bin/python\r\n",
      "/Users/tristantorchet/Desktop/ITON\r\n"
     ]
    }
   ],
   "source": [
    "!which python\n",
    "!pwd"
   ],
   "metadata": {
    "collapsed": false,
    "ExecuteTime": {
     "end_time": "2024-09-19T22:45:27.296146Z",
     "start_time": "2024-09-19T22:45:27.053312Z"
    }
   },
   "execution_count": 2
  },
  {
   "cell_type": "code",
   "execution_count": 3,
   "metadata": {
    "collapsed": false,
    "ExecuteTime": {
     "end_time": "2024-09-19T22:45:27.300522Z",
     "start_time": "2024-09-19T22:45:27.298310Z"
    }
   },
   "outputs": [],
   "source": [
    "# !pip3 install scipy"
   ]
  },
  {
   "cell_type": "code",
   "execution_count": 4,
   "metadata": {
    "collapsed": false,
    "ExecuteTime": {
     "end_time": "2024-09-19T22:45:27.566024Z",
     "start_time": "2024-09-19T22:45:27.563960Z"
    }
   },
   "outputs": [],
   "source": [
    "# !pip3 install PyQt6"
   ]
  },
  {
   "cell_type": "markdown",
   "metadata": {
    "collapsed": false
   },
   "source": [
    "# Table of contents:\n",
    "\n",
    "* [1: Introduction to Neuroscience and Circuits](#I2N&C)\n",
    "    * [1.a Nernst Equation](#nerst-equation) \n",
    "    * [1.b Capacitor RC Circuit](#RC)\n",
    "    * [1.c Making the parallel](#parallel)\n",
    "* [2: Adding complexity](#complexity)\n",
    "    * [2.a Goldman-Hodgkin-Katz (GHK) Equation](#GHK)\n",
    "    * [2.b 3 conductances model](#3conductances)\n",
    "* [3: Passive cable equations](#passive)"
   ]
  },
  {
   "cell_type": "code",
   "execution_count": 18,
   "metadata": {
    "id": "czbJaPKJkj8p",
    "ExecuteTime": {
     "end_time": "2024-09-19T22:47:11.670111Z",
     "start_time": "2024-09-19T22:47:11.666766Z"
    }
   },
   "outputs": [],
   "source": [
    "import ipywidgets as widgets\n",
    "import numpy as np\n",
    "import matplotlib.pyplot as plt\n",
    "from matplotlib import cm\n",
    "%matplotlib notebook\n",
    "from IPython.display import display, clear_output\n",
    "\n",
    "from scipy.constants import R, physical_constants"
   ]
  },
  {
   "cell_type": "code",
   "execution_count": 6,
   "metadata": {
    "id": "6ioJSnRnk13K",
    "ExecuteTime": {
     "end_time": "2024-09-19T22:45:28.055566Z",
     "start_time": "2024-09-19T22:45:28.053136Z"
    }
   },
   "outputs": [],
   "source": [
    "# Faraday constant (F) from scipy's physical_constants\n",
    "F_constant = physical_constants['Faraday constant'][0]\n",
    "\n",
    "# Define constants\n",
    "T_default = 310  # Temperature in Kelvin (37°C, human body temperature)\n",
    "R_constant = R  # Universal gas constant in J/(mol·K)"
   ]
  },
  {
   "cell_type": "markdown",
   "metadata": {
    "collapsed": false
   },
   "source": [
    "# 1. Introduction to Neuroscience and Circuits <a name=\"I2N&C\"></a>"
   ]
  },
  {
   "cell_type": "markdown",
   "metadata": {
    "collapsed": false
   },
   "source": [
    "## 1.a Nernst Equation\n",
    "The Nernst equation calculates the equilibrium potential (membrane potential at which there is no net flow of ions) for a single ion based on its concentration gradient across the membrane.\n",
    "The Nernst equation is given by:\n",
    "$$E_{ion} = \\frac{RT}{zF} \\ln \\left( \\frac{[ion]_{out}}{[ion]_{in}} \\right)$$\n",
    "where:\n",
    "- $E_{ion}$ is the equilibrium potential for the ion in mV,\n",
    "- $R$ is the universal gas constant (8.314 J/(mol·K)),\n",
    "- $T$ is the temperature in Kelvin,\n",
    "- $z$ is the valence of the ion (e.g., +1 for sodium, +2 for calcium),\n",
    "- $F$ is the Faraday constant (96485 C/mol),\n",
    "- $[ion]_{out}$ and $[ion]_{in}$ are the extracellular and intracellular concentrations of the ion, respectively,\n",
    "- The logarithm is natural (base e)."
   ]
  },
  {
   "cell_type": "code",
   "execution_count": 7,
   "metadata": {
    "id": "h3upsVxmk5qj",
    "ExecuteTime": {
     "end_time": "2024-09-19T22:45:28.504047Z",
     "start_time": "2024-09-19T22:45:28.501577Z"
    }
   },
   "outputs": [],
   "source": [
    "# Nernst equation function\n",
    "def nernst_potential(z, Cin, Cout, T):\n",
    "    return (R_constant * T / (z * F_constant)) * np.log(Cout / Cin) * 1000  # in mV"
   ]
  },
  {
   "cell_type": "code",
   "execution_count": 8,
   "metadata": {
    "collapsed": false,
    "ExecuteTime": {
     "end_time": "2024-09-19T22:45:28.696071Z",
     "start_time": "2024-09-19T22:45:28.694041Z"
    }
   },
   "outputs": [],
   "source": [
    "#TODO: add slider animation"
   ]
  },
  {
   "cell_type": "markdown",
   "metadata": {
    "collapsed": false
   },
   "source": [
    "### 1.b Capacitor RC Circuit <a class=\"anchor\" id=\"RC\"></a>"
   ]
  },
  {
   "cell_type": "markdown",
   "metadata": {
    "collapsed": false
   },
   "source": [
    "**Exercise**:\n",
    "  - Simulate the charging of an RC circuit using numerical methods.\n",
    "\n",
    "**Model**:\n",
    "- The voltage and the current of a capacitor are related by the equation $I = C \\frac{dV}{dt}$, where $I$ is the current, $C$ is the capacitance, and $V$ is the voltage across the capacitor.\n",
    "- The voltage across the resistor is given by Ohm's law: $V = I \\cdot R$, where $V$ is the voltage, $I$ is the current, and $R$ is the resistance."
   ]
  },
  {
   "cell_type": "markdown",
   "metadata": {
    "collapsed": false
   },
   "source": [
    "<img src=\"images_ex1/rc_circuit.png\" width=\"500\"/>"
   ]
  },
  {
   "cell_type": "markdown",
   "metadata": {
    "collapsed": false
   },
   "source": [
    "- Some useful relationships for this analysis are Ohm’s law and Kirchhoff’s laws.\n",
    "  - Ohm’s Law: $V = I · R$ (voltage equals current times resistance)\n",
    "  - Kirchhoff’s Current Law ($KCL$): The sum of all currents entering and leaving any node in a circuit is zero.\n",
    "  - Kirchhoff’s Voltage Law ($KVL$): The sum of all voltages around a closed loop is equal to zero.\n",
    "<img src=\"images_ex1/KCL_KVL.jpeg\">"
   ]
  },
  {
   "cell_type": "markdown",
   "source": [
    "### Circuit Analysis\n",
    "**Question**: Using KVL analyze the RC-series circuit and write the differential equation for the circuit.\n",
    "**Answer**:\n",
    "Using KVL, we can write the following differential equation for the circuit:\n",
    "$\\begin{aligned}\n",
    "    V = V_R + V_C\\\\\n",
    "    \\end{aligned}$\n",
    "Using Ohm's law, we get:\n",
    "$\\begin{aligned}\n",
    "    V = I*R + V_C \\\\\n",
    "    \\end{aligned}$\n",
    "Using the relationship between the current and the voltage across the capacitor, we get:\n",
    "$\\begin{aligned}\n",
    "    V = C * \\frac{dV_C}{dt} * R + V_C \\\\\n",
    "    \\end{aligned}$\n",
    "Finally, we get the following differential equation:\n",
    "$\\begin{aligned}\n",
    "    \\frac{dV_C}{dt} = \\frac{V - V_C}{R * C} \\\\\n",
    "    \\end{aligned}$"
   ],
   "metadata": {
    "collapsed": false
   }
  },
  {
   "cell_type": "markdown",
   "source": [
    "There are two ways of solving this differential equation. You can use Analytical methods or Numerical methods.\n",
    "\n",
    "### Analytical solution \n",
    "\n",
    "This is a first-order linear differential equation that can be solved analytically to find $V_C(t)$.\n",
    "\n",
    "**Charging**: Assuming that \n",
    "- initially the capacitor is discharged i.e. $V_C(t=0) = 0$\n",
    "- the voltage source is $V$\n",
    "\n",
    "The solution is $V_C(t) = V * (1 - e^{-t / (R * C)})$\n",
    "\n",
    "**Discharging**: Assuming that\n",
    "\n",
    "- initially the capacitor is charged i.e. $V_C(t=0) = V_0$\n",
    "- the voltage source is $0$\n",
    "\n",
    "The solution is $V_C(t) = V_0 * e^{-t / (R * C)}$ \n",
    "\n",
    "### Numerical solution:\n",
    "We can also simulate the charging and the discharging of the RC circuit using numerical methods like Euler's method:\n",
    "Approximating $\\frac{dV_C}{dt}$ as $\\frac{V_C(t + \\Delta t) - V_C(t)}{\\Delta t}$, we get the following update rule: \n",
    "$\\begin{aligned}\n",
    "    \\frac{dV_C}{dt} \\approx \\frac{V_C(t + \\Delta t) - V_C(t)}{\\Delta t} = \\frac{V - V_C(t)}{R * C} \\\\\n",
    "    \\end{aligned}$ \n",
    "$\\begin{aligned}\n",
    "    \\Leftrightarrow V_C(t + \\Delta t) = V_C(t) + \\frac{V - V_C(t)}{R * C} * \\Delta t \\\\\n",
    "    \\end{aligned}$\n",
    "$\\begin{aligned}\n",
    "    \\Leftrightarrow V_C(t + \\Delta t) = (1 - \\frac{\\Delta t}{R * C}) * V_C(t) + \\frac{\\Delta t}{R * C} * V \\\\\n",
    "    \\end{aligned}$\n",
    "  \n",
    "Rearranging terms, we get $V_C(t + \\Delta t) = V_C(t) + \\frac{V - V_C(t)}{R * C} * \\Delta t$ = $(1 - \\frac{\\Delta t}{R * C}) * V_C(t) + \\frac{\\Delta t}{R * C} * V$\n",
    "For small $x$ we can approximate $(1-x) \\approx e^{-x}$, so the equation becomes $V_C(t + \\Delta t) = e^{-\\frac{\\Delta t}{R * C}} * V_C(t) + (1 - e^{-\\frac{\\Delta t}{R * C}}) * V$\n",
    "We get a <ins>unique</ins> equation for the charging and discharging of the capacitor."
   ],
   "metadata": {
    "collapsed": false
   }
  },
  {
   "cell_type": "code",
   "execution_count": 10,
   "metadata": {
    "collapsed": false,
    "ExecuteTime": {
     "end_time": "2024-09-19T22:45:31.030889Z",
     "start_time": "2024-09-19T22:45:31.027442Z"
    }
   },
   "outputs": [],
   "source": [
    "# Complete the function below to simulate the charging of an RC circuit using Euler's method\n",
    "import numpy as np\n",
    "\n",
    "# We want to simulate 100 ms of charging with a time step of 1 ms, so you need to define the time array to have enough points to cover this duration\n",
    "t = np.arange(0, 100, 1)  # Time array from 0 to 100 ms with a step of 1 ms (WARNING: unit in ms)\n",
    "\n",
    "\n",
    "Vs = 5  # The value of the voltage source is 1 V\n",
    "V0 = 0  # The initial voltage across the capacitor is 0 V\n",
    "R = 10000  # The resistance is 10 kOhm\n",
    "C = 0.000001 # The capacitance is 1 mF"
   ]
  },
  {
   "cell_type": "code",
   "outputs": [],
   "source": [
    "def rc_euler(Vs, V0, R, C, dt, t):\n",
    "    V_t = np.zeros(t.shape)\n",
    "    V_t[0] = V0\n",
    "    for i in range(1, len(t)):\n",
    "        V_t[i] = ... \n",
    "        # Answer: \n",
    "        # V_t[i] = (1 - np.exp(-dt / (R*C)))*Vs + np.exp(-dt / (R * C)) * V_t[i - 1]\n",
    "    return V_t"
   ],
   "metadata": {
    "collapsed": false
   }
  },
  {
   "cell_type": "code",
   "execution_count": 11,
   "metadata": {
    "collapsed": false,
    "ExecuteTime": {
     "end_time": "2024-09-19T22:45:31.323748Z",
     "start_time": "2024-09-19T22:45:31.320847Z"
    }
   },
   "outputs": [],
   "source": [
    "def rc_charging_exact(Vs, R, C, t):\n",
    "    return Vs * (1 - np.exp(-(t/1000) / (R * C)))\n",
    "\n",
    "def rc_discharging_exact(V0, R, C, t):\n",
    "    return V0 * np.exp(-(t/1000) / (R * C))"
   ]
  },
  {
   "cell_type": "code",
   "execution_count": 12,
   "metadata": {
    "collapsed": false,
    "ExecuteTime": {
     "end_time": "2024-09-19T22:45:31.744090Z",
     "start_time": "2024-09-19T22:45:31.740290Z"
    }
   },
   "outputs": [],
   "source": [
    "# Simulate the charging and discharging of the RC circuit\n",
    "dt = 0.001  # Time step of 1 ms\n",
    "\n",
    "# We define the initial conditions for the charging and discharging\n",
    "Vs_charging, Vs_discharging = 5, 0\n",
    "V0_charging, V0_discharging = 0, 3\n",
    "\n",
    "\n",
    "# Question: simulate the charging and discharging of the RC circuit using Euler's method and the exact solution\n",
    "# Use the previously defined rc_euler, rc_charging_exact, rc_discharging_exact, Vs_charging, Vs_discharging, V0_charging, V0_discharging, R, C, and t \n",
    "Vc_euler_charging    = ...\n",
    "Vc_euler_discharging = ...\n",
    "Vc_exact_charging    = ...\n",
    "Vc_exact_discharging = ...\n",
    "\n",
    "# Answer:\n",
    "# Vc_euler_charging    = rc_euler(Vs_charging,    V0_charging,    R, C, dt, t)  # Use a time step of 1 ms\n",
    "# Vc_euler_discharging = rc_euler(Vs_discharging, V0_discharging, R, C, dt, t)  # Use a time step of 1 ms\n",
    "# Vc_exact_charging    = rc_charging_exact(   Vs_charging,    R, C, t)  # Use a time step of 1 ms\n",
    "# Vc_exact_discharging = rc_discharging_exact(V0_discharging, R, C, t)  # Use a time step of 1 ms\n"
   ]
  },
  {
   "cell_type": "markdown",
   "metadata": {
    "collapsed": false
   },
   "source": [
    "You generated the data for the charging and discharging of the RC circuit, you can plot the results and compare the numerical solution using Euler's method with the exact solution."
   ]
  },
  {
   "cell_type": "code",
   "execution_count": 14,
   "metadata": {
    "collapsed": false,
    "ExecuteTime": {
     "end_time": "2024-09-19T22:45:33.434Z",
     "start_time": "2024-09-19T22:45:33.198988Z"
    }
   },
   "outputs": [
    {
     "data": {
      "text/plain": "<Figure size 800x400 with 1 Axes>",
      "image/png": "[encoded data removed]"
     },
     "metadata": {},
     "output_type": "display_data"
    }
   ],
   "source": [
    "import matplotlib.pyplot as plt\n",
    "\n",
    "# clear the plot\n",
    "plt.close()\n",
    "px = 1/plt.rcParams['figure.dpi']  # pixel in inches\n",
    "fig, ax = plt.subplots(figsize=(800*px, 400*px))\n",
    "ax.plot(t, Vc_euler_charging,    label='Charging - Euler\\'s',    linestyle='solid', linewidth=400*px)\n",
    "ax.plot(t, Vc_exact_charging,    label='Charging - Exact',       linestyle='dashed', linewidth=400*px)\n",
    "ax.plot(t, Vc_euler_discharging, label='Discharging - Euler\\'s', linestyle='solid', linewidth=400*px)\n",
    "ax.plot(t, Vc_exact_discharging, label='Discharging - Exact',    linestyle='dashed', linewidth=400*px, color='black')\n",
    "# plot a line at Vs\n",
    "ax.axhline(y=Vs, color='r', linestyle='--', label='Vs charging')\n",
    "ax.set_xlabel('Time (ms)')\n",
    "ax.set_ylabel(r'$V_C$ (V)')\n",
    "ax.set_title(fr'RC Circuit Charging - $V_S={Vs} V$, $R={R} \\Omega$, $C={C} F$')\n",
    "ax.legend()\n",
    "plt.grid()\n",
    "plt.show()"
   ]
  },
  {
   "cell_type": "markdown",
   "metadata": {
    "collapsed": false
   },
   "source": [
    "**Questions**: What can you say about Euler's method compared to the exact solution?\n",
    "**Answer**: They are very close to each other. The Euler's method is a good approximation for the charging and discharging of the RC circuit."
   ]
  },
  {
   "cell_type": "markdown",
   "metadata": {
    "collapsed": false
   },
   "source": [
    "To get a better understanding of the charging and discharging of the RC circuit, you can use an interactive plot to modify the values of $V_S$, $R$, $C$."
   ]
  },
  {
   "cell_type": "code",
   "execution_count": 19,
   "metadata": {
    "collapsed": false,
    "ExecuteTime": {
     "end_time": "2024-09-19T22:47:31.964124Z",
     "start_time": "2024-09-19T22:47:31.920926Z"
    }
   },
   "outputs": [
    {
     "data": {
      "text/plain": "<IPython.core.display.Javascript object>",
      "application/javascript": "/* Put everything inside the global mpl namespace */\n/* global mpl */\nwindow.mpl = {};\n\nmpl.get_websocket_type = function () {\n    if (typeof WebSocket !== 'undefined') {\n        return WebSocket;\n    } else if (typeof MozWebSocket !== 'undefined') {\n        return MozWebSocket;\n    } else {\n        alert(\n            'Your browser does not have WebSocket support. ' +\n                'Please try Chrome, Safari or Firefox ≥ 6. ' +\n                'Firefox 4 and 5 are also supported but you ' +\n                'have to enable WebSockets in about:config.'\n        );\n    }\n};\n\nmpl.figure = function (figure_id, websocket, ondownload, parent_element) {\n    this.id = figure_id;\n\n    this.ws = websocket;\n\n    this.supports_binary = this.ws.binaryType !== undefined;\n\n    if (!this.supports_binary) {\n        var warnings = document.getElementById('mpl-warnings');\n        if (warnings) {\n            warnings.style.display = 'block';\n            warnings.textContent =\n                'This browser does not support binary websocket messages. ' +\n                'Performance may be slow.';\n        }\n    }\n\n    this.imageObj = new Image();\n\n    this.context = undefined;\n    this.message = undefined;\n    this.canvas = undefined;\n    this.rubberband_canvas = undefined;\n    this.rubberband_context = undefined;\n    this.format_dropdown = undefined;\n\n    this.image_mode = 'full';\n\n    this.root = document.createElement('div');\n    this.root.setAttribute('style', 'display: inline-block');\n    this._root_extra_style(this.root);\n\n    parent_element.appendChild(this.root);\n\n    this._init_header(this);\n    this._init_canvas(this);\n    this._init_toolbar(this);\n\n    var fig = this;\n\n    this.waiting = false;\n\n    this.ws.onopen = function () {\n        fig.send_message('supports_binary', { value: fig.supports_binary });\n        fig.send_message('send_image_mode', {});\n        if (fig.ratio !== 1) {\n            fig.send_message('set_device_pixel_ratio', {\n                device_pixel_ratio: fig.ratio,\n            });\n        }\n        fig.send_message('refresh', {});\n    };\n\n    this.imageObj.onload = function () {\n        if (fig.image_mode === 'full') {\n            // Full images could contain transparency (where diff images\n            // almost always do), so we need to clear the canvas so that\n            // there is no ghosting.\n            fig.context.clearRect(0, 0, fig.canvas.width, fig.canvas.height);\n        }\n        fig.context.drawImage(fig.imageObj, 0, 0);\n    };\n\n    this.imageObj.onunload = function () {\n        fig.ws.close();\n    };\n\n    this.ws.onmessage = this._make_on_message_function(this);\n\n    this.ondownload = ondownload;\n};\n\nmpl.figure.prototype._init_header = function () {\n    var titlebar = document.createElement('div');\n    titlebar.classList =\n        'ui-dialog-titlebar ui-widget-header ui-corner-all ui-helper-clearfix';\n    var titletext = document.createElement('div');\n    titletext.classList = 'ui-dialog-title';\n    titletext.setAttribute(\n        'style',\n        'width: 100%; text-align: center; padding: 3px;'\n    );\n    titlebar.appendChild(titletext);\n    this.root.appendChild(titlebar);\n    this.header = titletext;\n};\n\nmpl.figure.prototype._canvas_extra_style = function (_canvas_div) {};\n\nmpl.figure.prototype._root_extra_style = function (_canvas_div) {};\n\nmpl.figure.prototype._init_canvas = function () {\n    var fig = this;\n\n    var canvas_div = (this.canvas_div = document.createElement('div'));\n    canvas_div.setAttribute('tabindex', '0');\n    canvas_div.setAttribute(\n        'style',\n        'border: 1px solid #ddd;' +\n            'box-sizing: content-box;' +\n            'clear: both;' +\n            'min-height: 1px;' +\n            'min-width: 1px;' +\n            'outline: 0;' +\n            'overflow: hidden;' +\n            'position: relative;' +\n            'resize: both;' +\n            'z-index: 2;'\n    );\n\n    function on_keyboard_event_closure(name) {\n        return function (event) {\n            return fig.key_event(event, name);\n        };\n    }\n\n    canvas_div.addEventListener(\n        'keydown',\n        on_keyboard_event_closure('key_press')\n    );\n    canvas_div.addEventListener(\n        'keyup',\n        on_keyboard_event_closure('key_release')\n    );\n\n    this._canvas_extra_style(canvas_div);\n    this.root.appendChild(canvas_div);\n\n    var canvas = (this.canvas = document.createElement('canvas'));\n    canvas.classList.add('mpl-canvas');\n    canvas.setAttribute(\n        'style',\n        'box-sizing: content-box;' +\n            'pointer-events: none;' +\n            'position: relative;' +\n            'z-index: 0;'\n    );\n\n    this.context = canvas.getContext('2d');\n\n    var backingStore =\n        this.context.backingStorePixelRatio ||\n        this.context.webkitBackingStorePixelRatio ||\n        this.context.mozBackingStorePixelRatio ||\n        this.context.msBackingStorePixelRatio ||\n        this.context.oBackingStorePixelRatio ||\n        this.context.backingStorePixelRatio ||\n        1;\n\n    this.ratio = (window.devicePixelRatio || 1) / backingStore;\n\n    var rubberband_canvas = (this.rubberband_canvas = document.createElement(\n        'canvas'\n    ));\n    rubberband_canvas.setAttribute(\n        'style',\n        'box-sizing: content-box;' +\n            'left: 0;' +\n            'pointer-events: none;' +\n            'position: absolute;' +\n            'top: 0;' +\n            'z-index: 1;'\n    );\n\n    // Apply a ponyfill if ResizeObserver is not implemented by browser.\n    if (this.ResizeObserver === undefined) {\n        if (window.ResizeObserver !== undefined) {\n            this.ResizeObserver = window.ResizeObserver;\n        } else {\n            var obs = _JSXTOOLS_RESIZE_OBSERVER({});\n            this.ResizeObserver = obs.ResizeObserver;\n        }\n    }\n\n    this.resizeObserverInstance = new this.ResizeObserver(function (entries) {\n        // There's no need to resize if the WebSocket is not connected:\n        // - If it is still connecting, then we will get an initial resize from\n        //   Python once it connects.\n        // - If it has disconnected, then resizing will clear the canvas and\n        //   never get anything back to refill it, so better to not resize and\n        //   keep something visible.\n        if (fig.ws.readyState != 1) {\n            return;\n        }\n        var nentries = entries.length;\n        for (var i = 0; i < nentries; i++) {\n            var entry = entries[i];\n            var width, height;\n            if (entry.contentBoxSize) {\n                if (entry.contentBoxSize instanceof Array) {\n                    // Chrome 84 implements new version of spec.\n                    width = entry.contentBoxSize[0].inlineSize;\n                    height = entry.contentBoxSize[0].blockSize;\n                } else {\n                    // Firefox implements old version of spec.\n                    width = entry.contentBoxSize.inlineSize;\n                    height = entry.contentBoxSize.blockSize;\n                }\n            } else {\n                // Chrome <84 implements even older version of spec.\n                width = entry.contentRect.width;\n                height = entry.contentRect.height;\n            }\n\n            // Keep the size of the canvas and rubber band canvas in sync with\n            // the canvas container.\n            if (entry.devicePixelContentBoxSize) {\n                // Chrome 84 implements new version of spec.\n                canvas.setAttribute(\n                    'width',\n                    entry.devicePixelContentBoxSize[0].inlineSize\n                );\n                canvas.setAttribute(\n                    'height',\n                    entry.devicePixelContentBoxSize[0].blockSize\n                );\n            } else {\n                canvas.setAttribute('width', width * fig.ratio);\n                canvas.setAttribute('height', height * fig.ratio);\n            }\n            /* This rescales the canvas back to display pixels, so that it\n             * appears correct on HiDPI screens. */\n            canvas.style.width = width + 'px';\n            canvas.style.height = height + 'px';\n\n            rubberband_canvas.setAttribute('width', width);\n            rubberband_canvas.setAttribute('height', height);\n\n            // And update the size in Python. We ignore the initial 0/0 size\n            // that occurs as the element is placed into the DOM, which should\n            // otherwise not happen due to the minimum size styling.\n            if (width != 0 && height != 0) {\n                fig.request_resize(width, height);\n            }\n        }\n    });\n    this.resizeObserverInstance.observe(canvas_div);\n\n    function on_mouse_event_closure(name) {\n        /* User Agent sniffing is bad, but WebKit is busted:\n         * https://bugs.webkit.org/show_bug.cgi?id=144526\n         * https://bugs.webkit.org/show_bug.cgi?id=181818\n         * The worst that happens here is that they get an extra browser\n         * selection when dragging, if this check fails to catch them.\n         */\n        var UA = navigator.userAgent;\n        var isWebKit = /AppleWebKit/.test(UA) && !/Chrome/.test(UA);\n        if(isWebKit) {\n            return function (event) {\n                /* This prevents the web browser from automatically changing to\n                 * the text insertion cursor when the button is pressed. We\n                 * want to control all of the cursor setting manually through\n                 * the 'cursor' event from matplotlib */\n                event.preventDefault()\n                return fig.mouse_event(event, name);\n            };\n        } else {\n            return function (event) {\n                return fig.mouse_event(event, name);\n            };\n        }\n    }\n\n    canvas_div.addEventListener(\n        'mousedown',\n        on_mouse_event_closure('button_press')\n    );\n    canvas_div.addEventListener(\n        'mouseup',\n        on_mouse_event_closure('button_release')\n    );\n    canvas_div.addEventListener(\n        'dblclick',\n        on_mouse_event_closure('dblclick')\n    );\n    // Throttle sequential mouse events to 1 every 20ms.\n    canvas_div.addEventListener(\n        'mousemove',\n        on_mouse_event_closure('motion_notify')\n    );\n\n    canvas_div.addEventListener(\n        'mouseenter',\n        on_mouse_event_closure('figure_enter')\n    );\n    canvas_div.addEventListener(\n        'mouseleave',\n        on_mouse_event_closure('figure_leave')\n    );\n\n    canvas_div.addEventListener('wheel', function (event) {\n        if (event.deltaY < 0) {\n            event.step = 1;\n        } else {\n            event.step = -1;\n        }\n        on_mouse_event_closure('scroll')(event);\n    });\n\n    canvas_div.appendChild(canvas);\n    canvas_div.appendChild(rubberband_canvas);\n\n    this.rubberband_context = rubberband_canvas.getContext('2d');\n    this.rubberband_context.strokeStyle = '#000000';\n\n    this._resize_canvas = function (width, height, forward) {\n        if (forward) {\n            canvas_div.style.width = width + 'px';\n            canvas_div.style.height = height + 'px';\n        }\n    };\n\n    // Disable right mouse context menu.\n    canvas_div.addEventListener('contextmenu', function (_e) {\n        event.preventDefault();\n        return false;\n    });\n\n    function set_focus() {\n        canvas.focus();\n        canvas_div.focus();\n    }\n\n    window.setTimeout(set_focus, 100);\n};\n\nmpl.figure.prototype._init_toolbar = function () {\n    var fig = this;\n\n    var toolbar = document.createElement('div');\n    toolbar.classList = 'mpl-toolbar';\n    this.root.appendChild(toolbar);\n\n    function on_click_closure(name) {\n        return function (_event) {\n            return fig.toolbar_button_onclick(name);\n        };\n    }\n\n    function on_mouseover_closure(tooltip) {\n        return function (event) {\n            if (!event.currentTarget.disabled) {\n                return fig.toolbar_button_onmouseover(tooltip);\n            }\n        };\n    }\n\n    fig.buttons = {};\n    var buttonGroup = document.createElement('div');\n    buttonGroup.classList = 'mpl-button-group';\n    for (var toolbar_ind in mpl.toolbar_items) {\n        var name = mpl.toolbar_items[toolbar_ind][0];\n        var tooltip = mpl.toolbar_items[toolbar_ind][1];\n        var image = mpl.toolbar_items[toolbar_ind][2];\n        var method_name = mpl.toolbar_items[toolbar_ind][3];\n\n        if (!name) {\n            /* Instead of a spacer, we start a new button group. */\n            if (buttonGroup.hasChildNodes()) {\n                toolbar.appendChild(buttonGroup);\n            }\n            buttonGroup = document.createElement('div');\n            buttonGroup.classList = 'mpl-button-group';\n            continue;\n        }\n\n        var button = (fig.buttons[name] = document.createElement('button'));\n        button.classList = 'mpl-widget';\n        button.setAttribute('role', 'button');\n        button.setAttribute('aria-disabled', 'false');\n        button.addEventListener('click', on_click_closure(method_name));\n        button.addEventListener('mouseover', on_mouseover_closure(tooltip));\n\n        var icon_img = document.createElement('img');\n        icon_img.src = '_images/' + image + '.png';\n        icon_img.srcset = '_images/' + image + '_large.png 2x';\n        icon_img.alt = tooltip;\n        button.appendChild(icon_img);\n\n        buttonGroup.appendChild(button);\n    }\n\n    if (buttonGroup.hasChildNodes()) {\n        toolbar.appendChild(buttonGroup);\n    }\n\n    var fmt_picker = document.createElement('select');\n    fmt_picker.classList = 'mpl-widget';\n    toolbar.appendChild(fmt_picker);\n    this.format_dropdown = fmt_picker;\n\n    for (var ind in mpl.extensions) {\n        var fmt = mpl.extensions[ind];\n        var option = document.createElement('option');\n        option.selected = fmt === mpl.default_extension;\n        option.innerHTML = fmt;\n        fmt_picker.appendChild(option);\n    }\n\n    var status_bar = document.createElement('span');\n    status_bar.classList = 'mpl-message';\n    toolbar.appendChild(status_bar);\n    this.message = status_bar;\n};\n\nmpl.figure.prototype.request_resize = function (x_pixels, y_pixels) {\n    // Request matplotlib to resize the figure. Matplotlib will then trigger a resize in the client,\n    // which will in turn request a refresh of the image.\n    this.send_message('resize', { width: x_pixels, height: y_pixels });\n};\n\nmpl.figure.prototype.send_message = function (type, properties) {\n    properties['type'] = type;\n    properties['figure_id'] = this.id;\n    this.ws.send(JSON.stringify(properties));\n};\n\nmpl.figure.prototype.send_draw_message = function () {\n    if (!this.waiting) {\n        this.waiting = true;\n        this.ws.send(JSON.stringify({ type: 'draw', figure_id: this.id }));\n    }\n};\n\nmpl.figure.prototype.handle_save = function (fig, _msg) {\n    var format_dropdown = fig.format_dropdown;\n    var format = format_dropdown.options[format_dropdown.selectedIndex].value;\n    fig.ondownload(fig, format);\n};\n\nmpl.figure.prototype.handle_resize = function (fig, msg) {\n    var size = msg['size'];\n    if (size[0] !== fig.canvas.width || size[1] !== fig.canvas.height) {\n        fig._resize_canvas(size[0], size[1], msg['forward']);\n        fig.send_message('refresh', {});\n    }\n};\n\nmpl.figure.prototype.handle_rubberband = function (fig, msg) {\n    var x0 = msg['x0'] / fig.ratio;\n    var y0 = (fig.canvas.height - msg['y0']) / fig.ratio;\n    var x1 = msg['x1'] / fig.ratio;\n    var y1 = (fig.canvas.height - msg['y1']) / fig.ratio;\n    x0 = Math.floor(x0) + 0.5;\n    y0 = Math.floor(y0) + 0.5;\n    x1 = Math.floor(x1) + 0.5;\n    y1 = Math.floor(y1) + 0.5;\n    var min_x = Math.min(x0, x1);\n    var min_y = Math.min(y0, y1);\n    var width = Math.abs(x1 - x0);\n    var height = Math.abs(y1 - y0);\n\n    fig.rubberband_context.clearRect(\n        0,\n        0,\n        fig.canvas.width / fig.ratio,\n        fig.canvas.height / fig.ratio\n    );\n\n    fig.rubberband_context.strokeRect(min_x, min_y, width, height);\n};\n\nmpl.figure.prototype.handle_figure_label = function (fig, msg) {\n    // Updates the figure title.\n    fig.header.textContent = msg['label'];\n};\n\nmpl.figure.prototype.handle_cursor = function (fig, msg) {\n    fig.canvas_div.style.cursor = msg['cursor'];\n};\n\nmpl.figure.prototype.handle_message = function (fig, msg) {\n    fig.message.textContent = msg['message'];\n};\n\nmpl.figure.prototype.handle_draw = function (fig, _msg) {\n    // Request the server to send over a new figure.\n    fig.send_draw_message();\n};\n\nmpl.figure.prototype.handle_image_mode = function (fig, msg) {\n    fig.image_mode = msg['mode'];\n};\n\nmpl.figure.prototype.handle_history_buttons = function (fig, msg) {\n    for (var key in msg) {\n        if (!(key in fig.buttons)) {\n            continue;\n        }\n        fig.buttons[key].disabled = !msg[key];\n        fig.buttons[key].setAttribute('aria-disabled', !msg[key]);\n    }\n};\n\nmpl.figure.prototype.handle_navigate_mode = function (fig, msg) {\n    if (msg['mode'] === 'PAN') {\n        fig.buttons['Pan'].classList.add('active');\n        fig.buttons['Zoom'].classList.remove('active');\n    } else if (msg['mode'] === 'ZOOM') {\n        fig.buttons['Pan'].classList.remove('active');\n        fig.buttons['Zoom'].classList.add('active');\n    } else {\n        fig.buttons['Pan'].classList.remove('active');\n        fig.buttons['Zoom'].classList.remove('active');\n    }\n};\n\nmpl.figure.prototype.updated_canvas_event = function () {\n    // Called whenever the canvas gets updated.\n    this.send_message('ack', {});\n};\n\n// A function to construct a web socket function for onmessage handling.\n// Called in the figure constructor.\nmpl.figure.prototype._make_on_message_function = function (fig) {\n    return function socket_on_message(evt) {\n        if (evt.data instanceof Blob) {\n            var img = evt.data;\n            if (img.type !== 'image/png') {\n                /* FIXME: We get \"Resource interpreted as Image but\n                 * transferred with MIME type text/plain:\" errors on\n                 * Chrome.  But how to set the MIME type?  It doesn't seem\n                 * to be part of the websocket stream */\n                img.type = 'image/png';\n            }\n\n            /* Free the memory for the previous frames */\n            if (fig.imageObj.src) {\n                (window.URL || window.webkitURL).revokeObjectURL(\n                    fig.imageObj.src\n                );\n            }\n\n            fig.imageObj.src = (window.URL || window.webkitURL).createObjectURL(\n                img\n            );\n            fig.updated_canvas_event();\n            fig.waiting = false;\n            return;\n        } else if (\n            typeof evt.data === 'string' &&\n            evt.data.slice(0, 21) === 'data:image/png;base64'\n        ) {\n            fig.imageObj.src = evt.data;\n            fig.updated_canvas_event();\n            fig.waiting = false;\n            return;\n        }\n\n        var msg = JSON.parse(evt.data);\n        var msg_type = msg['type'];\n\n        // Call the  \"handle_{type}\" callback, which takes\n        // the figure and JSON message as its only arguments.\n        try {\n            var callback = fig['handle_' + msg_type];\n        } catch (e) {\n            console.log(\n                \"No handler for the '\" + msg_type + \"' message type: \",\n                msg\n            );\n            return;\n        }\n\n        if (callback) {\n            try {\n                // console.log(\"Handling '\" + msg_type + \"' message: \", msg);\n                callback(fig, msg);\n            } catch (e) {\n                console.log(\n                    \"Exception inside the 'handler_\" + msg_type + \"' callback:\",\n                    e,\n                    e.stack,\n                    msg\n                );\n            }\n        }\n    };\n};\n\nfunction getModifiers(event) {\n    var mods = [];\n    if (event.ctrlKey) {\n        mods.push('ctrl');\n    }\n    if (event.altKey) {\n        mods.push('alt');\n    }\n    if (event.shiftKey) {\n        mods.push('shift');\n    }\n    if (event.metaKey) {\n        mods.push('meta');\n    }\n    return mods;\n}\n\n/*\n * return a copy of an object with only non-object keys\n * we need this to avoid circular references\n * https://stackoverflow.com/a/24161582/3208463\n */\nfunction simpleKeys(original) {\n    return Object.keys(original).reduce(function (obj, key) {\n        if (typeof original[key] !== 'object') {\n            obj[key] = original[key];\n        }\n        return obj;\n    }, {});\n}\n\nmpl.figure.prototype.mouse_event = function (event, name) {\n    if (name === 'button_press') {\n        this.canvas.focus();\n        this.canvas_div.focus();\n    }\n\n    // from https://stackoverflow.com/q/1114465\n    var boundingRect = this.canvas.getBoundingClientRect();\n    var x = (event.clientX - boundingRect.left) * this.ratio;\n    var y = (event.clientY - boundingRect.top) * this.ratio;\n\n    this.send_message(name, {\n        x: x,\n        y: y,\n        button: event.button,\n        step: event.step,\n        modifiers: getModifiers(event),\n        guiEvent: simpleKeys(event),\n    });\n\n    return false;\n};\n\nmpl.figure.prototype._key_event_extra = function (_event, _name) {\n    // Handle any extra behaviour associated with a key event\n};\n\nmpl.figure.prototype.key_event = function (event, name) {\n    // Prevent repeat events\n    if (name === 'key_press') {\n        if (event.key === this._key) {\n            return;\n        } else {\n            this._key = event.key;\n        }\n    }\n    if (name === 'key_release') {\n        this._key = null;\n    }\n\n    var value = '';\n    if (event.ctrlKey && event.key !== 'Control') {\n        value += 'ctrl+';\n    }\n    else if (event.altKey && event.key !== 'Alt') {\n        value += 'alt+';\n    }\n    else if (event.shiftKey && event.key !== 'Shift') {\n        value += 'shift+';\n    }\n\n    value += 'k' + event.key;\n\n    this._key_event_extra(event, name);\n\n    this.send_message(name, { key: value, guiEvent: simpleKeys(event) });\n    return false;\n};\n\nmpl.figure.prototype.toolbar_button_onclick = function (name) {\n    if (name === 'download') {\n        this.handle_save(this, null);\n    } else {\n        this.send_message('toolbar_button', { name: name });\n    }\n};\n\nmpl.figure.prototype.toolbar_button_onmouseover = function (tooltip) {\n    this.message.textContent = tooltip;\n};\n\n///////////////// REMAINING CONTENT GENERATED BY embed_js.py /////////////////\n// prettier-ignore\nvar _JSXTOOLS_RESIZE_OBSERVER=function(A){var t,i=new WeakMap,n=new WeakMap,a=new WeakMap,r=new WeakMap,o=new Set;function s(e){if(!(this instanceof s))throw new TypeError(\"Constructor requires 'new' operator\");i.set(this,e)}function h(){throw new TypeError(\"Function is not a constructor\")}function c(e,t,i,n){e=0 in arguments?Number(arguments[0]):0,t=1 in arguments?Number(arguments[1]):0,i=2 in arguments?Number(arguments[2]):0,n=3 in arguments?Number(arguments[3]):0,this.right=(this.x=this.left=e)+(this.width=i),this.bottom=(this.y=this.top=t)+(this.height=n),Object.freeze(this)}function d(){t=requestAnimationFrame(d);var s=new WeakMap,p=new Set;o.forEach((function(t){r.get(t).forEach((function(i){var r=t instanceof window.SVGElement,o=a.get(t),d=r?0:parseFloat(o.paddingTop),f=r?0:parseFloat(o.paddingRight),l=r?0:parseFloat(o.paddingBottom),u=r?0:parseFloat(o.paddingLeft),g=r?0:parseFloat(o.borderTopWidth),m=r?0:parseFloat(o.borderRightWidth),w=r?0:parseFloat(o.borderBottomWidth),b=u+f,F=d+l,v=(r?0:parseFloat(o.borderLeftWidth))+m,W=g+w,y=r?0:t.offsetHeight-W-t.clientHeight,E=r?0:t.offsetWidth-v-t.clientWidth,R=b+v,z=F+W,M=r?t.width:parseFloat(o.width)-R-E,O=r?t.height:parseFloat(o.height)-z-y;if(n.has(t)){var k=n.get(t);if(k[0]===M&&k[1]===O)return}n.set(t,[M,O]);var S=Object.create(h.prototype);S.target=t,S.contentRect=new c(u,d,M,O),s.has(i)||(s.set(i,[]),p.add(i)),s.get(i).push(S)}))})),p.forEach((function(e){i.get(e).call(e,s.get(e),e)}))}return s.prototype.observe=function(i){if(i instanceof window.Element){r.has(i)||(r.set(i,new Set),o.add(i),a.set(i,window.getComputedStyle(i)));var n=r.get(i);n.has(this)||n.add(this),cancelAnimationFrame(t),t=requestAnimationFrame(d)}},s.prototype.unobserve=function(i){if(i instanceof window.Element&&r.has(i)){var n=r.get(i);n.has(this)&&(n.delete(this),n.size||(r.delete(i),o.delete(i))),n.size||r.delete(i),o.size||cancelAnimationFrame(t)}},A.DOMRectReadOnly=c,A.ResizeObserver=s,A.ResizeObserverEntry=h,A}; // eslint-disable-line\nmpl.toolbar_items = [[\"Home\", \"Reset original view\", \"fa fa-home\", \"home\"], [\"Back\", \"Back to previous view\", \"fa fa-arrow-left\", \"back\"], [\"Forward\", \"Forward to next view\", \"fa fa-arrow-right\", \"forward\"], [\"\", \"\", \"\", \"\"], [\"Pan\", \"Left button pans, Right button zooms\\nx/y fixes axis, CTRL fixes aspect\", \"fa fa-arrows\", \"pan\"], [\"Zoom\", \"Zoom to rectangle\\nx/y fixes axis\", \"fa fa-square-o\", \"zoom\"], [\"\", \"\", \"\", \"\"], [\"Download\", \"Download plot\", \"fa fa-floppy-o\", \"download\"]];\n\nmpl.extensions = [\"eps\", \"jpeg\", \"pgf\", \"pdf\", \"png\", \"ps\", \"raw\", \"svg\", \"tif\", \"webp\"];\n\nmpl.default_extension = \"png\";/* global mpl */\n\nvar comm_websocket_adapter = function (comm) {\n    // Create a \"websocket\"-like object which calls the given IPython comm\n    // object with the appropriate methods. Currently this is a non binary\n    // socket, so there is still some room for performance tuning.\n    var ws = {};\n\n    ws.binaryType = comm.kernel.ws.binaryType;\n    ws.readyState = comm.kernel.ws.readyState;\n    function updateReadyState(_event) {\n        if (comm.kernel.ws) {\n            ws.readyState = comm.kernel.ws.readyState;\n        } else {\n            ws.readyState = 3; // Closed state.\n        }\n    }\n    comm.kernel.ws.addEventListener('open', updateReadyState);\n    comm.kernel.ws.addEventListener('close', updateReadyState);\n    comm.kernel.ws.addEventListener('error', updateReadyState);\n\n    ws.close = function () {\n        comm.close();\n    };\n    ws.send = function (m) {\n        //console.log('sending', m);\n        comm.send(m);\n    };\n    // Register the callback with on_msg.\n    comm.on_msg(function (msg) {\n        //console.log('receiving', msg['content']['data'], msg);\n        var data = msg['content']['data'];\n        if (data['blob'] !== undefined) {\n            data = {\n                data: new Blob(msg['buffers'], { type: data['blob'] }),\n            };\n        }\n        // Pass the mpl event to the overridden (by mpl) onmessage function.\n        ws.onmessage(data);\n    });\n    return ws;\n};\n\nmpl.mpl_figure_comm = function (comm, msg) {\n    // This is the function which gets called when the mpl process\n    // starts-up an IPython Comm through the \"matplotlib\" channel.\n\n    var id = msg.content.data.id;\n    // Get hold of the div created by the display call when the Comm\n    // socket was opened in Python.\n    var element = document.getElementById(id);\n    var ws_proxy = comm_websocket_adapter(comm);\n\n    function ondownload(figure, _format) {\n        window.open(figure.canvas.toDataURL());\n    }\n\n    var fig = new mpl.figure(id, ws_proxy, ondownload, element);\n\n    // Call onopen now - mpl needs it, as it is assuming we've passed it a real\n    // web socket which is closed, not our websocket->open comm proxy.\n    ws_proxy.onopen();\n\n    fig.parent_element = element;\n    fig.cell_info = mpl.find_output_cell(\"<div id='\" + id + \"'></div>\");\n    if (!fig.cell_info) {\n        console.error('Failed to find cell for figure', id, fig);\n        return;\n    }\n    fig.cell_info[0].output_area.element.on(\n        'cleared',\n        { fig: fig },\n        fig._remove_fig_handler\n    );\n};\n\nmpl.figure.prototype.handle_close = function (fig, msg) {\n    var width = fig.canvas.width / fig.ratio;\n    fig.cell_info[0].output_area.element.off(\n        'cleared',\n        fig._remove_fig_handler\n    );\n    fig.resizeObserverInstance.unobserve(fig.canvas_div);\n\n    // Update the output cell to use the data from the current canvas.\n    fig.push_to_output();\n    var dataURL = fig.canvas.toDataURL();\n    // Re-enable the keyboard manager in IPython - without this line, in FF,\n    // the notebook keyboard shortcuts fail.\n    IPython.keyboard_manager.enable();\n    fig.parent_element.innerHTML =\n        '<img src=\"' + dataURL + '\" width=\"' + width + '\">';\n    fig.close_ws(fig, msg);\n};\n\nmpl.figure.prototype.close_ws = function (fig, msg) {\n    fig.send_message('closing', msg);\n    // fig.ws.close()\n};\n\nmpl.figure.prototype.push_to_output = function (_remove_interactive) {\n    // Turn the data on the canvas into data in the output cell.\n    var width = this.canvas.width / this.ratio;\n    var dataURL = this.canvas.toDataURL();\n    this.cell_info[1]['text/html'] =\n        '<img src=\"' + dataURL + '\" width=\"' + width + '\">';\n};\n\nmpl.figure.prototype.updated_canvas_event = function () {\n    // Tell IPython that the notebook contents must change.\n    IPython.notebook.set_dirty(true);\n    this.send_message('ack', {});\n    var fig = this;\n    // Wait a second, then push the new image to the DOM so\n    // that it is saved nicely (might be nice to debounce this).\n    setTimeout(function () {\n        fig.push_to_output();\n    }, 1000);\n};\n\nmpl.figure.prototype._init_toolbar = function () {\n    var fig = this;\n\n    var toolbar = document.createElement('div');\n    toolbar.classList = 'btn-toolbar';\n    this.root.appendChild(toolbar);\n\n    function on_click_closure(name) {\n        return function (_event) {\n            return fig.toolbar_button_onclick(name);\n        };\n    }\n\n    function on_mouseover_closure(tooltip) {\n        return function (event) {\n            if (!event.currentTarget.disabled) {\n                return fig.toolbar_button_onmouseover(tooltip);\n            }\n        };\n    }\n\n    fig.buttons = {};\n    var buttonGroup = document.createElement('div');\n    buttonGroup.classList = 'btn-group';\n    var button;\n    for (var toolbar_ind in mpl.toolbar_items) {\n        var name = mpl.toolbar_items[toolbar_ind][0];\n        var tooltip = mpl.toolbar_items[toolbar_ind][1];\n        var image = mpl.toolbar_items[toolbar_ind][2];\n        var method_name = mpl.toolbar_items[toolbar_ind][3];\n\n        if (!name) {\n            /* Instead of a spacer, we start a new button group. */\n            if (buttonGroup.hasChildNodes()) {\n                toolbar.appendChild(buttonGroup);\n            }\n            buttonGroup = document.createElement('div');\n            buttonGroup.classList = 'btn-group';\n            continue;\n        }\n\n        button = fig.buttons[name] = document.createElement('button');\n        button.classList = 'btn btn-default';\n        button.href = '#';\n        button.title = name;\n        button.innerHTML = '<i class=\"fa ' + image + ' fa-lg\"></i>';\n        button.addEventListener('click', on_click_closure(method_name));\n        button.addEventListener('mouseover', on_mouseover_closure(tooltip));\n        buttonGroup.appendChild(button);\n    }\n\n    if (buttonGroup.hasChildNodes()) {\n        toolbar.appendChild(buttonGroup);\n    }\n\n    // Add the status bar.\n    var status_bar = document.createElement('span');\n    status_bar.classList = 'mpl-message pull-right';\n    toolbar.appendChild(status_bar);\n    this.message = status_bar;\n\n    // Add the close button to the window.\n    var buttongrp = document.createElement('div');\n    buttongrp.classList = 'btn-group inline pull-right';\n    button = document.createElement('button');\n    button.classList = 'btn btn-mini btn-primary';\n    button.href = '#';\n    button.title = 'Stop Interaction';\n    button.innerHTML = '<i class=\"fa fa-power-off icon-remove icon-large\"></i>';\n    button.addEventListener('click', function (_evt) {\n        fig.handle_close(fig, {});\n    });\n    button.addEventListener(\n        'mouseover',\n        on_mouseover_closure('Stop Interaction')\n    );\n    buttongrp.appendChild(button);\n    var titlebar = this.root.querySelector('.ui-dialog-titlebar');\n    titlebar.insertBefore(buttongrp, titlebar.firstChild);\n};\n\nmpl.figure.prototype._remove_fig_handler = function (event) {\n    var fig = event.data.fig;\n    if (event.target !== this) {\n        // Ignore bubbled events from children.\n        return;\n    }\n    fig.close_ws(fig, {});\n};\n\nmpl.figure.prototype._root_extra_style = function (el) {\n    el.style.boxSizing = 'content-box'; // override notebook setting of border-box.\n};\n\nmpl.figure.prototype._canvas_extra_style = function (el) {\n    // this is important to make the div 'focusable\n    el.setAttribute('tabindex', 0);\n    // reach out to IPython and tell the keyboard manager to turn it's self\n    // off when our div gets focus\n\n    // location in version 3\n    if (IPython.notebook.keyboard_manager) {\n        IPython.notebook.keyboard_manager.register_events(el);\n    } else {\n        // location in version 2\n        IPython.keyboard_manager.register_events(el);\n    }\n};\n\nmpl.figure.prototype._key_event_extra = function (event, _name) {\n    // Check for shift+enter\n    if (event.shiftKey && event.which === 13) {\n        this.canvas_div.blur();\n        // select the cell after this one\n        var index = IPython.notebook.find_cell_index(this.cell_info[0]);\n        IPython.notebook.select(index + 1);\n    }\n};\n\nmpl.figure.prototype.handle_save = function (fig, _msg) {\n    fig.ondownload(fig, null);\n};\n\nmpl.find_output_cell = function (html_output) {\n    // Return the cell and output element which can be found *uniquely* in the notebook.\n    // Note - this is a bit hacky, but it is done because the \"notebook_saving.Notebook\"\n    // IPython event is triggered only after the cells have been serialised, which for\n    // our purposes (turning an active figure into a static one), is too late.\n    var cells = IPython.notebook.get_cells();\n    var ncells = cells.length;\n    for (var i = 0; i < ncells; i++) {\n        var cell = cells[i];\n        if (cell.cell_type === 'code') {\n            for (var j = 0; j < cell.output_area.outputs.length; j++) {\n                var data = cell.output_area.outputs[j];\n                if (data.data) {\n                    // IPython >= 3 moved mimebundle to data attribute of output\n                    data = data.data;\n                }\n                if (data['text/html'] === html_output) {\n                    return [cell, data, j];\n                }\n            }\n        }\n    }\n};\n\n// Register the function which deals with the matplotlib target/channel.\n// The kernel may be null if the page has been refreshed.\nif (IPython.notebook.kernel !== null) {\n    IPython.notebook.kernel.comm_manager.register_target(\n        'matplotlib',\n        mpl.mpl_figure_comm\n    );\n}\n"
     },
     "metadata": {},
     "output_type": "display_data"
    },
    {
     "data": {
      "text/plain": "<IPython.core.display.HTML object>",
      "text/html": "<div id='d920ca0c-90e8-44e2-a00d-a954eadd0c7e'></div>"
     },
     "metadata": {},
     "output_type": "display_data"
    }
   ],
   "source": [
    "from utils_ex1.utils import plot_vc_slider\n",
    "\n",
    "Vs_default = 5\n",
    "R_default = 10000\n",
    "C_default = 0.000001\n",
    "V0_default = 0\n",
    "plt.close()\n",
    "plot_vc_slider(Vs_default, R_default, C_default, V0_default)"
   ]
  },
  {
   "cell_type": "markdown",
   "metadata": {
    "collapsed": false
   },
   "source": [
    "Using the previous interactive plot,\n",
    "**Questions**: What happens when you increase the voltage source $V_S$ (while keeping the resistance $R$ and the capacitance $C$ constant)?\n",
    "**Answer**: The capacitor saturating voltage also increases.\n",
    "**Questions**: What happens when you increase the resistance $R$ (while keeping the capacitance $C$ and the voltage source $V_S$ constant)?\n",
    "**Answer**: The capacitor voltage takes more time to reach saturation.\n",
    "**Question**: What happens when you increase the capacitance $C$ (while keeping the resistance $R$ and the voltage source $V_S$ constant)?\n",
    "Reset the plot by clicking the \"Reset\" button.\n",
    "Double the capacitor value, take a screenshot\n",
    "Reset the plot\n",
    "Double the resistance value, take a screenshot\n",
    "**Question**: Compare these screenshots. What do you observe? Why?\n",
    "**Answer**: The plots are identical. The quantity $R \\cdot C$, which determines the dynamic, is the same for both cases."
   ]
  },
  {
   "cell_type": "markdown",
   "metadata": {
    "collapsed": false
   },
   "source": [
    "## Introducing the time constant $\\tau = RC$\n",
    "When you look at the discretized equation for the RC circuit: $V_C(t + \\Delta t) = e^{-\\frac{\\Delta t}{R * C}} * V_C(t) + (1 - e^{-\\frac{\\Delta t}{R * C}}) * V$, you can see that the term $\\frac{1}{R * C}$ appears twice. This term is called the time constant $\\tau = R * C$ of the circuit.\n",
    "This quantity is really important and gives you an idea of how fast the capacitor charges or discharges.\n",
    "\n",
    "If you take the analytical solution of the charging of the capacitor: $V_C(t) = V * (1 - e^{-t / (R * C)})$, you can see that the voltage across the capacitor at time $t = \\tau = RC$ is equal to $V_C(t=\\tau) = V * (1 - e^{-1}) = 0.63 * V$. You can then see the time constant it takes the voltage of a fully discharged capacitor to reach 63% of the voltage source."
   ]
  },
  {
   "cell_type": "code",
   "execution_count": 20,
   "metadata": {
    "collapsed": false,
    "ExecuteTime": {
     "end_time": "2024-09-19T22:47:35.757506Z",
     "start_time": "2024-09-19T22:47:35.712246Z"
    }
   },
   "outputs": [
    {
     "data": {
      "text/plain": "<IPython.core.display.Javascript object>",
      "application/javascript": "/* Put everything inside the global mpl namespace */\n/* global mpl */\nwindow.mpl = {};\n\nmpl.get_websocket_type = function () {\n    if (typeof WebSocket !== 'undefined') {\n        return WebSocket;\n    } else if (typeof MozWebSocket !== 'undefined') {\n        return MozWebSocket;\n    } else {\n        alert(\n            'Your browser does not have WebSocket support. ' +\n                'Please try Chrome, Safari or Firefox ≥ 6. ' +\n                'Firefox 4 and 5 are also supported but you ' +\n                'have to enable WebSockets in about:config.'\n        );\n    }\n};\n\nmpl.figure = function (figure_id, websocket, ondownload, parent_element) {\n    this.id = figure_id;\n\n    this.ws = websocket;\n\n    this.supports_binary = this.ws.binaryType !== undefined;\n\n    if (!this.supports_binary) {\n        var warnings = document.getElementById('mpl-warnings');\n        if (warnings) {\n            warnings.style.display = 'block';\n            warnings.textContent =\n                'This browser does not support binary websocket messages. ' +\n                'Performance may be slow.';\n        }\n    }\n\n    this.imageObj = new Image();\n\n    this.context = undefined;\n    this.message = undefined;\n    this.canvas = undefined;\n    this.rubberband_canvas = undefined;\n    this.rubberband_context = undefined;\n    this.format_dropdown = undefined;\n\n    this.image_mode = 'full';\n\n    this.root = document.createElement('div');\n    this.root.setAttribute('style', 'display: inline-block');\n    this._root_extra_style(this.root);\n\n    parent_element.appendChild(this.root);\n\n    this._init_header(this);\n    this._init_canvas(this);\n    this._init_toolbar(this);\n\n    var fig = this;\n\n    this.waiting = false;\n\n    this.ws.onopen = function () {\n        fig.send_message('supports_binary', { value: fig.supports_binary });\n        fig.send_message('send_image_mode', {});\n        if (fig.ratio !== 1) {\n            fig.send_message('set_device_pixel_ratio', {\n                device_pixel_ratio: fig.ratio,\n            });\n        }\n        fig.send_message('refresh', {});\n    };\n\n    this.imageObj.onload = function () {\n        if (fig.image_mode === 'full') {\n            // Full images could contain transparency (where diff images\n            // almost always do), so we need to clear the canvas so that\n            // there is no ghosting.\n            fig.context.clearRect(0, 0, fig.canvas.width, fig.canvas.height);\n        }\n        fig.context.drawImage(fig.imageObj, 0, 0);\n    };\n\n    this.imageObj.onunload = function () {\n        fig.ws.close();\n    };\n\n    this.ws.onmessage = this._make_on_message_function(this);\n\n    this.ondownload = ondownload;\n};\n\nmpl.figure.prototype._init_header = function () {\n    var titlebar = document.createElement('div');\n    titlebar.classList =\n        'ui-dialog-titlebar ui-widget-header ui-corner-all ui-helper-clearfix';\n    var titletext = document.createElement('div');\n    titletext.classList = 'ui-dialog-title';\n    titletext.setAttribute(\n        'style',\n        'width: 100%; text-align: center; padding: 3px;'\n    );\n    titlebar.appendChild(titletext);\n    this.root.appendChild(titlebar);\n    this.header = titletext;\n};\n\nmpl.figure.prototype._canvas_extra_style = function (_canvas_div) {};\n\nmpl.figure.prototype._root_extra_style = function (_canvas_div) {};\n\nmpl.figure.prototype._init_canvas = function () {\n    var fig = this;\n\n    var canvas_div = (this.canvas_div = document.createElement('div'));\n    canvas_div.setAttribute('tabindex', '0');\n    canvas_div.setAttribute(\n        'style',\n        'border: 1px solid #ddd;' +\n            'box-sizing: content-box;' +\n            'clear: both;' +\n            'min-height: 1px;' +\n            'min-width: 1px;' +\n            'outline: 0;' +\n            'overflow: hidden;' +\n            'position: relative;' +\n            'resize: both;' +\n            'z-index: 2;'\n    );\n\n    function on_keyboard_event_closure(name) {\n        return function (event) {\n            return fig.key_event(event, name);\n        };\n    }\n\n    canvas_div.addEventListener(\n        'keydown',\n        on_keyboard_event_closure('key_press')\n    );\n    canvas_div.addEventListener(\n        'keyup',\n        on_keyboard_event_closure('key_release')\n    );\n\n    this._canvas_extra_style(canvas_div);\n    this.root.appendChild(canvas_div);\n\n    var canvas = (this.canvas = document.createElement('canvas'));\n    canvas.classList.add('mpl-canvas');\n    canvas.setAttribute(\n        'style',\n        'box-sizing: content-box;' +\n            'pointer-events: none;' +\n            'position: relative;' +\n            'z-index: 0;'\n    );\n\n    this.context = canvas.getContext('2d');\n\n    var backingStore =\n        this.context.backingStorePixelRatio ||\n        this.context.webkitBackingStorePixelRatio ||\n        this.context.mozBackingStorePixelRatio ||\n        this.context.msBackingStorePixelRatio ||\n        this.context.oBackingStorePixelRatio ||\n        this.context.backingStorePixelRatio ||\n        1;\n\n    this.ratio = (window.devicePixelRatio || 1) / backingStore;\n\n    var rubberband_canvas = (this.rubberband_canvas = document.createElement(\n        'canvas'\n    ));\n    rubberband_canvas.setAttribute(\n        'style',\n        'box-sizing: content-box;' +\n            'left: 0;' +\n            'pointer-events: none;' +\n            'position: absolute;' +\n            'top: 0;' +\n            'z-index: 1;'\n    );\n\n    // Apply a ponyfill if ResizeObserver is not implemented by browser.\n    if (this.ResizeObserver === undefined) {\n        if (window.ResizeObserver !== undefined) {\n            this.ResizeObserver = window.ResizeObserver;\n        } else {\n            var obs = _JSXTOOLS_RESIZE_OBSERVER({});\n            this.ResizeObserver = obs.ResizeObserver;\n        }\n    }\n\n    this.resizeObserverInstance = new this.ResizeObserver(function (entries) {\n        // There's no need to resize if the WebSocket is not connected:\n        // - If it is still connecting, then we will get an initial resize from\n        //   Python once it connects.\n        // - If it has disconnected, then resizing will clear the canvas and\n        //   never get anything back to refill it, so better to not resize and\n        //   keep something visible.\n        if (fig.ws.readyState != 1) {\n            return;\n        }\n        var nentries = entries.length;\n        for (var i = 0; i < nentries; i++) {\n            var entry = entries[i];\n            var width, height;\n            if (entry.contentBoxSize) {\n                if (entry.contentBoxSize instanceof Array) {\n                    // Chrome 84 implements new version of spec.\n                    width = entry.contentBoxSize[0].inlineSize;\n                    height = entry.contentBoxSize[0].blockSize;\n                } else {\n                    // Firefox implements old version of spec.\n                    width = entry.contentBoxSize.inlineSize;\n                    height = entry.contentBoxSize.blockSize;\n                }\n            } else {\n                // Chrome <84 implements even older version of spec.\n                width = entry.contentRect.width;\n                height = entry.contentRect.height;\n            }\n\n            // Keep the size of the canvas and rubber band canvas in sync with\n            // the canvas container.\n            if (entry.devicePixelContentBoxSize) {\n                // Chrome 84 implements new version of spec.\n                canvas.setAttribute(\n                    'width',\n                    entry.devicePixelContentBoxSize[0].inlineSize\n                );\n                canvas.setAttribute(\n                    'height',\n                    entry.devicePixelContentBoxSize[0].blockSize\n                );\n            } else {\n                canvas.setAttribute('width', width * fig.ratio);\n                canvas.setAttribute('height', height * fig.ratio);\n            }\n            /* This rescales the canvas back to display pixels, so that it\n             * appears correct on HiDPI screens. */\n            canvas.style.width = width + 'px';\n            canvas.style.height = height + 'px';\n\n            rubberband_canvas.setAttribute('width', width);\n            rubberband_canvas.setAttribute('height', height);\n\n            // And update the size in Python. We ignore the initial 0/0 size\n            // that occurs as the element is placed into the DOM, which should\n            // otherwise not happen due to the minimum size styling.\n            if (width != 0 && height != 0) {\n                fig.request_resize(width, height);\n            }\n        }\n    });\n    this.resizeObserverInstance.observe(canvas_div);\n\n    function on_mouse_event_closure(name) {\n        /* User Agent sniffing is bad, but WebKit is busted:\n         * https://bugs.webkit.org/show_bug.cgi?id=144526\n         * https://bugs.webkit.org/show_bug.cgi?id=181818\n         * The worst that happens here is that they get an extra browser\n         * selection when dragging, if this check fails to catch them.\n         */\n        var UA = navigator.userAgent;\n        var isWebKit = /AppleWebKit/.test(UA) && !/Chrome/.test(UA);\n        if(isWebKit) {\n            return function (event) {\n                /* This prevents the web browser from automatically changing to\n                 * the text insertion cursor when the button is pressed. We\n                 * want to control all of the cursor setting manually through\n                 * the 'cursor' event from matplotlib */\n                event.preventDefault()\n                return fig.mouse_event(event, name);\n            };\n        } else {\n            return function (event) {\n                return fig.mouse_event(event, name);\n            };\n        }\n    }\n\n    canvas_div.addEventListener(\n        'mousedown',\n        on_mouse_event_closure('button_press')\n    );\n    canvas_div.addEventListener(\n        'mouseup',\n        on_mouse_event_closure('button_release')\n    );\n    canvas_div.addEventListener(\n        'dblclick',\n        on_mouse_event_closure('dblclick')\n    );\n    // Throttle sequential mouse events to 1 every 20ms.\n    canvas_div.addEventListener(\n        'mousemove',\n        on_mouse_event_closure('motion_notify')\n    );\n\n    canvas_div.addEventListener(\n        'mouseenter',\n        on_mouse_event_closure('figure_enter')\n    );\n    canvas_div.addEventListener(\n        'mouseleave',\n        on_mouse_event_closure('figure_leave')\n    );\n\n    canvas_div.addEventListener('wheel', function (event) {\n        if (event.deltaY < 0) {\n            event.step = 1;\n        } else {\n            event.step = -1;\n        }\n        on_mouse_event_closure('scroll')(event);\n    });\n\n    canvas_div.appendChild(canvas);\n    canvas_div.appendChild(rubberband_canvas);\n\n    this.rubberband_context = rubberband_canvas.getContext('2d');\n    this.rubberband_context.strokeStyle = '#000000';\n\n    this._resize_canvas = function (width, height, forward) {\n        if (forward) {\n            canvas_div.style.width = width + 'px';\n            canvas_div.style.height = height + 'px';\n        }\n    };\n\n    // Disable right mouse context menu.\n    canvas_div.addEventListener('contextmenu', function (_e) {\n        event.preventDefault();\n        return false;\n    });\n\n    function set_focus() {\n        canvas.focus();\n        canvas_div.focus();\n    }\n\n    window.setTimeout(set_focus, 100);\n};\n\nmpl.figure.prototype._init_toolbar = function () {\n    var fig = this;\n\n    var toolbar = document.createElement('div');\n    toolbar.classList = 'mpl-toolbar';\n    this.root.appendChild(toolbar);\n\n    function on_click_closure(name) {\n        return function (_event) {\n            return fig.toolbar_button_onclick(name);\n        };\n    }\n\n    function on_mouseover_closure(tooltip) {\n        return function (event) {\n            if (!event.currentTarget.disabled) {\n                return fig.toolbar_button_onmouseover(tooltip);\n            }\n        };\n    }\n\n    fig.buttons = {};\n    var buttonGroup = document.createElement('div');\n    buttonGroup.classList = 'mpl-button-group';\n    for (var toolbar_ind in mpl.toolbar_items) {\n        var name = mpl.toolbar_items[toolbar_ind][0];\n        var tooltip = mpl.toolbar_items[toolbar_ind][1];\n        var image = mpl.toolbar_items[toolbar_ind][2];\n        var method_name = mpl.toolbar_items[toolbar_ind][3];\n\n        if (!name) {\n            /* Instead of a spacer, we start a new button group. */\n            if (buttonGroup.hasChildNodes()) {\n                toolbar.appendChild(buttonGroup);\n            }\n            buttonGroup = document.createElement('div');\n            buttonGroup.classList = 'mpl-button-group';\n            continue;\n        }\n\n        var button = (fig.buttons[name] = document.createElement('button'));\n        button.classList = 'mpl-widget';\n        button.setAttribute('role', 'button');\n        button.setAttribute('aria-disabled', 'false');\n        button.addEventListener('click', on_click_closure(method_name));\n        button.addEventListener('mouseover', on_mouseover_closure(tooltip));\n\n        var icon_img = document.createElement('img');\n        icon_img.src = '_images/' + image + '.png';\n        icon_img.srcset = '_images/' + image + '_large.png 2x';\n        icon_img.alt = tooltip;\n        button.appendChild(icon_img);\n\n        buttonGroup.appendChild(button);\n    }\n\n    if (buttonGroup.hasChildNodes()) {\n        toolbar.appendChild(buttonGroup);\n    }\n\n    var fmt_picker = document.createElement('select');\n    fmt_picker.classList = 'mpl-widget';\n    toolbar.appendChild(fmt_picker);\n    this.format_dropdown = fmt_picker;\n\n    for (var ind in mpl.extensions) {\n        var fmt = mpl.extensions[ind];\n        var option = document.createElement('option');\n        option.selected = fmt === mpl.default_extension;\n        option.innerHTML = fmt;\n        fmt_picker.appendChild(option);\n    }\n\n    var status_bar = document.createElement('span');\n    status_bar.classList = 'mpl-message';\n    toolbar.appendChild(status_bar);\n    this.message = status_bar;\n};\n\nmpl.figure.prototype.request_resize = function (x_pixels, y_pixels) {\n    // Request matplotlib to resize the figure. Matplotlib will then trigger a resize in the client,\n    // which will in turn request a refresh of the image.\n    this.send_message('resize', { width: x_pixels, height: y_pixels });\n};\n\nmpl.figure.prototype.send_message = function (type, properties) {\n    properties['type'] = type;\n    properties['figure_id'] = this.id;\n    this.ws.send(JSON.stringify(properties));\n};\n\nmpl.figure.prototype.send_draw_message = function () {\n    if (!this.waiting) {\n        this.waiting = true;\n        this.ws.send(JSON.stringify({ type: 'draw', figure_id: this.id }));\n    }\n};\n\nmpl.figure.prototype.handle_save = function (fig, _msg) {\n    var format_dropdown = fig.format_dropdown;\n    var format = format_dropdown.options[format_dropdown.selectedIndex].value;\n    fig.ondownload(fig, format);\n};\n\nmpl.figure.prototype.handle_resize = function (fig, msg) {\n    var size = msg['size'];\n    if (size[0] !== fig.canvas.width || size[1] !== fig.canvas.height) {\n        fig._resize_canvas(size[0], size[1], msg['forward']);\n        fig.send_message('refresh', {});\n    }\n};\n\nmpl.figure.prototype.handle_rubberband = function (fig, msg) {\n    var x0 = msg['x0'] / fig.ratio;\n    var y0 = (fig.canvas.height - msg['y0']) / fig.ratio;\n    var x1 = msg['x1'] / fig.ratio;\n    var y1 = (fig.canvas.height - msg['y1']) / fig.ratio;\n    x0 = Math.floor(x0) + 0.5;\n    y0 = Math.floor(y0) + 0.5;\n    x1 = Math.floor(x1) + 0.5;\n    y1 = Math.floor(y1) + 0.5;\n    var min_x = Math.min(x0, x1);\n    var min_y = Math.min(y0, y1);\n    var width = Math.abs(x1 - x0);\n    var height = Math.abs(y1 - y0);\n\n    fig.rubberband_context.clearRect(\n        0,\n        0,\n        fig.canvas.width / fig.ratio,\n        fig.canvas.height / fig.ratio\n    );\n\n    fig.rubberband_context.strokeRect(min_x, min_y, width, height);\n};\n\nmpl.figure.prototype.handle_figure_label = function (fig, msg) {\n    // Updates the figure title.\n    fig.header.textContent = msg['label'];\n};\n\nmpl.figure.prototype.handle_cursor = function (fig, msg) {\n    fig.canvas_div.style.cursor = msg['cursor'];\n};\n\nmpl.figure.prototype.handle_message = function (fig, msg) {\n    fig.message.textContent = msg['message'];\n};\n\nmpl.figure.prototype.handle_draw = function (fig, _msg) {\n    // Request the server to send over a new figure.\n    fig.send_draw_message();\n};\n\nmpl.figure.prototype.handle_image_mode = function (fig, msg) {\n    fig.image_mode = msg['mode'];\n};\n\nmpl.figure.prototype.handle_history_buttons = function (fig, msg) {\n    for (var key in msg) {\n        if (!(key in fig.buttons)) {\n            continue;\n        }\n        fig.buttons[key].disabled = !msg[key];\n        fig.buttons[key].setAttribute('aria-disabled', !msg[key]);\n    }\n};\n\nmpl.figure.prototype.handle_navigate_mode = function (fig, msg) {\n    if (msg['mode'] === 'PAN') {\n        fig.buttons['Pan'].classList.add('active');\n        fig.buttons['Zoom'].classList.remove('active');\n    } else if (msg['mode'] === 'ZOOM') {\n        fig.buttons['Pan'].classList.remove('active');\n        fig.buttons['Zoom'].classList.add('active');\n    } else {\n        fig.buttons['Pan'].classList.remove('active');\n        fig.buttons['Zoom'].classList.remove('active');\n    }\n};\n\nmpl.figure.prototype.updated_canvas_event = function () {\n    // Called whenever the canvas gets updated.\n    this.send_message('ack', {});\n};\n\n// A function to construct a web socket function for onmessage handling.\n// Called in the figure constructor.\nmpl.figure.prototype._make_on_message_function = function (fig) {\n    return function socket_on_message(evt) {\n        if (evt.data instanceof Blob) {\n            var img = evt.data;\n            if (img.type !== 'image/png') {\n                /* FIXME: We get \"Resource interpreted as Image but\n                 * transferred with MIME type text/plain:\" errors on\n                 * Chrome.  But how to set the MIME type?  It doesn't seem\n                 * to be part of the websocket stream */\n                img.type = 'image/png';\n            }\n\n            /* Free the memory for the previous frames */\n            if (fig.imageObj.src) {\n                (window.URL || window.webkitURL).revokeObjectURL(\n                    fig.imageObj.src\n                );\n            }\n\n            fig.imageObj.src = (window.URL || window.webkitURL).createObjectURL(\n                img\n            );\n            fig.updated_canvas_event();\n            fig.waiting = false;\n            return;\n        } else if (\n            typeof evt.data === 'string' &&\n            evt.data.slice(0, 21) === 'data:image/png;base64'\n        ) {\n            fig.imageObj.src = evt.data;\n            fig.updated_canvas_event();\n            fig.waiting = false;\n            return;\n        }\n\n        var msg = JSON.parse(evt.data);\n        var msg_type = msg['type'];\n\n        // Call the  \"handle_{type}\" callback, which takes\n        // the figure and JSON message as its only arguments.\n        try {\n            var callback = fig['handle_' + msg_type];\n        } catch (e) {\n            console.log(\n                \"No handler for the '\" + msg_type + \"' message type: \",\n                msg\n            );\n            return;\n        }\n\n        if (callback) {\n            try {\n                // console.log(\"Handling '\" + msg_type + \"' message: \", msg);\n                callback(fig, msg);\n            } catch (e) {\n                console.log(\n                    \"Exception inside the 'handler_\" + msg_type + \"' callback:\",\n                    e,\n                    e.stack,\n                    msg\n                );\n            }\n        }\n    };\n};\n\nfunction getModifiers(event) {\n    var mods = [];\n    if (event.ctrlKey) {\n        mods.push('ctrl');\n    }\n    if (event.altKey) {\n        mods.push('alt');\n    }\n    if (event.shiftKey) {\n        mods.push('shift');\n    }\n    if (event.metaKey) {\n        mods.push('meta');\n    }\n    return mods;\n}\n\n/*\n * return a copy of an object with only non-object keys\n * we need this to avoid circular references\n * https://stackoverflow.com/a/24161582/3208463\n */\nfunction simpleKeys(original) {\n    return Object.keys(original).reduce(function (obj, key) {\n        if (typeof original[key] !== 'object') {\n            obj[key] = original[key];\n        }\n        return obj;\n    }, {});\n}\n\nmpl.figure.prototype.mouse_event = function (event, name) {\n    if (name === 'button_press') {\n        this.canvas.focus();\n        this.canvas_div.focus();\n    }\n\n    // from https://stackoverflow.com/q/1114465\n    var boundingRect = this.canvas.getBoundingClientRect();\n    var x = (event.clientX - boundingRect.left) * this.ratio;\n    var y = (event.clientY - boundingRect.top) * this.ratio;\n\n    this.send_message(name, {\n        x: x,\n        y: y,\n        button: event.button,\n        step: event.step,\n        modifiers: getModifiers(event),\n        guiEvent: simpleKeys(event),\n    });\n\n    return false;\n};\n\nmpl.figure.prototype._key_event_extra = function (_event, _name) {\n    // Handle any extra behaviour associated with a key event\n};\n\nmpl.figure.prototype.key_event = function (event, name) {\n    // Prevent repeat events\n    if (name === 'key_press') {\n        if (event.key === this._key) {\n            return;\n        } else {\n            this._key = event.key;\n        }\n    }\n    if (name === 'key_release') {\n        this._key = null;\n    }\n\n    var value = '';\n    if (event.ctrlKey && event.key !== 'Control') {\n        value += 'ctrl+';\n    }\n    else if (event.altKey && event.key !== 'Alt') {\n        value += 'alt+';\n    }\n    else if (event.shiftKey && event.key !== 'Shift') {\n        value += 'shift+';\n    }\n\n    value += 'k' + event.key;\n\n    this._key_event_extra(event, name);\n\n    this.send_message(name, { key: value, guiEvent: simpleKeys(event) });\n    return false;\n};\n\nmpl.figure.prototype.toolbar_button_onclick = function (name) {\n    if (name === 'download') {\n        this.handle_save(this, null);\n    } else {\n        this.send_message('toolbar_button', { name: name });\n    }\n};\n\nmpl.figure.prototype.toolbar_button_onmouseover = function (tooltip) {\n    this.message.textContent = tooltip;\n};\n\n///////////////// REMAINING CONTENT GENERATED BY embed_js.py /////////////////\n// prettier-ignore\nvar _JSXTOOLS_RESIZE_OBSERVER=function(A){var t,i=new WeakMap,n=new WeakMap,a=new WeakMap,r=new WeakMap,o=new Set;function s(e){if(!(this instanceof s))throw new TypeError(\"Constructor requires 'new' operator\");i.set(this,e)}function h(){throw new TypeError(\"Function is not a constructor\")}function c(e,t,i,n){e=0 in arguments?Number(arguments[0]):0,t=1 in arguments?Number(arguments[1]):0,i=2 in arguments?Number(arguments[2]):0,n=3 in arguments?Number(arguments[3]):0,this.right=(this.x=this.left=e)+(this.width=i),this.bottom=(this.y=this.top=t)+(this.height=n),Object.freeze(this)}function d(){t=requestAnimationFrame(d);var s=new WeakMap,p=new Set;o.forEach((function(t){r.get(t).forEach((function(i){var r=t instanceof window.SVGElement,o=a.get(t),d=r?0:parseFloat(o.paddingTop),f=r?0:parseFloat(o.paddingRight),l=r?0:parseFloat(o.paddingBottom),u=r?0:parseFloat(o.paddingLeft),g=r?0:parseFloat(o.borderTopWidth),m=r?0:parseFloat(o.borderRightWidth),w=r?0:parseFloat(o.borderBottomWidth),b=u+f,F=d+l,v=(r?0:parseFloat(o.borderLeftWidth))+m,W=g+w,y=r?0:t.offsetHeight-W-t.clientHeight,E=r?0:t.offsetWidth-v-t.clientWidth,R=b+v,z=F+W,M=r?t.width:parseFloat(o.width)-R-E,O=r?t.height:parseFloat(o.height)-z-y;if(n.has(t)){var k=n.get(t);if(k[0]===M&&k[1]===O)return}n.set(t,[M,O]);var S=Object.create(h.prototype);S.target=t,S.contentRect=new c(u,d,M,O),s.has(i)||(s.set(i,[]),p.add(i)),s.get(i).push(S)}))})),p.forEach((function(e){i.get(e).call(e,s.get(e),e)}))}return s.prototype.observe=function(i){if(i instanceof window.Element){r.has(i)||(r.set(i,new Set),o.add(i),a.set(i,window.getComputedStyle(i)));var n=r.get(i);n.has(this)||n.add(this),cancelAnimationFrame(t),t=requestAnimationFrame(d)}},s.prototype.unobserve=function(i){if(i instanceof window.Element&&r.has(i)){var n=r.get(i);n.has(this)&&(n.delete(this),n.size||(r.delete(i),o.delete(i))),n.size||r.delete(i),o.size||cancelAnimationFrame(t)}},A.DOMRectReadOnly=c,A.ResizeObserver=s,A.ResizeObserverEntry=h,A}; // eslint-disable-line\nmpl.toolbar_items = [[\"Home\", \"Reset original view\", \"fa fa-home\", \"home\"], [\"Back\", \"Back to previous view\", \"fa fa-arrow-left\", \"back\"], [\"Forward\", \"Forward to next view\", \"fa fa-arrow-right\", \"forward\"], [\"\", \"\", \"\", \"\"], [\"Pan\", \"Left button pans, Right button zooms\\nx/y fixes axis, CTRL fixes aspect\", \"fa fa-arrows\", \"pan\"], [\"Zoom\", \"Zoom to rectangle\\nx/y fixes axis\", \"fa fa-square-o\", \"zoom\"], [\"\", \"\", \"\", \"\"], [\"Download\", \"Download plot\", \"fa fa-floppy-o\", \"download\"]];\n\nmpl.extensions = [\"eps\", \"jpeg\", \"pgf\", \"pdf\", \"png\", \"ps\", \"raw\", \"svg\", \"tif\", \"webp\"];\n\nmpl.default_extension = \"png\";/* global mpl */\n\nvar comm_websocket_adapter = function (comm) {\n    // Create a \"websocket\"-like object which calls the given IPython comm\n    // object with the appropriate methods. Currently this is a non binary\n    // socket, so there is still some room for performance tuning.\n    var ws = {};\n\n    ws.binaryType = comm.kernel.ws.binaryType;\n    ws.readyState = comm.kernel.ws.readyState;\n    function updateReadyState(_event) {\n        if (comm.kernel.ws) {\n            ws.readyState = comm.kernel.ws.readyState;\n        } else {\n            ws.readyState = 3; // Closed state.\n        }\n    }\n    comm.kernel.ws.addEventListener('open', updateReadyState);\n    comm.kernel.ws.addEventListener('close', updateReadyState);\n    comm.kernel.ws.addEventListener('error', updateReadyState);\n\n    ws.close = function () {\n        comm.close();\n    };\n    ws.send = function (m) {\n        //console.log('sending', m);\n        comm.send(m);\n    };\n    // Register the callback with on_msg.\n    comm.on_msg(function (msg) {\n        //console.log('receiving', msg['content']['data'], msg);\n        var data = msg['content']['data'];\n        if (data['blob'] !== undefined) {\n            data = {\n                data: new Blob(msg['buffers'], { type: data['blob'] }),\n            };\n        }\n        // Pass the mpl event to the overridden (by mpl) onmessage function.\n        ws.onmessage(data);\n    });\n    return ws;\n};\n\nmpl.mpl_figure_comm = function (comm, msg) {\n    // This is the function which gets called when the mpl process\n    // starts-up an IPython Comm through the \"matplotlib\" channel.\n\n    var id = msg.content.data.id;\n    // Get hold of the div created by the display call when the Comm\n    // socket was opened in Python.\n    var element = document.getElementById(id);\n    var ws_proxy = comm_websocket_adapter(comm);\n\n    function ondownload(figure, _format) {\n        window.open(figure.canvas.toDataURL());\n    }\n\n    var fig = new mpl.figure(id, ws_proxy, ondownload, element);\n\n    // Call onopen now - mpl needs it, as it is assuming we've passed it a real\n    // web socket which is closed, not our websocket->open comm proxy.\n    ws_proxy.onopen();\n\n    fig.parent_element = element;\n    fig.cell_info = mpl.find_output_cell(\"<div id='\" + id + \"'></div>\");\n    if (!fig.cell_info) {\n        console.error('Failed to find cell for figure', id, fig);\n        return;\n    }\n    fig.cell_info[0].output_area.element.on(\n        'cleared',\n        { fig: fig },\n        fig._remove_fig_handler\n    );\n};\n\nmpl.figure.prototype.handle_close = function (fig, msg) {\n    var width = fig.canvas.width / fig.ratio;\n    fig.cell_info[0].output_area.element.off(\n        'cleared',\n        fig._remove_fig_handler\n    );\n    fig.resizeObserverInstance.unobserve(fig.canvas_div);\n\n    // Update the output cell to use the data from the current canvas.\n    fig.push_to_output();\n    var dataURL = fig.canvas.toDataURL();\n    // Re-enable the keyboard manager in IPython - without this line, in FF,\n    // the notebook keyboard shortcuts fail.\n    IPython.keyboard_manager.enable();\n    fig.parent_element.innerHTML =\n        '<img src=\"' + dataURL + '\" width=\"' + width + '\">';\n    fig.close_ws(fig, msg);\n};\n\nmpl.figure.prototype.close_ws = function (fig, msg) {\n    fig.send_message('closing', msg);\n    // fig.ws.close()\n};\n\nmpl.figure.prototype.push_to_output = function (_remove_interactive) {\n    // Turn the data on the canvas into data in the output cell.\n    var width = this.canvas.width / this.ratio;\n    var dataURL = this.canvas.toDataURL();\n    this.cell_info[1]['text/html'] =\n        '<img src=\"' + dataURL + '\" width=\"' + width + '\">';\n};\n\nmpl.figure.prototype.updated_canvas_event = function () {\n    // Tell IPython that the notebook contents must change.\n    IPython.notebook.set_dirty(true);\n    this.send_message('ack', {});\n    var fig = this;\n    // Wait a second, then push the new image to the DOM so\n    // that it is saved nicely (might be nice to debounce this).\n    setTimeout(function () {\n        fig.push_to_output();\n    }, 1000);\n};\n\nmpl.figure.prototype._init_toolbar = function () {\n    var fig = this;\n\n    var toolbar = document.createElement('div');\n    toolbar.classList = 'btn-toolbar';\n    this.root.appendChild(toolbar);\n\n    function on_click_closure(name) {\n        return function (_event) {\n            return fig.toolbar_button_onclick(name);\n        };\n    }\n\n    function on_mouseover_closure(tooltip) {\n        return function (event) {\n            if (!event.currentTarget.disabled) {\n                return fig.toolbar_button_onmouseover(tooltip);\n            }\n        };\n    }\n\n    fig.buttons = {};\n    var buttonGroup = document.createElement('div');\n    buttonGroup.classList = 'btn-group';\n    var button;\n    for (var toolbar_ind in mpl.toolbar_items) {\n        var name = mpl.toolbar_items[toolbar_ind][0];\n        var tooltip = mpl.toolbar_items[toolbar_ind][1];\n        var image = mpl.toolbar_items[toolbar_ind][2];\n        var method_name = mpl.toolbar_items[toolbar_ind][3];\n\n        if (!name) {\n            /* Instead of a spacer, we start a new button group. */\n            if (buttonGroup.hasChildNodes()) {\n                toolbar.appendChild(buttonGroup);\n            }\n            buttonGroup = document.createElement('div');\n            buttonGroup.classList = 'btn-group';\n            continue;\n        }\n\n        button = fig.buttons[name] = document.createElement('button');\n        button.classList = 'btn btn-default';\n        button.href = '#';\n        button.title = name;\n        button.innerHTML = '<i class=\"fa ' + image + ' fa-lg\"></i>';\n        button.addEventListener('click', on_click_closure(method_name));\n        button.addEventListener('mouseover', on_mouseover_closure(tooltip));\n        buttonGroup.appendChild(button);\n    }\n\n    if (buttonGroup.hasChildNodes()) {\n        toolbar.appendChild(buttonGroup);\n    }\n\n    // Add the status bar.\n    var status_bar = document.createElement('span');\n    status_bar.classList = 'mpl-message pull-right';\n    toolbar.appendChild(status_bar);\n    this.message = status_bar;\n\n    // Add the close button to the window.\n    var buttongrp = document.createElement('div');\n    buttongrp.classList = 'btn-group inline pull-right';\n    button = document.createElement('button');\n    button.classList = 'btn btn-mini btn-primary';\n    button.href = '#';\n    button.title = 'Stop Interaction';\n    button.innerHTML = '<i class=\"fa fa-power-off icon-remove icon-large\"></i>';\n    button.addEventListener('click', function (_evt) {\n        fig.handle_close(fig, {});\n    });\n    button.addEventListener(\n        'mouseover',\n        on_mouseover_closure('Stop Interaction')\n    );\n    buttongrp.appendChild(button);\n    var titlebar = this.root.querySelector('.ui-dialog-titlebar');\n    titlebar.insertBefore(buttongrp, titlebar.firstChild);\n};\n\nmpl.figure.prototype._remove_fig_handler = function (event) {\n    var fig = event.data.fig;\n    if (event.target !== this) {\n        // Ignore bubbled events from children.\n        return;\n    }\n    fig.close_ws(fig, {});\n};\n\nmpl.figure.prototype._root_extra_style = function (el) {\n    el.style.boxSizing = 'content-box'; // override notebook setting of border-box.\n};\n\nmpl.figure.prototype._canvas_extra_style = function (el) {\n    // this is important to make the div 'focusable\n    el.setAttribute('tabindex', 0);\n    // reach out to IPython and tell the keyboard manager to turn it's self\n    // off when our div gets focus\n\n    // location in version 3\n    if (IPython.notebook.keyboard_manager) {\n        IPython.notebook.keyboard_manager.register_events(el);\n    } else {\n        // location in version 2\n        IPython.keyboard_manager.register_events(el);\n    }\n};\n\nmpl.figure.prototype._key_event_extra = function (event, _name) {\n    // Check for shift+enter\n    if (event.shiftKey && event.which === 13) {\n        this.canvas_div.blur();\n        // select the cell after this one\n        var index = IPython.notebook.find_cell_index(this.cell_info[0]);\n        IPython.notebook.select(index + 1);\n    }\n};\n\nmpl.figure.prototype.handle_save = function (fig, _msg) {\n    fig.ondownload(fig, null);\n};\n\nmpl.find_output_cell = function (html_output) {\n    // Return the cell and output element which can be found *uniquely* in the notebook.\n    // Note - this is a bit hacky, but it is done because the \"notebook_saving.Notebook\"\n    // IPython event is triggered only after the cells have been serialised, which for\n    // our purposes (turning an active figure into a static one), is too late.\n    var cells = IPython.notebook.get_cells();\n    var ncells = cells.length;\n    for (var i = 0; i < ncells; i++) {\n        var cell = cells[i];\n        if (cell.cell_type === 'code') {\n            for (var j = 0; j < cell.output_area.outputs.length; j++) {\n                var data = cell.output_area.outputs[j];\n                if (data.data) {\n                    // IPython >= 3 moved mimebundle to data attribute of output\n                    data = data.data;\n                }\n                if (data['text/html'] === html_output) {\n                    return [cell, data, j];\n                }\n            }\n        }\n    }\n};\n\n// Register the function which deals with the matplotlib target/channel.\n// The kernel may be null if the page has been refreshed.\nif (IPython.notebook.kernel !== null) {\n    IPython.notebook.kernel.comm_manager.register_target(\n        'matplotlib',\n        mpl.mpl_figure_comm\n    );\n}\n"
     },
     "metadata": {},
     "output_type": "display_data"
    },
    {
     "data": {
      "text/plain": "<IPython.core.display.HTML object>",
      "text/html": "<div id='a652835e-ae9e-44f9-9074-88ac0af04a35'></div>"
     },
     "metadata": {},
     "output_type": "display_data"
    }
   ],
   "source": [
    "from utils_ex1.utils import plot_vc_tc_slider\n",
    "\n",
    "plt.close()\n",
    "plot_vc_tc_slider()"
   ]
  },
  {
   "cell_type": "markdown",
   "metadata": {
    "collapsed": false
   },
   "source": [
    "**Questions**: Varying $R$ and $C$, what can you say about the intersections of the tangent line and the vertical line at $V_S$ and of $V_C$ and the horizontal line at $0.63*V_S$?\n",
    "**Answer**: Both intersections occur at the same time $ t = R \\cdot C$.\n",
    "\n",
    "#TODO: this could be changed for the \"If you take ...\"\n",
    "**Question**: On the cell above change the value of `plot_vertical_tc` to `True` and run the cell. What do you observe? Does it correspond to your previous answer? \n",
    "**Answer**: Yes."
   ]
  },
  {
   "cell_type": "markdown",
   "metadata": {
    "collapsed": false
   },
   "source": [
    "### 1.c Making the parallel. <a class=\"anchor\" id=\"parallel\"></a>"
   ]
  },
  {
   "cell_type": "markdown",
   "metadata": {
    "collapsed": false
   },
   "source": [
    "Now that you know about the Nernst equation and the RC circuit, let's combine these concepts to understand the passive properties of a neuron membrane.\n",
    "The membrane of a neuron can be modeled as an electrical circuit with a capacitor in parallel with a resistors in series with a voltage source.\n",
    "- the capacitor represents the lipid bilayer of the membrane,\n",
    "- the voltage source represents the Nernst potential for a given ion, \n",
    "- the resistors represent the ion channels in the membrane.\n",
    "\n",
    "We use a current source $I_{in}$ to inject current into the neuron through the membrane, and the membrane potential changes over time.\n",
    "\n",
    "\n",
    "<img src=\"images_ex1/RC_parallel_light.drawio.png\" width=\"1000\"/>\n",
    "\n",
    "\n",
    "**Exercise**:\n",
    "- Using KCL, write the equation for the membrane potential of a neuron.\n",
    "- Using Euler's method, simulate the membrane potential of a neuron with multiple ion channels.\n"
   ]
  },
  {
   "cell_type": "markdown",
   "metadata": {
    "collapsed": false
   },
   "source": [
    "# 2. Adding complexity <a class=\"anchor\" id=\"complexity\"></a>"
   ]
  },
  {
   "cell_type": "markdown",
   "metadata": {
    "collapsed": false
   },
   "source": [
    "## 2.a Goldman-Hodgkin-Katz (GHK) Equation <a class=\"anchor\" id=\"GHK\"></a>\n",
    "The Goldman-Hodgkin-Katz (GHK) equation is an extension of the Nernst equation that accounts for the permeability of the membrane to multiple ions. \n",
    "It calculates the membrane potential based on the relative permeabilities of ions (sodium, potassium, and chloride) and their concentration gradients across the membrane. \n",
    "The GHK equation is given by:\n",
    "$$V_m = \\frac{RT}{F} \\ln \\left( \\frac{P_K[K^+]_{out} + P_{Na}[Na^+]_{out} + P_{Cl}[Cl^-]_{in}}{P_K[K^+]_{in} + P_{Na}[Na^+]_{in} + P_{Cl}[Cl^-]_{out}} \\right)$$\n",
    "where:\n",
    "- $V_m$ is the membrane potential in mV,\n",
    "- $R$ is the universal gas constant (8.314 J/(mol·K)),\n",
    "- $T$ is the temperature in Kelvin,\n",
    "- $F$ is the Faraday constant (96485 C/mol),\n",
    "- $P_K$, $P_{Na}$, and $P_{Cl}$ are the permeabilities of potassium, sodium, and chloride ions, respectively,\n",
    "- $[K^+]_{in}$, $[K^+]_{out}$, $[Na^+]_{in}$, $[Na^+]_{out}$, $[Cl^-]_{in}$, and $[Cl^-]_{out}$ are the intracellular and extracellular concentrations of potassium, sodium, and chloride ions, respectively.\n",
    "- The logarithm is natural (base e)."
   ]
  },
  {
   "cell_type": "code",
   "execution_count": 23,
   "metadata": {
    "collapsed": false,
    "ExecuteTime": {
     "end_time": "2024-09-19T22:47:44.994916Z",
     "start_time": "2024-09-19T22:47:44.992406Z"
    }
   },
   "outputs": [],
   "source": [
    "from utils_ex1.utils import plot_ghk_slider"
   ]
  },
  {
   "cell_type": "code",
   "execution_count": 24,
   "metadata": {
    "collapsed": false,
    "ExecuteTime": {
     "end_time": "2024-09-19T22:47:49.403572Z",
     "start_time": "2024-09-19T22:47:48.934601Z"
    }
   },
   "outputs": [
    {
     "data": {
      "text/plain": "HBox(children=(VBox(children=(FloatSlider(value=140.0, continuous_update=False, description='[K+]_in', layout=…",
      "application/vnd.jupyter.widget-view+json": {
       "version_major": 2,
       "version_minor": 0,
       "model_id": "ef5c530d87274714bf49977bb9004d63"
      }
     },
     "metadata": {},
     "output_type": "display_data"
    }
   ],
   "source": [
    "plt.close()\n",
    "plot_ghk_slider()"
   ]
  },
  {
   "cell_type": "markdown",
   "metadata": {
    "collapsed": false
   },
   "source": [
    "## 2.b 3 conductances model <a class=\"anchor\" id=\"3conductances\"></a>"
   ]
  },
  {
   "cell_type": "markdown",
   "metadata": {
    "collapsed": false
   },
   "source": [
    "\n"
   ]
  },
  {
   "cell_type": "markdown",
   "metadata": {
    "collapsed": false
   },
   "source": [
    "**Goal**: Explain how the neuron can be modeled as a circuit with multiple conductances (sodium, potassium, and chloride).\n",
    "\n",
    "**Model**: \n",
    "  - Introduce the conductance-based model, where each ion's channel is represented as a separate conductance $g_{ion}$ in the circuit.\n",
    "\n",
    "**Explanation**:\n",
    "  - Provide intuition on how the overall membrane potential is the result of the combined influence of different ions.  \n",
    "\n",
    "**Exercise**:\n",
    "  - Write a function to simulate the membrane potential using the 3-conductance model."
   ]
  },
  {
   "cell_type": "markdown",
   "metadata": {
    "collapsed": false
   },
   "source": [
    "\n",
    "In exercise 1.b you saw that the membrane of a neuron can be modelled as electrical circuits. Then you demonstrated how to model the Nerst equation as a RC circuit.\n",
    "In exercise 2.a, the GHK equations models the membrane potential based on three ions (Na+, K+, Cl-).\n",
    "The goal of this exercise is to model the GHK equation as a circuit with three conductances (sodium, potassium, and chloride).\n",
    "\n",
    "**Question**: \n",
    "- How can you model the GHK equation as a circuit with three conductances?\n",
    "\n",
    "**Answer**:\n",
    "- Each ion type can be modelled as a resistor and a battery connected in series. \n",
    "- This simple representation for each given ion can be integrated into a full equivalent circuit for the cell membrane by connecting the circuit for each ion in parallel, and adding a capacitor in parallel to the resistors and batteries.\n",
    "\n",
    "**Question**: \n",
    "- What is the relationship between the permeability of the membrane and the resistance for that ion?\n",
    "\n",
    "**Answer**:\n",
    "- The resistance depends on the permeability of the membrane to that given ion: the higher the permeability, the lower the resistance for that ion. \n",
    "\n",
    "**Question**:\n",
    "- How can you represent the electrical potential generated by an ion across the membrane?\n",
    "\n",
    "**Answer**:\n",
    "- The ion species also generates an electrical potential across the membrane as expressed by its Nernst potential, and is represented by a battery in the model circuit. \n",
    "\n",
    "**Question**: Draw the equivalent circuit for the cell membrane with three conductances."
   ]
  },
  {
   "cell_type": "markdown",
   "metadata": {
    "collapsed": false
   },
   "source": [
    "<img src=\"images_ex1/ghk_circuit.png\" width=\"1000\"/>"
   ]
  },
  {
   "cell_type": "markdown",
   "metadata": {
    "collapsed": false
   },
   "source": [
    "**Question**: From the equivalent circuit, use Kirchhoff's laws to write the equation for the membrane potential of a neuron with three conductances.\n",
    "\n",
    "**Answer**:\n",
    "- The membrane potential $V_m$ is the sum of the potentials generated by each ion across the membrane.\n",
    "- Using Kirchhoff's current law, the total current entering the node is equal to the total current leaving the node.\n",
    "- At equilibrium (no net current), the total current entering the node is zero i.e. $I_{in} = 0 = I_{K} + I_{Na} + I_{Cl}$.\n",
    "- The current through each resistor is given by Ohm's law: $I_{ion} = g_{ion} \\cdot (V_m - E_{ion})$ where $g_{ion} = 1/R_{ion}$ is the conductance of the ion channel.\n",
    "- We then can write \n",
    "- $0 = g_{K} \\cdot (V_m - E_{K}) + g_{Na} \\cdot (V_m - E_{Na}) + g_{Cl} \\cdot (V_m - E_{Cl})$.\n",
    "- $\\Leftrightarrow 0 = g_{K} \\cdot V_m - g_{K} \\cdot E_{K} + g_{Na} \\cdot V_m - g_{Na} \\cdot E_{Na} + g_{Cl} \\cdot V_m - g_{Cl} \\cdot E_{Cl}$.\n",
    "- $\\Leftrightarrow 0 = (g_{K} + g_{Na} + g_{Cl}) \\cdot V_m - g_{K} \\cdot E_{K} - g_{Na} \\cdot E_{Na} - g_{Cl} \\cdot E_{Cl}$.\n",
    "- $\\Leftrightarrow V_m = \\frac{g_{K} \\cdot E_{K} + g_{Na} \\cdot E_{Na} + g_{Cl} \\cdot E_{Cl}}{g_{K} + g_{Na} + g_{Cl}}$."
   ]
  },
  {
   "cell_type": "code",
   "execution_count": 25,
   "metadata": {
    "collapsed": false,
    "ExecuteTime": {
     "end_time": "2024-09-19T22:47:59.378598Z",
     "start_time": "2024-09-19T22:47:59.375293Z"
    }
   },
   "outputs": [],
   "source": [
    "# Question: Write a function to simulate the membrane potential using the 3-conductance model.\n",
    "def membrane_potential(g_K, E_K, g_Na, E_Na, g_Cl, E_Cl):\n",
    "    return (g_K * E_K + g_Na * E_Na + g_Cl * E_Cl) / (g_K + g_Na + g_Cl)\n"
   ]
  },
  {
   "cell_type": "code",
   "execution_count": 26,
   "metadata": {
    "collapsed": false,
    "ExecuteTime": {
     "end_time": "2024-09-19T22:47:59.894178Z",
     "start_time": "2024-09-19T22:47:59.892361Z"
    }
   },
   "outputs": [],
   "source": [
    "#TODO: maybe use the charge equation for RC circuit to explain better\n",
    "#TODO: Understand Nerst equation with Resistance\n",
    "#TODO: password protected solutions"
   ]
  },
  {
   "cell_type": "markdown",
   "metadata": {
    "collapsed": false
   },
   "source": [
    "# 3. Passive cable equations <a class=\"anchor\" id=\"passive\"></a>\n",
    "For a passive membrane, the membrane potential $V(x,t)$ is determined by solving the following partial differential equation (linear cable equation):\n",
    "$\\tau_m \\frac{\\partial v}{\\partial t} = R_m \\frac{\\partial^2 v}{\\partial x^2} - v + r_m i_e$\n",
    "where:\n",
    "- $\\tau_m = r_m c_m$ sets the scale for the temporal variation in the membrane potential,\n",
    "- $\\lambda = \\sqrt{\\frac{r_m}{r_l}}$ sets the scale for the spatial variation in the membrane potential. $\\lambda$ is called the electrotonic length constant.\n",
    "with:\n",
    "- $c_m$ is the specific membrane capacitance (1 $\\mu F/cm^2$),\n",
    "- $a$ is the radius of the cable (axon in our case),\n",
    "- $v = V - V_{rest}$ is the membrane potential relative to the resting potential,\n",
    "- $r_m$ is the specific membrane resistance (= $1 M\\Omega \\cdot mm^2$),\n",
    "- $r_L$ is the longitudinal resistance (= $1 k\\Omega \\cdot mm$),\n",
    "- $i_e$ is the current injected into the cable."
   ]
  },
  {
   "cell_type": "markdown",
   "metadata": {
    "collapsed": false
   },
   "source": [
    "Assuming an infinite cable and inject a constant current $i_e$ locally at $x = 0$. \n",
    "The steady-state solution (so that $\\frac{\\partial v}{\\partial t} = 0 $) of the cable equation then is:\n",
    "$v(x) = \\frac{i_e R_L}{2} e^{\\frac{-|x|}{\\lambda}}$ with $R_L = \\frac{r_L \\lambda}{\\pi a^2}$."
   ]
  },
  {
   "cell_type": "code",
   "execution_count": 30,
   "metadata": {
    "collapsed": false,
    "ExecuteTime": {
     "end_time": "2024-09-19T22:48:31.013607Z",
     "start_time": "2024-09-19T22:48:30.999189Z"
    }
   },
   "outputs": [
    {
     "name": "stdout",
     "output_type": "stream",
     "text": [
      "Electrotonic length constant: 31.62 mm\n"
     ]
    },
    {
     "data": {
      "text/plain": "<IPython.core.display.Javascript object>",
      "application/javascript": "/* Put everything inside the global mpl namespace */\n/* global mpl */\nwindow.mpl = {};\n\nmpl.get_websocket_type = function () {\n    if (typeof WebSocket !== 'undefined') {\n        return WebSocket;\n    } else if (typeof MozWebSocket !== 'undefined') {\n        return MozWebSocket;\n    } else {\n        alert(\n            'Your browser does not have WebSocket support. ' +\n                'Please try Chrome, Safari or Firefox ≥ 6. ' +\n                'Firefox 4 and 5 are also supported but you ' +\n                'have to enable WebSockets in about:config.'\n        );\n    }\n};\n\nmpl.figure = function (figure_id, websocket, ondownload, parent_element) {\n    this.id = figure_id;\n\n    this.ws = websocket;\n\n    this.supports_binary = this.ws.binaryType !== undefined;\n\n    if (!this.supports_binary) {\n        var warnings = document.getElementById('mpl-warnings');\n        if (warnings) {\n            warnings.style.display = 'block';\n            warnings.textContent =\n                'This browser does not support binary websocket messages. ' +\n                'Performance may be slow.';\n        }\n    }\n\n    this.imageObj = new Image();\n\n    this.context = undefined;\n    this.message = undefined;\n    this.canvas = undefined;\n    this.rubberband_canvas = undefined;\n    this.rubberband_context = undefined;\n    this.format_dropdown = undefined;\n\n    this.image_mode = 'full';\n\n    this.root = document.createElement('div');\n    this.root.setAttribute('style', 'display: inline-block');\n    this._root_extra_style(this.root);\n\n    parent_element.appendChild(this.root);\n\n    this._init_header(this);\n    this._init_canvas(this);\n    this._init_toolbar(this);\n\n    var fig = this;\n\n    this.waiting = false;\n\n    this.ws.onopen = function () {\n        fig.send_message('supports_binary', { value: fig.supports_binary });\n        fig.send_message('send_image_mode', {});\n        if (fig.ratio !== 1) {\n            fig.send_message('set_device_pixel_ratio', {\n                device_pixel_ratio: fig.ratio,\n            });\n        }\n        fig.send_message('refresh', {});\n    };\n\n    this.imageObj.onload = function () {\n        if (fig.image_mode === 'full') {\n            // Full images could contain transparency (where diff images\n            // almost always do), so we need to clear the canvas so that\n            // there is no ghosting.\n            fig.context.clearRect(0, 0, fig.canvas.width, fig.canvas.height);\n        }\n        fig.context.drawImage(fig.imageObj, 0, 0);\n    };\n\n    this.imageObj.onunload = function () {\n        fig.ws.close();\n    };\n\n    this.ws.onmessage = this._make_on_message_function(this);\n\n    this.ondownload = ondownload;\n};\n\nmpl.figure.prototype._init_header = function () {\n    var titlebar = document.createElement('div');\n    titlebar.classList =\n        'ui-dialog-titlebar ui-widget-header ui-corner-all ui-helper-clearfix';\n    var titletext = document.createElement('div');\n    titletext.classList = 'ui-dialog-title';\n    titletext.setAttribute(\n        'style',\n        'width: 100%; text-align: center; padding: 3px;'\n    );\n    titlebar.appendChild(titletext);\n    this.root.appendChild(titlebar);\n    this.header = titletext;\n};\n\nmpl.figure.prototype._canvas_extra_style = function (_canvas_div) {};\n\nmpl.figure.prototype._root_extra_style = function (_canvas_div) {};\n\nmpl.figure.prototype._init_canvas = function () {\n    var fig = this;\n\n    var canvas_div = (this.canvas_div = document.createElement('div'));\n    canvas_div.setAttribute('tabindex', '0');\n    canvas_div.setAttribute(\n        'style',\n        'border: 1px solid #ddd;' +\n            'box-sizing: content-box;' +\n            'clear: both;' +\n            'min-height: 1px;' +\n            'min-width: 1px;' +\n            'outline: 0;' +\n            'overflow: hidden;' +\n            'position: relative;' +\n            'resize: both;' +\n            'z-index: 2;'\n    );\n\n    function on_keyboard_event_closure(name) {\n        return function (event) {\n            return fig.key_event(event, name);\n        };\n    }\n\n    canvas_div.addEventListener(\n        'keydown',\n        on_keyboard_event_closure('key_press')\n    );\n    canvas_div.addEventListener(\n        'keyup',\n        on_keyboard_event_closure('key_release')\n    );\n\n    this._canvas_extra_style(canvas_div);\n    this.root.appendChild(canvas_div);\n\n    var canvas = (this.canvas = document.createElement('canvas'));\n    canvas.classList.add('mpl-canvas');\n    canvas.setAttribute(\n        'style',\n        'box-sizing: content-box;' +\n            'pointer-events: none;' +\n            'position: relative;' +\n            'z-index: 0;'\n    );\n\n    this.context = canvas.getContext('2d');\n\n    var backingStore =\n        this.context.backingStorePixelRatio ||\n        this.context.webkitBackingStorePixelRatio ||\n        this.context.mozBackingStorePixelRatio ||\n        this.context.msBackingStorePixelRatio ||\n        this.context.oBackingStorePixelRatio ||\n        this.context.backingStorePixelRatio ||\n        1;\n\n    this.ratio = (window.devicePixelRatio || 1) / backingStore;\n\n    var rubberband_canvas = (this.rubberband_canvas = document.createElement(\n        'canvas'\n    ));\n    rubberband_canvas.setAttribute(\n        'style',\n        'box-sizing: content-box;' +\n            'left: 0;' +\n            'pointer-events: none;' +\n            'position: absolute;' +\n            'top: 0;' +\n            'z-index: 1;'\n    );\n\n    // Apply a ponyfill if ResizeObserver is not implemented by browser.\n    if (this.ResizeObserver === undefined) {\n        if (window.ResizeObserver !== undefined) {\n            this.ResizeObserver = window.ResizeObserver;\n        } else {\n            var obs = _JSXTOOLS_RESIZE_OBSERVER({});\n            this.ResizeObserver = obs.ResizeObserver;\n        }\n    }\n\n    this.resizeObserverInstance = new this.ResizeObserver(function (entries) {\n        // There's no need to resize if the WebSocket is not connected:\n        // - If it is still connecting, then we will get an initial resize from\n        //   Python once it connects.\n        // - If it has disconnected, then resizing will clear the canvas and\n        //   never get anything back to refill it, so better to not resize and\n        //   keep something visible.\n        if (fig.ws.readyState != 1) {\n            return;\n        }\n        var nentries = entries.length;\n        for (var i = 0; i < nentries; i++) {\n            var entry = entries[i];\n            var width, height;\n            if (entry.contentBoxSize) {\n                if (entry.contentBoxSize instanceof Array) {\n                    // Chrome 84 implements new version of spec.\n                    width = entry.contentBoxSize[0].inlineSize;\n                    height = entry.contentBoxSize[0].blockSize;\n                } else {\n                    // Firefox implements old version of spec.\n                    width = entry.contentBoxSize.inlineSize;\n                    height = entry.contentBoxSize.blockSize;\n                }\n            } else {\n                // Chrome <84 implements even older version of spec.\n                width = entry.contentRect.width;\n                height = entry.contentRect.height;\n            }\n\n            // Keep the size of the canvas and rubber band canvas in sync with\n            // the canvas container.\n            if (entry.devicePixelContentBoxSize) {\n                // Chrome 84 implements new version of spec.\n                canvas.setAttribute(\n                    'width',\n                    entry.devicePixelContentBoxSize[0].inlineSize\n                );\n                canvas.setAttribute(\n                    'height',\n                    entry.devicePixelContentBoxSize[0].blockSize\n                );\n            } else {\n                canvas.setAttribute('width', width * fig.ratio);\n                canvas.setAttribute('height', height * fig.ratio);\n            }\n            /* This rescales the canvas back to display pixels, so that it\n             * appears correct on HiDPI screens. */\n            canvas.style.width = width + 'px';\n            canvas.style.height = height + 'px';\n\n            rubberband_canvas.setAttribute('width', width);\n            rubberband_canvas.setAttribute('height', height);\n\n            // And update the size in Python. We ignore the initial 0/0 size\n            // that occurs as the element is placed into the DOM, which should\n            // otherwise not happen due to the minimum size styling.\n            if (width != 0 && height != 0) {\n                fig.request_resize(width, height);\n            }\n        }\n    });\n    this.resizeObserverInstance.observe(canvas_div);\n\n    function on_mouse_event_closure(name) {\n        /* User Agent sniffing is bad, but WebKit is busted:\n         * https://bugs.webkit.org/show_bug.cgi?id=144526\n         * https://bugs.webkit.org/show_bug.cgi?id=181818\n         * The worst that happens here is that they get an extra browser\n         * selection when dragging, if this check fails to catch them.\n         */\n        var UA = navigator.userAgent;\n        var isWebKit = /AppleWebKit/.test(UA) && !/Chrome/.test(UA);\n        if(isWebKit) {\n            return function (event) {\n                /* This prevents the web browser from automatically changing to\n                 * the text insertion cursor when the button is pressed. We\n                 * want to control all of the cursor setting manually through\n                 * the 'cursor' event from matplotlib */\n                event.preventDefault()\n                return fig.mouse_event(event, name);\n            };\n        } else {\n            return function (event) {\n                return fig.mouse_event(event, name);\n            };\n        }\n    }\n\n    canvas_div.addEventListener(\n        'mousedown',\n        on_mouse_event_closure('button_press')\n    );\n    canvas_div.addEventListener(\n        'mouseup',\n        on_mouse_event_closure('button_release')\n    );\n    canvas_div.addEventListener(\n        'dblclick',\n        on_mouse_event_closure('dblclick')\n    );\n    // Throttle sequential mouse events to 1 every 20ms.\n    canvas_div.addEventListener(\n        'mousemove',\n        on_mouse_event_closure('motion_notify')\n    );\n\n    canvas_div.addEventListener(\n        'mouseenter',\n        on_mouse_event_closure('figure_enter')\n    );\n    canvas_div.addEventListener(\n        'mouseleave',\n        on_mouse_event_closure('figure_leave')\n    );\n\n    canvas_div.addEventListener('wheel', function (event) {\n        if (event.deltaY < 0) {\n            event.step = 1;\n        } else {\n            event.step = -1;\n        }\n        on_mouse_event_closure('scroll')(event);\n    });\n\n    canvas_div.appendChild(canvas);\n    canvas_div.appendChild(rubberband_canvas);\n\n    this.rubberband_context = rubberband_canvas.getContext('2d');\n    this.rubberband_context.strokeStyle = '#000000';\n\n    this._resize_canvas = function (width, height, forward) {\n        if (forward) {\n            canvas_div.style.width = width + 'px';\n            canvas_div.style.height = height + 'px';\n        }\n    };\n\n    // Disable right mouse context menu.\n    canvas_div.addEventListener('contextmenu', function (_e) {\n        event.preventDefault();\n        return false;\n    });\n\n    function set_focus() {\n        canvas.focus();\n        canvas_div.focus();\n    }\n\n    window.setTimeout(set_focus, 100);\n};\n\nmpl.figure.prototype._init_toolbar = function () {\n    var fig = this;\n\n    var toolbar = document.createElement('div');\n    toolbar.classList = 'mpl-toolbar';\n    this.root.appendChild(toolbar);\n\n    function on_click_closure(name) {\n        return function (_event) {\n            return fig.toolbar_button_onclick(name);\n        };\n    }\n\n    function on_mouseover_closure(tooltip) {\n        return function (event) {\n            if (!event.currentTarget.disabled) {\n                return fig.toolbar_button_onmouseover(tooltip);\n            }\n        };\n    }\n\n    fig.buttons = {};\n    var buttonGroup = document.createElement('div');\n    buttonGroup.classList = 'mpl-button-group';\n    for (var toolbar_ind in mpl.toolbar_items) {\n        var name = mpl.toolbar_items[toolbar_ind][0];\n        var tooltip = mpl.toolbar_items[toolbar_ind][1];\n        var image = mpl.toolbar_items[toolbar_ind][2];\n        var method_name = mpl.toolbar_items[toolbar_ind][3];\n\n        if (!name) {\n            /* Instead of a spacer, we start a new button group. */\n            if (buttonGroup.hasChildNodes()) {\n                toolbar.appendChild(buttonGroup);\n            }\n            buttonGroup = document.createElement('div');\n            buttonGroup.classList = 'mpl-button-group';\n            continue;\n        }\n\n        var button = (fig.buttons[name] = document.createElement('button'));\n        button.classList = 'mpl-widget';\n        button.setAttribute('role', 'button');\n        button.setAttribute('aria-disabled', 'false');\n        button.addEventListener('click', on_click_closure(method_name));\n        button.addEventListener('mouseover', on_mouseover_closure(tooltip));\n\n        var icon_img = document.createElement('img');\n        icon_img.src = '_images/' + image + '.png';\n        icon_img.srcset = '_images/' + image + '_large.png 2x';\n        icon_img.alt = tooltip;\n        button.appendChild(icon_img);\n\n        buttonGroup.appendChild(button);\n    }\n\n    if (buttonGroup.hasChildNodes()) {\n        toolbar.appendChild(buttonGroup);\n    }\n\n    var fmt_picker = document.createElement('select');\n    fmt_picker.classList = 'mpl-widget';\n    toolbar.appendChild(fmt_picker);\n    this.format_dropdown = fmt_picker;\n\n    for (var ind in mpl.extensions) {\n        var fmt = mpl.extensions[ind];\n        var option = document.createElement('option');\n        option.selected = fmt === mpl.default_extension;\n        option.innerHTML = fmt;\n        fmt_picker.appendChild(option);\n    }\n\n    var status_bar = document.createElement('span');\n    status_bar.classList = 'mpl-message';\n    toolbar.appendChild(status_bar);\n    this.message = status_bar;\n};\n\nmpl.figure.prototype.request_resize = function (x_pixels, y_pixels) {\n    // Request matplotlib to resize the figure. Matplotlib will then trigger a resize in the client,\n    // which will in turn request a refresh of the image.\n    this.send_message('resize', { width: x_pixels, height: y_pixels });\n};\n\nmpl.figure.prototype.send_message = function (type, properties) {\n    properties['type'] = type;\n    properties['figure_id'] = this.id;\n    this.ws.send(JSON.stringify(properties));\n};\n\nmpl.figure.prototype.send_draw_message = function () {\n    if (!this.waiting) {\n        this.waiting = true;\n        this.ws.send(JSON.stringify({ type: 'draw', figure_id: this.id }));\n    }\n};\n\nmpl.figure.prototype.handle_save = function (fig, _msg) {\n    var format_dropdown = fig.format_dropdown;\n    var format = format_dropdown.options[format_dropdown.selectedIndex].value;\n    fig.ondownload(fig, format);\n};\n\nmpl.figure.prototype.handle_resize = function (fig, msg) {\n    var size = msg['size'];\n    if (size[0] !== fig.canvas.width || size[1] !== fig.canvas.height) {\n        fig._resize_canvas(size[0], size[1], msg['forward']);\n        fig.send_message('refresh', {});\n    }\n};\n\nmpl.figure.prototype.handle_rubberband = function (fig, msg) {\n    var x0 = msg['x0'] / fig.ratio;\n    var y0 = (fig.canvas.height - msg['y0']) / fig.ratio;\n    var x1 = msg['x1'] / fig.ratio;\n    var y1 = (fig.canvas.height - msg['y1']) / fig.ratio;\n    x0 = Math.floor(x0) + 0.5;\n    y0 = Math.floor(y0) + 0.5;\n    x1 = Math.floor(x1) + 0.5;\n    y1 = Math.floor(y1) + 0.5;\n    var min_x = Math.min(x0, x1);\n    var min_y = Math.min(y0, y1);\n    var width = Math.abs(x1 - x0);\n    var height = Math.abs(y1 - y0);\n\n    fig.rubberband_context.clearRect(\n        0,\n        0,\n        fig.canvas.width / fig.ratio,\n        fig.canvas.height / fig.ratio\n    );\n\n    fig.rubberband_context.strokeRect(min_x, min_y, width, height);\n};\n\nmpl.figure.prototype.handle_figure_label = function (fig, msg) {\n    // Updates the figure title.\n    fig.header.textContent = msg['label'];\n};\n\nmpl.figure.prototype.handle_cursor = function (fig, msg) {\n    fig.canvas_div.style.cursor = msg['cursor'];\n};\n\nmpl.figure.prototype.handle_message = function (fig, msg) {\n    fig.message.textContent = msg['message'];\n};\n\nmpl.figure.prototype.handle_draw = function (fig, _msg) {\n    // Request the server to send over a new figure.\n    fig.send_draw_message();\n};\n\nmpl.figure.prototype.handle_image_mode = function (fig, msg) {\n    fig.image_mode = msg['mode'];\n};\n\nmpl.figure.prototype.handle_history_buttons = function (fig, msg) {\n    for (var key in msg) {\n        if (!(key in fig.buttons)) {\n            continue;\n        }\n        fig.buttons[key].disabled = !msg[key];\n        fig.buttons[key].setAttribute('aria-disabled', !msg[key]);\n    }\n};\n\nmpl.figure.prototype.handle_navigate_mode = function (fig, msg) {\n    if (msg['mode'] === 'PAN') {\n        fig.buttons['Pan'].classList.add('active');\n        fig.buttons['Zoom'].classList.remove('active');\n    } else if (msg['mode'] === 'ZOOM') {\n        fig.buttons['Pan'].classList.remove('active');\n        fig.buttons['Zoom'].classList.add('active');\n    } else {\n        fig.buttons['Pan'].classList.remove('active');\n        fig.buttons['Zoom'].classList.remove('active');\n    }\n};\n\nmpl.figure.prototype.updated_canvas_event = function () {\n    // Called whenever the canvas gets updated.\n    this.send_message('ack', {});\n};\n\n// A function to construct a web socket function for onmessage handling.\n// Called in the figure constructor.\nmpl.figure.prototype._make_on_message_function = function (fig) {\n    return function socket_on_message(evt) {\n        if (evt.data instanceof Blob) {\n            var img = evt.data;\n            if (img.type !== 'image/png') {\n                /* FIXME: We get \"Resource interpreted as Image but\n                 * transferred with MIME type text/plain:\" errors on\n                 * Chrome.  But how to set the MIME type?  It doesn't seem\n                 * to be part of the websocket stream */\n                img.type = 'image/png';\n            }\n\n            /* Free the memory for the previous frames */\n            if (fig.imageObj.src) {\n                (window.URL || window.webkitURL).revokeObjectURL(\n                    fig.imageObj.src\n                );\n            }\n\n            fig.imageObj.src = (window.URL || window.webkitURL).createObjectURL(\n                img\n            );\n            fig.updated_canvas_event();\n            fig.waiting = false;\n            return;\n        } else if (\n            typeof evt.data === 'string' &&\n            evt.data.slice(0, 21) === 'data:image/png;base64'\n        ) {\n            fig.imageObj.src = evt.data;\n            fig.updated_canvas_event();\n            fig.waiting = false;\n            return;\n        }\n\n        var msg = JSON.parse(evt.data);\n        var msg_type = msg['type'];\n\n        // Call the  \"handle_{type}\" callback, which takes\n        // the figure and JSON message as its only arguments.\n        try {\n            var callback = fig['handle_' + msg_type];\n        } catch (e) {\n            console.log(\n                \"No handler for the '\" + msg_type + \"' message type: \",\n                msg\n            );\n            return;\n        }\n\n        if (callback) {\n            try {\n                // console.log(\"Handling '\" + msg_type + \"' message: \", msg);\n                callback(fig, msg);\n            } catch (e) {\n                console.log(\n                    \"Exception inside the 'handler_\" + msg_type + \"' callback:\",\n                    e,\n                    e.stack,\n                    msg\n                );\n            }\n        }\n    };\n};\n\nfunction getModifiers(event) {\n    var mods = [];\n    if (event.ctrlKey) {\n        mods.push('ctrl');\n    }\n    if (event.altKey) {\n        mods.push('alt');\n    }\n    if (event.shiftKey) {\n        mods.push('shift');\n    }\n    if (event.metaKey) {\n        mods.push('meta');\n    }\n    return mods;\n}\n\n/*\n * return a copy of an object with only non-object keys\n * we need this to avoid circular references\n * https://stackoverflow.com/a/24161582/3208463\n */\nfunction simpleKeys(original) {\n    return Object.keys(original).reduce(function (obj, key) {\n        if (typeof original[key] !== 'object') {\n            obj[key] = original[key];\n        }\n        return obj;\n    }, {});\n}\n\nmpl.figure.prototype.mouse_event = function (event, name) {\n    if (name === 'button_press') {\n        this.canvas.focus();\n        this.canvas_div.focus();\n    }\n\n    // from https://stackoverflow.com/q/1114465\n    var boundingRect = this.canvas.getBoundingClientRect();\n    var x = (event.clientX - boundingRect.left) * this.ratio;\n    var y = (event.clientY - boundingRect.top) * this.ratio;\n\n    this.send_message(name, {\n        x: x,\n        y: y,\n        button: event.button,\n        step: event.step,\n        modifiers: getModifiers(event),\n        guiEvent: simpleKeys(event),\n    });\n\n    return false;\n};\n\nmpl.figure.prototype._key_event_extra = function (_event, _name) {\n    // Handle any extra behaviour associated with a key event\n};\n\nmpl.figure.prototype.key_event = function (event, name) {\n    // Prevent repeat events\n    if (name === 'key_press') {\n        if (event.key === this._key) {\n            return;\n        } else {\n            this._key = event.key;\n        }\n    }\n    if (name === 'key_release') {\n        this._key = null;\n    }\n\n    var value = '';\n    if (event.ctrlKey && event.key !== 'Control') {\n        value += 'ctrl+';\n    }\n    else if (event.altKey && event.key !== 'Alt') {\n        value += 'alt+';\n    }\n    else if (event.shiftKey && event.key !== 'Shift') {\n        value += 'shift+';\n    }\n\n    value += 'k' + event.key;\n\n    this._key_event_extra(event, name);\n\n    this.send_message(name, { key: value, guiEvent: simpleKeys(event) });\n    return false;\n};\n\nmpl.figure.prototype.toolbar_button_onclick = function (name) {\n    if (name === 'download') {\n        this.handle_save(this, null);\n    } else {\n        this.send_message('toolbar_button', { name: name });\n    }\n};\n\nmpl.figure.prototype.toolbar_button_onmouseover = function (tooltip) {\n    this.message.textContent = tooltip;\n};\n\n///////////////// REMAINING CONTENT GENERATED BY embed_js.py /////////////////\n// prettier-ignore\nvar _JSXTOOLS_RESIZE_OBSERVER=function(A){var t,i=new WeakMap,n=new WeakMap,a=new WeakMap,r=new WeakMap,o=new Set;function s(e){if(!(this instanceof s))throw new TypeError(\"Constructor requires 'new' operator\");i.set(this,e)}function h(){throw new TypeError(\"Function is not a constructor\")}function c(e,t,i,n){e=0 in arguments?Number(arguments[0]):0,t=1 in arguments?Number(arguments[1]):0,i=2 in arguments?Number(arguments[2]):0,n=3 in arguments?Number(arguments[3]):0,this.right=(this.x=this.left=e)+(this.width=i),this.bottom=(this.y=this.top=t)+(this.height=n),Object.freeze(this)}function d(){t=requestAnimationFrame(d);var s=new WeakMap,p=new Set;o.forEach((function(t){r.get(t).forEach((function(i){var r=t instanceof window.SVGElement,o=a.get(t),d=r?0:parseFloat(o.paddingTop),f=r?0:parseFloat(o.paddingRight),l=r?0:parseFloat(o.paddingBottom),u=r?0:parseFloat(o.paddingLeft),g=r?0:parseFloat(o.borderTopWidth),m=r?0:parseFloat(o.borderRightWidth),w=r?0:parseFloat(o.borderBottomWidth),b=u+f,F=d+l,v=(r?0:parseFloat(o.borderLeftWidth))+m,W=g+w,y=r?0:t.offsetHeight-W-t.clientHeight,E=r?0:t.offsetWidth-v-t.clientWidth,R=b+v,z=F+W,M=r?t.width:parseFloat(o.width)-R-E,O=r?t.height:parseFloat(o.height)-z-y;if(n.has(t)){var k=n.get(t);if(k[0]===M&&k[1]===O)return}n.set(t,[M,O]);var S=Object.create(h.prototype);S.target=t,S.contentRect=new c(u,d,M,O),s.has(i)||(s.set(i,[]),p.add(i)),s.get(i).push(S)}))})),p.forEach((function(e){i.get(e).call(e,s.get(e),e)}))}return s.prototype.observe=function(i){if(i instanceof window.Element){r.has(i)||(r.set(i,new Set),o.add(i),a.set(i,window.getComputedStyle(i)));var n=r.get(i);n.has(this)||n.add(this),cancelAnimationFrame(t),t=requestAnimationFrame(d)}},s.prototype.unobserve=function(i){if(i instanceof window.Element&&r.has(i)){var n=r.get(i);n.has(this)&&(n.delete(this),n.size||(r.delete(i),o.delete(i))),n.size||r.delete(i),o.size||cancelAnimationFrame(t)}},A.DOMRectReadOnly=c,A.ResizeObserver=s,A.ResizeObserverEntry=h,A}; // eslint-disable-line\nmpl.toolbar_items = [[\"Home\", \"Reset original view\", \"fa fa-home\", \"home\"], [\"Back\", \"Back to previous view\", \"fa fa-arrow-left\", \"back\"], [\"Forward\", \"Forward to next view\", \"fa fa-arrow-right\", \"forward\"], [\"\", \"\", \"\", \"\"], [\"Pan\", \"Left button pans, Right button zooms\\nx/y fixes axis, CTRL fixes aspect\", \"fa fa-arrows\", \"pan\"], [\"Zoom\", \"Zoom to rectangle\\nx/y fixes axis\", \"fa fa-square-o\", \"zoom\"], [\"\", \"\", \"\", \"\"], [\"Download\", \"Download plot\", \"fa fa-floppy-o\", \"download\"]];\n\nmpl.extensions = [\"eps\", \"jpeg\", \"pgf\", \"pdf\", \"png\", \"ps\", \"raw\", \"svg\", \"tif\", \"webp\"];\n\nmpl.default_extension = \"png\";/* global mpl */\n\nvar comm_websocket_adapter = function (comm) {\n    // Create a \"websocket\"-like object which calls the given IPython comm\n    // object with the appropriate methods. Currently this is a non binary\n    // socket, so there is still some room for performance tuning.\n    var ws = {};\n\n    ws.binaryType = comm.kernel.ws.binaryType;\n    ws.readyState = comm.kernel.ws.readyState;\n    function updateReadyState(_event) {\n        if (comm.kernel.ws) {\n            ws.readyState = comm.kernel.ws.readyState;\n        } else {\n            ws.readyState = 3; // Closed state.\n        }\n    }\n    comm.kernel.ws.addEventListener('open', updateReadyState);\n    comm.kernel.ws.addEventListener('close', updateReadyState);\n    comm.kernel.ws.addEventListener('error', updateReadyState);\n\n    ws.close = function () {\n        comm.close();\n    };\n    ws.send = function (m) {\n        //console.log('sending', m);\n        comm.send(m);\n    };\n    // Register the callback with on_msg.\n    comm.on_msg(function (msg) {\n        //console.log('receiving', msg['content']['data'], msg);\n        var data = msg['content']['data'];\n        if (data['blob'] !== undefined) {\n            data = {\n                data: new Blob(msg['buffers'], { type: data['blob'] }),\n            };\n        }\n        // Pass the mpl event to the overridden (by mpl) onmessage function.\n        ws.onmessage(data);\n    });\n    return ws;\n};\n\nmpl.mpl_figure_comm = function (comm, msg) {\n    // This is the function which gets called when the mpl process\n    // starts-up an IPython Comm through the \"matplotlib\" channel.\n\n    var id = msg.content.data.id;\n    // Get hold of the div created by the display call when the Comm\n    // socket was opened in Python.\n    var element = document.getElementById(id);\n    var ws_proxy = comm_websocket_adapter(comm);\n\n    function ondownload(figure, _format) {\n        window.open(figure.canvas.toDataURL());\n    }\n\n    var fig = new mpl.figure(id, ws_proxy, ondownload, element);\n\n    // Call onopen now - mpl needs it, as it is assuming we've passed it a real\n    // web socket which is closed, not our websocket->open comm proxy.\n    ws_proxy.onopen();\n\n    fig.parent_element = element;\n    fig.cell_info = mpl.find_output_cell(\"<div id='\" + id + \"'></div>\");\n    if (!fig.cell_info) {\n        console.error('Failed to find cell for figure', id, fig);\n        return;\n    }\n    fig.cell_info[0].output_area.element.on(\n        'cleared',\n        { fig: fig },\n        fig._remove_fig_handler\n    );\n};\n\nmpl.figure.prototype.handle_close = function (fig, msg) {\n    var width = fig.canvas.width / fig.ratio;\n    fig.cell_info[0].output_area.element.off(\n        'cleared',\n        fig._remove_fig_handler\n    );\n    fig.resizeObserverInstance.unobserve(fig.canvas_div);\n\n    // Update the output cell to use the data from the current canvas.\n    fig.push_to_output();\n    var dataURL = fig.canvas.toDataURL();\n    // Re-enable the keyboard manager in IPython - without this line, in FF,\n    // the notebook keyboard shortcuts fail.\n    IPython.keyboard_manager.enable();\n    fig.parent_element.innerHTML =\n        '<img src=\"' + dataURL + '\" width=\"' + width + '\">';\n    fig.close_ws(fig, msg);\n};\n\nmpl.figure.prototype.close_ws = function (fig, msg) {\n    fig.send_message('closing', msg);\n    // fig.ws.close()\n};\n\nmpl.figure.prototype.push_to_output = function (_remove_interactive) {\n    // Turn the data on the canvas into data in the output cell.\n    var width = this.canvas.width / this.ratio;\n    var dataURL = this.canvas.toDataURL();\n    this.cell_info[1]['text/html'] =\n        '<img src=\"' + dataURL + '\" width=\"' + width + '\">';\n};\n\nmpl.figure.prototype.updated_canvas_event = function () {\n    // Tell IPython that the notebook contents must change.\n    IPython.notebook.set_dirty(true);\n    this.send_message('ack', {});\n    var fig = this;\n    // Wait a second, then push the new image to the DOM so\n    // that it is saved nicely (might be nice to debounce this).\n    setTimeout(function () {\n        fig.push_to_output();\n    }, 1000);\n};\n\nmpl.figure.prototype._init_toolbar = function () {\n    var fig = this;\n\n    var toolbar = document.createElement('div');\n    toolbar.classList = 'btn-toolbar';\n    this.root.appendChild(toolbar);\n\n    function on_click_closure(name) {\n        return function (_event) {\n            return fig.toolbar_button_onclick(name);\n        };\n    }\n\n    function on_mouseover_closure(tooltip) {\n        return function (event) {\n            if (!event.currentTarget.disabled) {\n                return fig.toolbar_button_onmouseover(tooltip);\n            }\n        };\n    }\n\n    fig.buttons = {};\n    var buttonGroup = document.createElement('div');\n    buttonGroup.classList = 'btn-group';\n    var button;\n    for (var toolbar_ind in mpl.toolbar_items) {\n        var name = mpl.toolbar_items[toolbar_ind][0];\n        var tooltip = mpl.toolbar_items[toolbar_ind][1];\n        var image = mpl.toolbar_items[toolbar_ind][2];\n        var method_name = mpl.toolbar_items[toolbar_ind][3];\n\n        if (!name) {\n            /* Instead of a spacer, we start a new button group. */\n            if (buttonGroup.hasChildNodes()) {\n                toolbar.appendChild(buttonGroup);\n            }\n            buttonGroup = document.createElement('div');\n            buttonGroup.classList = 'btn-group';\n            continue;\n        }\n\n        button = fig.buttons[name] = document.createElement('button');\n        button.classList = 'btn btn-default';\n        button.href = '#';\n        button.title = name;\n        button.innerHTML = '<i class=\"fa ' + image + ' fa-lg\"></i>';\n        button.addEventListener('click', on_click_closure(method_name));\n        button.addEventListener('mouseover', on_mouseover_closure(tooltip));\n        buttonGroup.appendChild(button);\n    }\n\n    if (buttonGroup.hasChildNodes()) {\n        toolbar.appendChild(buttonGroup);\n    }\n\n    // Add the status bar.\n    var status_bar = document.createElement('span');\n    status_bar.classList = 'mpl-message pull-right';\n    toolbar.appendChild(status_bar);\n    this.message = status_bar;\n\n    // Add the close button to the window.\n    var buttongrp = document.createElement('div');\n    buttongrp.classList = 'btn-group inline pull-right';\n    button = document.createElement('button');\n    button.classList = 'btn btn-mini btn-primary';\n    button.href = '#';\n    button.title = 'Stop Interaction';\n    button.innerHTML = '<i class=\"fa fa-power-off icon-remove icon-large\"></i>';\n    button.addEventListener('click', function (_evt) {\n        fig.handle_close(fig, {});\n    });\n    button.addEventListener(\n        'mouseover',\n        on_mouseover_closure('Stop Interaction')\n    );\n    buttongrp.appendChild(button);\n    var titlebar = this.root.querySelector('.ui-dialog-titlebar');\n    titlebar.insertBefore(buttongrp, titlebar.firstChild);\n};\n\nmpl.figure.prototype._remove_fig_handler = function (event) {\n    var fig = event.data.fig;\n    if (event.target !== this) {\n        // Ignore bubbled events from children.\n        return;\n    }\n    fig.close_ws(fig, {});\n};\n\nmpl.figure.prototype._root_extra_style = function (el) {\n    el.style.boxSizing = 'content-box'; // override notebook setting of border-box.\n};\n\nmpl.figure.prototype._canvas_extra_style = function (el) {\n    // this is important to make the div 'focusable\n    el.setAttribute('tabindex', 0);\n    // reach out to IPython and tell the keyboard manager to turn it's self\n    // off when our div gets focus\n\n    // location in version 3\n    if (IPython.notebook.keyboard_manager) {\n        IPython.notebook.keyboard_manager.register_events(el);\n    } else {\n        // location in version 2\n        IPython.keyboard_manager.register_events(el);\n    }\n};\n\nmpl.figure.prototype._key_event_extra = function (event, _name) {\n    // Check for shift+enter\n    if (event.shiftKey && event.which === 13) {\n        this.canvas_div.blur();\n        // select the cell after this one\n        var index = IPython.notebook.find_cell_index(this.cell_info[0]);\n        IPython.notebook.select(index + 1);\n    }\n};\n\nmpl.figure.prototype.handle_save = function (fig, _msg) {\n    fig.ondownload(fig, null);\n};\n\nmpl.find_output_cell = function (html_output) {\n    // Return the cell and output element which can be found *uniquely* in the notebook.\n    // Note - this is a bit hacky, but it is done because the \"notebook_saving.Notebook\"\n    // IPython event is triggered only after the cells have been serialised, which for\n    // our purposes (turning an active figure into a static one), is too late.\n    var cells = IPython.notebook.get_cells();\n    var ncells = cells.length;\n    for (var i = 0; i < ncells; i++) {\n        var cell = cells[i];\n        if (cell.cell_type === 'code') {\n            for (var j = 0; j < cell.output_area.outputs.length; j++) {\n                var data = cell.output_area.outputs[j];\n                if (data.data) {\n                    // IPython >= 3 moved mimebundle to data attribute of output\n                    data = data.data;\n                }\n                if (data['text/html'] === html_output) {\n                    return [cell, data, j];\n                }\n            }\n        }\n    }\n};\n\n// Register the function which deals with the matplotlib target/channel.\n// The kernel may be null if the page has been refreshed.\nif (IPython.notebook.kernel !== null) {\n    IPython.notebook.kernel.comm_manager.register_target(\n        'matplotlib',\n        mpl.mpl_figure_comm\n    );\n}\n"
     },
     "metadata": {},
     "output_type": "display_data"
    },
    {
     "data": {
      "text/plain": "<IPython.core.display.HTML object>",
      "text/html": "<div id='2f000498-75bf-42bc-a361-b51cc53303b8'></div>"
     },
     "metadata": {},
     "output_type": "display_data"
    }
   ],
   "source": [
    "# Question: define all the parameters and plot the membrane potential along the cable from -100 mm to 100 mm.\n",
    "x = np.linspace(-100, 100, 1000)  # position along the cable in mm\n",
    "\n",
    "\n",
    "i_e = 0.1e-9  # injected current in A\n",
    "a = 2e-3  # radius of the cable in mm (2um)\n",
    "r_m = 1e6  # specific membrane resistance in Ohm * mm^2\n",
    "r_l = 1e3  # longitudinal resistance in Ohm * mm\n",
    "lambda_elc = np.sqrt(r_m / r_l)  # electrotonic length constant in mm\n",
    "print(f'Electrotonic length constant: {lambda_elc:.2f} mm')\n",
    "R_l = r_l * lambda_elc / (np.pi * a**2)  # longitudinal resistance in Ohm\n",
    "\n",
    "v = (i_e * R_l / 2) * np.exp(-np.abs(x) / lambda_elc)  # membrane potential in mV\n",
    "\n",
    "# Plot the membrane potential along the cable\n",
    "plt.close()\n",
    "fig, ax = plt.subplots(1, 1, figsize=(10, 5))\n",
    "ax.plot(x, v)  # plot in mV\n",
    "ax.set_xlabel('Position (mm)')\n",
    "ax.set_ylabel(r'$v$ (mV)')\n",
    "ax.set_title('Membrane potential along the cable')\n",
    "plt.show()"
   ]
  },
  {
   "cell_type": "markdown",
   "metadata": {
    "collapsed": false
   },
   "source": [
    "To get a deeper understanding of the passive cable equation, you can use an interactive plot to modify the values of $i_e$ and $a$."
   ]
  },
  {
   "cell_type": "code",
   "execution_count": 31,
   "metadata": {
    "collapsed": false,
    "ExecuteTime": {
     "end_time": "2024-09-19T22:48:34.203369Z",
     "start_time": "2024-09-19T22:48:34.164376Z"
    }
   },
   "outputs": [
    {
     "data": {
      "text/plain": "<IPython.core.display.Javascript object>",
      "application/javascript": "/* Put everything inside the global mpl namespace */\n/* global mpl */\nwindow.mpl = {};\n\nmpl.get_websocket_type = function () {\n    if (typeof WebSocket !== 'undefined') {\n        return WebSocket;\n    } else if (typeof MozWebSocket !== 'undefined') {\n        return MozWebSocket;\n    } else {\n        alert(\n            'Your browser does not have WebSocket support. ' +\n                'Please try Chrome, Safari or Firefox ≥ 6. ' +\n                'Firefox 4 and 5 are also supported but you ' +\n                'have to enable WebSockets in about:config.'\n        );\n    }\n};\n\nmpl.figure = function (figure_id, websocket, ondownload, parent_element) {\n    this.id = figure_id;\n\n    this.ws = websocket;\n\n    this.supports_binary = this.ws.binaryType !== undefined;\n\n    if (!this.supports_binary) {\n        var warnings = document.getElementById('mpl-warnings');\n        if (warnings) {\n            warnings.style.display = 'block';\n            warnings.textContent =\n                'This browser does not support binary websocket messages. ' +\n                'Performance may be slow.';\n        }\n    }\n\n    this.imageObj = new Image();\n\n    this.context = undefined;\n    this.message = undefined;\n    this.canvas = undefined;\n    this.rubberband_canvas = undefined;\n    this.rubberband_context = undefined;\n    this.format_dropdown = undefined;\n\n    this.image_mode = 'full';\n\n    this.root = document.createElement('div');\n    this.root.setAttribute('style', 'display: inline-block');\n    this._root_extra_style(this.root);\n\n    parent_element.appendChild(this.root);\n\n    this._init_header(this);\n    this._init_canvas(this);\n    this._init_toolbar(this);\n\n    var fig = this;\n\n    this.waiting = false;\n\n    this.ws.onopen = function () {\n        fig.send_message('supports_binary', { value: fig.supports_binary });\n        fig.send_message('send_image_mode', {});\n        if (fig.ratio !== 1) {\n            fig.send_message('set_device_pixel_ratio', {\n                device_pixel_ratio: fig.ratio,\n            });\n        }\n        fig.send_message('refresh', {});\n    };\n\n    this.imageObj.onload = function () {\n        if (fig.image_mode === 'full') {\n            // Full images could contain transparency (where diff images\n            // almost always do), so we need to clear the canvas so that\n            // there is no ghosting.\n            fig.context.clearRect(0, 0, fig.canvas.width, fig.canvas.height);\n        }\n        fig.context.drawImage(fig.imageObj, 0, 0);\n    };\n\n    this.imageObj.onunload = function () {\n        fig.ws.close();\n    };\n\n    this.ws.onmessage = this._make_on_message_function(this);\n\n    this.ondownload = ondownload;\n};\n\nmpl.figure.prototype._init_header = function () {\n    var titlebar = document.createElement('div');\n    titlebar.classList =\n        'ui-dialog-titlebar ui-widget-header ui-corner-all ui-helper-clearfix';\n    var titletext = document.createElement('div');\n    titletext.classList = 'ui-dialog-title';\n    titletext.setAttribute(\n        'style',\n        'width: 100%; text-align: center; padding: 3px;'\n    );\n    titlebar.appendChild(titletext);\n    this.root.appendChild(titlebar);\n    this.header = titletext;\n};\n\nmpl.figure.prototype._canvas_extra_style = function (_canvas_div) {};\n\nmpl.figure.prototype._root_extra_style = function (_canvas_div) {};\n\nmpl.figure.prototype._init_canvas = function () {\n    var fig = this;\n\n    var canvas_div = (this.canvas_div = document.createElement('div'));\n    canvas_div.setAttribute('tabindex', '0');\n    canvas_div.setAttribute(\n        'style',\n        'border: 1px solid #ddd;' +\n            'box-sizing: content-box;' +\n            'clear: both;' +\n            'min-height: 1px;' +\n            'min-width: 1px;' +\n            'outline: 0;' +\n            'overflow: hidden;' +\n            'position: relative;' +\n            'resize: both;' +\n            'z-index: 2;'\n    );\n\n    function on_keyboard_event_closure(name) {\n        return function (event) {\n            return fig.key_event(event, name);\n        };\n    }\n\n    canvas_div.addEventListener(\n        'keydown',\n        on_keyboard_event_closure('key_press')\n    );\n    canvas_div.addEventListener(\n        'keyup',\n        on_keyboard_event_closure('key_release')\n    );\n\n    this._canvas_extra_style(canvas_div);\n    this.root.appendChild(canvas_div);\n\n    var canvas = (this.canvas = document.createElement('canvas'));\n    canvas.classList.add('mpl-canvas');\n    canvas.setAttribute(\n        'style',\n        'box-sizing: content-box;' +\n            'pointer-events: none;' +\n            'position: relative;' +\n            'z-index: 0;'\n    );\n\n    this.context = canvas.getContext('2d');\n\n    var backingStore =\n        this.context.backingStorePixelRatio ||\n        this.context.webkitBackingStorePixelRatio ||\n        this.context.mozBackingStorePixelRatio ||\n        this.context.msBackingStorePixelRatio ||\n        this.context.oBackingStorePixelRatio ||\n        this.context.backingStorePixelRatio ||\n        1;\n\n    this.ratio = (window.devicePixelRatio || 1) / backingStore;\n\n    var rubberband_canvas = (this.rubberband_canvas = document.createElement(\n        'canvas'\n    ));\n    rubberband_canvas.setAttribute(\n        'style',\n        'box-sizing: content-box;' +\n            'left: 0;' +\n            'pointer-events: none;' +\n            'position: absolute;' +\n            'top: 0;' +\n            'z-index: 1;'\n    );\n\n    // Apply a ponyfill if ResizeObserver is not implemented by browser.\n    if (this.ResizeObserver === undefined) {\n        if (window.ResizeObserver !== undefined) {\n            this.ResizeObserver = window.ResizeObserver;\n        } else {\n            var obs = _JSXTOOLS_RESIZE_OBSERVER({});\n            this.ResizeObserver = obs.ResizeObserver;\n        }\n    }\n\n    this.resizeObserverInstance = new this.ResizeObserver(function (entries) {\n        // There's no need to resize if the WebSocket is not connected:\n        // - If it is still connecting, then we will get an initial resize from\n        //   Python once it connects.\n        // - If it has disconnected, then resizing will clear the canvas and\n        //   never get anything back to refill it, so better to not resize and\n        //   keep something visible.\n        if (fig.ws.readyState != 1) {\n            return;\n        }\n        var nentries = entries.length;\n        for (var i = 0; i < nentries; i++) {\n            var entry = entries[i];\n            var width, height;\n            if (entry.contentBoxSize) {\n                if (entry.contentBoxSize instanceof Array) {\n                    // Chrome 84 implements new version of spec.\n                    width = entry.contentBoxSize[0].inlineSize;\n                    height = entry.contentBoxSize[0].blockSize;\n                } else {\n                    // Firefox implements old version of spec.\n                    width = entry.contentBoxSize.inlineSize;\n                    height = entry.contentBoxSize.blockSize;\n                }\n            } else {\n                // Chrome <84 implements even older version of spec.\n                width = entry.contentRect.width;\n                height = entry.contentRect.height;\n            }\n\n            // Keep the size of the canvas and rubber band canvas in sync with\n            // the canvas container.\n            if (entry.devicePixelContentBoxSize) {\n                // Chrome 84 implements new version of spec.\n                canvas.setAttribute(\n                    'width',\n                    entry.devicePixelContentBoxSize[0].inlineSize\n                );\n                canvas.setAttribute(\n                    'height',\n                    entry.devicePixelContentBoxSize[0].blockSize\n                );\n            } else {\n                canvas.setAttribute('width', width * fig.ratio);\n                canvas.setAttribute('height', height * fig.ratio);\n            }\n            /* This rescales the canvas back to display pixels, so that it\n             * appears correct on HiDPI screens. */\n            canvas.style.width = width + 'px';\n            canvas.style.height = height + 'px';\n\n            rubberband_canvas.setAttribute('width', width);\n            rubberband_canvas.setAttribute('height', height);\n\n            // And update the size in Python. We ignore the initial 0/0 size\n            // that occurs as the element is placed into the DOM, which should\n            // otherwise not happen due to the minimum size styling.\n            if (width != 0 && height != 0) {\n                fig.request_resize(width, height);\n            }\n        }\n    });\n    this.resizeObserverInstance.observe(canvas_div);\n\n    function on_mouse_event_closure(name) {\n        /* User Agent sniffing is bad, but WebKit is busted:\n         * https://bugs.webkit.org/show_bug.cgi?id=144526\n         * https://bugs.webkit.org/show_bug.cgi?id=181818\n         * The worst that happens here is that they get an extra browser\n         * selection when dragging, if this check fails to catch them.\n         */\n        var UA = navigator.userAgent;\n        var isWebKit = /AppleWebKit/.test(UA) && !/Chrome/.test(UA);\n        if(isWebKit) {\n            return function (event) {\n                /* This prevents the web browser from automatically changing to\n                 * the text insertion cursor when the button is pressed. We\n                 * want to control all of the cursor setting manually through\n                 * the 'cursor' event from matplotlib */\n                event.preventDefault()\n                return fig.mouse_event(event, name);\n            };\n        } else {\n            return function (event) {\n                return fig.mouse_event(event, name);\n            };\n        }\n    }\n\n    canvas_div.addEventListener(\n        'mousedown',\n        on_mouse_event_closure('button_press')\n    );\n    canvas_div.addEventListener(\n        'mouseup',\n        on_mouse_event_closure('button_release')\n    );\n    canvas_div.addEventListener(\n        'dblclick',\n        on_mouse_event_closure('dblclick')\n    );\n    // Throttle sequential mouse events to 1 every 20ms.\n    canvas_div.addEventListener(\n        'mousemove',\n        on_mouse_event_closure('motion_notify')\n    );\n\n    canvas_div.addEventListener(\n        'mouseenter',\n        on_mouse_event_closure('figure_enter')\n    );\n    canvas_div.addEventListener(\n        'mouseleave',\n        on_mouse_event_closure('figure_leave')\n    );\n\n    canvas_div.addEventListener('wheel', function (event) {\n        if (event.deltaY < 0) {\n            event.step = 1;\n        } else {\n            event.step = -1;\n        }\n        on_mouse_event_closure('scroll')(event);\n    });\n\n    canvas_div.appendChild(canvas);\n    canvas_div.appendChild(rubberband_canvas);\n\n    this.rubberband_context = rubberband_canvas.getContext('2d');\n    this.rubberband_context.strokeStyle = '#000000';\n\n    this._resize_canvas = function (width, height, forward) {\n        if (forward) {\n            canvas_div.style.width = width + 'px';\n            canvas_div.style.height = height + 'px';\n        }\n    };\n\n    // Disable right mouse context menu.\n    canvas_div.addEventListener('contextmenu', function (_e) {\n        event.preventDefault();\n        return false;\n    });\n\n    function set_focus() {\n        canvas.focus();\n        canvas_div.focus();\n    }\n\n    window.setTimeout(set_focus, 100);\n};\n\nmpl.figure.prototype._init_toolbar = function () {\n    var fig = this;\n\n    var toolbar = document.createElement('div');\n    toolbar.classList = 'mpl-toolbar';\n    this.root.appendChild(toolbar);\n\n    function on_click_closure(name) {\n        return function (_event) {\n            return fig.toolbar_button_onclick(name);\n        };\n    }\n\n    function on_mouseover_closure(tooltip) {\n        return function (event) {\n            if (!event.currentTarget.disabled) {\n                return fig.toolbar_button_onmouseover(tooltip);\n            }\n        };\n    }\n\n    fig.buttons = {};\n    var buttonGroup = document.createElement('div');\n    buttonGroup.classList = 'mpl-button-group';\n    for (var toolbar_ind in mpl.toolbar_items) {\n        var name = mpl.toolbar_items[toolbar_ind][0];\n        var tooltip = mpl.toolbar_items[toolbar_ind][1];\n        var image = mpl.toolbar_items[toolbar_ind][2];\n        var method_name = mpl.toolbar_items[toolbar_ind][3];\n\n        if (!name) {\n            /* Instead of a spacer, we start a new button group. */\n            if (buttonGroup.hasChildNodes()) {\n                toolbar.appendChild(buttonGroup);\n            }\n            buttonGroup = document.createElement('div');\n            buttonGroup.classList = 'mpl-button-group';\n            continue;\n        }\n\n        var button = (fig.buttons[name] = document.createElement('button'));\n        button.classList = 'mpl-widget';\n        button.setAttribute('role', 'button');\n        button.setAttribute('aria-disabled', 'false');\n        button.addEventListener('click', on_click_closure(method_name));\n        button.addEventListener('mouseover', on_mouseover_closure(tooltip));\n\n        var icon_img = document.createElement('img');\n        icon_img.src = '_images/' + image + '.png';\n        icon_img.srcset = '_images/' + image + '_large.png 2x';\n        icon_img.alt = tooltip;\n        button.appendChild(icon_img);\n\n        buttonGroup.appendChild(button);\n    }\n\n    if (buttonGroup.hasChildNodes()) {\n        toolbar.appendChild(buttonGroup);\n    }\n\n    var fmt_picker = document.createElement('select');\n    fmt_picker.classList = 'mpl-widget';\n    toolbar.appendChild(fmt_picker);\n    this.format_dropdown = fmt_picker;\n\n    for (var ind in mpl.extensions) {\n        var fmt = mpl.extensions[ind];\n        var option = document.createElement('option');\n        option.selected = fmt === mpl.default_extension;\n        option.innerHTML = fmt;\n        fmt_picker.appendChild(option);\n    }\n\n    var status_bar = document.createElement('span');\n    status_bar.classList = 'mpl-message';\n    toolbar.appendChild(status_bar);\n    this.message = status_bar;\n};\n\nmpl.figure.prototype.request_resize = function (x_pixels, y_pixels) {\n    // Request matplotlib to resize the figure. Matplotlib will then trigger a resize in the client,\n    // which will in turn request a refresh of the image.\n    this.send_message('resize', { width: x_pixels, height: y_pixels });\n};\n\nmpl.figure.prototype.send_message = function (type, properties) {\n    properties['type'] = type;\n    properties['figure_id'] = this.id;\n    this.ws.send(JSON.stringify(properties));\n};\n\nmpl.figure.prototype.send_draw_message = function () {\n    if (!this.waiting) {\n        this.waiting = true;\n        this.ws.send(JSON.stringify({ type: 'draw', figure_id: this.id }));\n    }\n};\n\nmpl.figure.prototype.handle_save = function (fig, _msg) {\n    var format_dropdown = fig.format_dropdown;\n    var format = format_dropdown.options[format_dropdown.selectedIndex].value;\n    fig.ondownload(fig, format);\n};\n\nmpl.figure.prototype.handle_resize = function (fig, msg) {\n    var size = msg['size'];\n    if (size[0] !== fig.canvas.width || size[1] !== fig.canvas.height) {\n        fig._resize_canvas(size[0], size[1], msg['forward']);\n        fig.send_message('refresh', {});\n    }\n};\n\nmpl.figure.prototype.handle_rubberband = function (fig, msg) {\n    var x0 = msg['x0'] / fig.ratio;\n    var y0 = (fig.canvas.height - msg['y0']) / fig.ratio;\n    var x1 = msg['x1'] / fig.ratio;\n    var y1 = (fig.canvas.height - msg['y1']) / fig.ratio;\n    x0 = Math.floor(x0) + 0.5;\n    y0 = Math.floor(y0) + 0.5;\n    x1 = Math.floor(x1) + 0.5;\n    y1 = Math.floor(y1) + 0.5;\n    var min_x = Math.min(x0, x1);\n    var min_y = Math.min(y0, y1);\n    var width = Math.abs(x1 - x0);\n    var height = Math.abs(y1 - y0);\n\n    fig.rubberband_context.clearRect(\n        0,\n        0,\n        fig.canvas.width / fig.ratio,\n        fig.canvas.height / fig.ratio\n    );\n\n    fig.rubberband_context.strokeRect(min_x, min_y, width, height);\n};\n\nmpl.figure.prototype.handle_figure_label = function (fig, msg) {\n    // Updates the figure title.\n    fig.header.textContent = msg['label'];\n};\n\nmpl.figure.prototype.handle_cursor = function (fig, msg) {\n    fig.canvas_div.style.cursor = msg['cursor'];\n};\n\nmpl.figure.prototype.handle_message = function (fig, msg) {\n    fig.message.textContent = msg['message'];\n};\n\nmpl.figure.prototype.handle_draw = function (fig, _msg) {\n    // Request the server to send over a new figure.\n    fig.send_draw_message();\n};\n\nmpl.figure.prototype.handle_image_mode = function (fig, msg) {\n    fig.image_mode = msg['mode'];\n};\n\nmpl.figure.prototype.handle_history_buttons = function (fig, msg) {\n    for (var key in msg) {\n        if (!(key in fig.buttons)) {\n            continue;\n        }\n        fig.buttons[key].disabled = !msg[key];\n        fig.buttons[key].setAttribute('aria-disabled', !msg[key]);\n    }\n};\n\nmpl.figure.prototype.handle_navigate_mode = function (fig, msg) {\n    if (msg['mode'] === 'PAN') {\n        fig.buttons['Pan'].classList.add('active');\n        fig.buttons['Zoom'].classList.remove('active');\n    } else if (msg['mode'] === 'ZOOM') {\n        fig.buttons['Pan'].classList.remove('active');\n        fig.buttons['Zoom'].classList.add('active');\n    } else {\n        fig.buttons['Pan'].classList.remove('active');\n        fig.buttons['Zoom'].classList.remove('active');\n    }\n};\n\nmpl.figure.prototype.updated_canvas_event = function () {\n    // Called whenever the canvas gets updated.\n    this.send_message('ack', {});\n};\n\n// A function to construct a web socket function for onmessage handling.\n// Called in the figure constructor.\nmpl.figure.prototype._make_on_message_function = function (fig) {\n    return function socket_on_message(evt) {\n        if (evt.data instanceof Blob) {\n            var img = evt.data;\n            if (img.type !== 'image/png') {\n                /* FIXME: We get \"Resource interpreted as Image but\n                 * transferred with MIME type text/plain:\" errors on\n                 * Chrome.  But how to set the MIME type?  It doesn't seem\n                 * to be part of the websocket stream */\n                img.type = 'image/png';\n            }\n\n            /* Free the memory for the previous frames */\n            if (fig.imageObj.src) {\n                (window.URL || window.webkitURL).revokeObjectURL(\n                    fig.imageObj.src\n                );\n            }\n\n            fig.imageObj.src = (window.URL || window.webkitURL).createObjectURL(\n                img\n            );\n            fig.updated_canvas_event();\n            fig.waiting = false;\n            return;\n        } else if (\n            typeof evt.data === 'string' &&\n            evt.data.slice(0, 21) === 'data:image/png;base64'\n        ) {\n            fig.imageObj.src = evt.data;\n            fig.updated_canvas_event();\n            fig.waiting = false;\n            return;\n        }\n\n        var msg = JSON.parse(evt.data);\n        var msg_type = msg['type'];\n\n        // Call the  \"handle_{type}\" callback, which takes\n        // the figure and JSON message as its only arguments.\n        try {\n            var callback = fig['handle_' + msg_type];\n        } catch (e) {\n            console.log(\n                \"No handler for the '\" + msg_type + \"' message type: \",\n                msg\n            );\n            return;\n        }\n\n        if (callback) {\n            try {\n                // console.log(\"Handling '\" + msg_type + \"' message: \", msg);\n                callback(fig, msg);\n            } catch (e) {\n                console.log(\n                    \"Exception inside the 'handler_\" + msg_type + \"' callback:\",\n                    e,\n                    e.stack,\n                    msg\n                );\n            }\n        }\n    };\n};\n\nfunction getModifiers(event) {\n    var mods = [];\n    if (event.ctrlKey) {\n        mods.push('ctrl');\n    }\n    if (event.altKey) {\n        mods.push('alt');\n    }\n    if (event.shiftKey) {\n        mods.push('shift');\n    }\n    if (event.metaKey) {\n        mods.push('meta');\n    }\n    return mods;\n}\n\n/*\n * return a copy of an object with only non-object keys\n * we need this to avoid circular references\n * https://stackoverflow.com/a/24161582/3208463\n */\nfunction simpleKeys(original) {\n    return Object.keys(original).reduce(function (obj, key) {\n        if (typeof original[key] !== 'object') {\n            obj[key] = original[key];\n        }\n        return obj;\n    }, {});\n}\n\nmpl.figure.prototype.mouse_event = function (event, name) {\n    if (name === 'button_press') {\n        this.canvas.focus();\n        this.canvas_div.focus();\n    }\n\n    // from https://stackoverflow.com/q/1114465\n    var boundingRect = this.canvas.getBoundingClientRect();\n    var x = (event.clientX - boundingRect.left) * this.ratio;\n    var y = (event.clientY - boundingRect.top) * this.ratio;\n\n    this.send_message(name, {\n        x: x,\n        y: y,\n        button: event.button,\n        step: event.step,\n        modifiers: getModifiers(event),\n        guiEvent: simpleKeys(event),\n    });\n\n    return false;\n};\n\nmpl.figure.prototype._key_event_extra = function (_event, _name) {\n    // Handle any extra behaviour associated with a key event\n};\n\nmpl.figure.prototype.key_event = function (event, name) {\n    // Prevent repeat events\n    if (name === 'key_press') {\n        if (event.key === this._key) {\n            return;\n        } else {\n            this._key = event.key;\n        }\n    }\n    if (name === 'key_release') {\n        this._key = null;\n    }\n\n    var value = '';\n    if (event.ctrlKey && event.key !== 'Control') {\n        value += 'ctrl+';\n    }\n    else if (event.altKey && event.key !== 'Alt') {\n        value += 'alt+';\n    }\n    else if (event.shiftKey && event.key !== 'Shift') {\n        value += 'shift+';\n    }\n\n    value += 'k' + event.key;\n\n    this._key_event_extra(event, name);\n\n    this.send_message(name, { key: value, guiEvent: simpleKeys(event) });\n    return false;\n};\n\nmpl.figure.prototype.toolbar_button_onclick = function (name) {\n    if (name === 'download') {\n        this.handle_save(this, null);\n    } else {\n        this.send_message('toolbar_button', { name: name });\n    }\n};\n\nmpl.figure.prototype.toolbar_button_onmouseover = function (tooltip) {\n    this.message.textContent = tooltip;\n};\n\n///////////////// REMAINING CONTENT GENERATED BY embed_js.py /////////////////\n// prettier-ignore\nvar _JSXTOOLS_RESIZE_OBSERVER=function(A){var t,i=new WeakMap,n=new WeakMap,a=new WeakMap,r=new WeakMap,o=new Set;function s(e){if(!(this instanceof s))throw new TypeError(\"Constructor requires 'new' operator\");i.set(this,e)}function h(){throw new TypeError(\"Function is not a constructor\")}function c(e,t,i,n){e=0 in arguments?Number(arguments[0]):0,t=1 in arguments?Number(arguments[1]):0,i=2 in arguments?Number(arguments[2]):0,n=3 in arguments?Number(arguments[3]):0,this.right=(this.x=this.left=e)+(this.width=i),this.bottom=(this.y=this.top=t)+(this.height=n),Object.freeze(this)}function d(){t=requestAnimationFrame(d);var s=new WeakMap,p=new Set;o.forEach((function(t){r.get(t).forEach((function(i){var r=t instanceof window.SVGElement,o=a.get(t),d=r?0:parseFloat(o.paddingTop),f=r?0:parseFloat(o.paddingRight),l=r?0:parseFloat(o.paddingBottom),u=r?0:parseFloat(o.paddingLeft),g=r?0:parseFloat(o.borderTopWidth),m=r?0:parseFloat(o.borderRightWidth),w=r?0:parseFloat(o.borderBottomWidth),b=u+f,F=d+l,v=(r?0:parseFloat(o.borderLeftWidth))+m,W=g+w,y=r?0:t.offsetHeight-W-t.clientHeight,E=r?0:t.offsetWidth-v-t.clientWidth,R=b+v,z=F+W,M=r?t.width:parseFloat(o.width)-R-E,O=r?t.height:parseFloat(o.height)-z-y;if(n.has(t)){var k=n.get(t);if(k[0]===M&&k[1]===O)return}n.set(t,[M,O]);var S=Object.create(h.prototype);S.target=t,S.contentRect=new c(u,d,M,O),s.has(i)||(s.set(i,[]),p.add(i)),s.get(i).push(S)}))})),p.forEach((function(e){i.get(e).call(e,s.get(e),e)}))}return s.prototype.observe=function(i){if(i instanceof window.Element){r.has(i)||(r.set(i,new Set),o.add(i),a.set(i,window.getComputedStyle(i)));var n=r.get(i);n.has(this)||n.add(this),cancelAnimationFrame(t),t=requestAnimationFrame(d)}},s.prototype.unobserve=function(i){if(i instanceof window.Element&&r.has(i)){var n=r.get(i);n.has(this)&&(n.delete(this),n.size||(r.delete(i),o.delete(i))),n.size||r.delete(i),o.size||cancelAnimationFrame(t)}},A.DOMRectReadOnly=c,A.ResizeObserver=s,A.ResizeObserverEntry=h,A}; // eslint-disable-line\nmpl.toolbar_items = [[\"Home\", \"Reset original view\", \"fa fa-home\", \"home\"], [\"Back\", \"Back to previous view\", \"fa fa-arrow-left\", \"back\"], [\"Forward\", \"Forward to next view\", \"fa fa-arrow-right\", \"forward\"], [\"\", \"\", \"\", \"\"], [\"Pan\", \"Left button pans, Right button zooms\\nx/y fixes axis, CTRL fixes aspect\", \"fa fa-arrows\", \"pan\"], [\"Zoom\", \"Zoom to rectangle\\nx/y fixes axis\", \"fa fa-square-o\", \"zoom\"], [\"\", \"\", \"\", \"\"], [\"Download\", \"Download plot\", \"fa fa-floppy-o\", \"download\"]];\n\nmpl.extensions = [\"eps\", \"jpeg\", \"pgf\", \"pdf\", \"png\", \"ps\", \"raw\", \"svg\", \"tif\", \"webp\"];\n\nmpl.default_extension = \"png\";/* global mpl */\n\nvar comm_websocket_adapter = function (comm) {\n    // Create a \"websocket\"-like object which calls the given IPython comm\n    // object with the appropriate methods. Currently this is a non binary\n    // socket, so there is still some room for performance tuning.\n    var ws = {};\n\n    ws.binaryType = comm.kernel.ws.binaryType;\n    ws.readyState = comm.kernel.ws.readyState;\n    function updateReadyState(_event) {\n        if (comm.kernel.ws) {\n            ws.readyState = comm.kernel.ws.readyState;\n        } else {\n            ws.readyState = 3; // Closed state.\n        }\n    }\n    comm.kernel.ws.addEventListener('open', updateReadyState);\n    comm.kernel.ws.addEventListener('close', updateReadyState);\n    comm.kernel.ws.addEventListener('error', updateReadyState);\n\n    ws.close = function () {\n        comm.close();\n    };\n    ws.send = function (m) {\n        //console.log('sending', m);\n        comm.send(m);\n    };\n    // Register the callback with on_msg.\n    comm.on_msg(function (msg) {\n        //console.log('receiving', msg['content']['data'], msg);\n        var data = msg['content']['data'];\n        if (data['blob'] !== undefined) {\n            data = {\n                data: new Blob(msg['buffers'], { type: data['blob'] }),\n            };\n        }\n        // Pass the mpl event to the overridden (by mpl) onmessage function.\n        ws.onmessage(data);\n    });\n    return ws;\n};\n\nmpl.mpl_figure_comm = function (comm, msg) {\n    // This is the function which gets called when the mpl process\n    // starts-up an IPython Comm through the \"matplotlib\" channel.\n\n    var id = msg.content.data.id;\n    // Get hold of the div created by the display call when the Comm\n    // socket was opened in Python.\n    var element = document.getElementById(id);\n    var ws_proxy = comm_websocket_adapter(comm);\n\n    function ondownload(figure, _format) {\n        window.open(figure.canvas.toDataURL());\n    }\n\n    var fig = new mpl.figure(id, ws_proxy, ondownload, element);\n\n    // Call onopen now - mpl needs it, as it is assuming we've passed it a real\n    // web socket which is closed, not our websocket->open comm proxy.\n    ws_proxy.onopen();\n\n    fig.parent_element = element;\n    fig.cell_info = mpl.find_output_cell(\"<div id='\" + id + \"'></div>\");\n    if (!fig.cell_info) {\n        console.error('Failed to find cell for figure', id, fig);\n        return;\n    }\n    fig.cell_info[0].output_area.element.on(\n        'cleared',\n        { fig: fig },\n        fig._remove_fig_handler\n    );\n};\n\nmpl.figure.prototype.handle_close = function (fig, msg) {\n    var width = fig.canvas.width / fig.ratio;\n    fig.cell_info[0].output_area.element.off(\n        'cleared',\n        fig._remove_fig_handler\n    );\n    fig.resizeObserverInstance.unobserve(fig.canvas_div);\n\n    // Update the output cell to use the data from the current canvas.\n    fig.push_to_output();\n    var dataURL = fig.canvas.toDataURL();\n    // Re-enable the keyboard manager in IPython - without this line, in FF,\n    // the notebook keyboard shortcuts fail.\n    IPython.keyboard_manager.enable();\n    fig.parent_element.innerHTML =\n        '<img src=\"' + dataURL + '\" width=\"' + width + '\">';\n    fig.close_ws(fig, msg);\n};\n\nmpl.figure.prototype.close_ws = function (fig, msg) {\n    fig.send_message('closing', msg);\n    // fig.ws.close()\n};\n\nmpl.figure.prototype.push_to_output = function (_remove_interactive) {\n    // Turn the data on the canvas into data in the output cell.\n    var width = this.canvas.width / this.ratio;\n    var dataURL = this.canvas.toDataURL();\n    this.cell_info[1]['text/html'] =\n        '<img src=\"' + dataURL + '\" width=\"' + width + '\">';\n};\n\nmpl.figure.prototype.updated_canvas_event = function () {\n    // Tell IPython that the notebook contents must change.\n    IPython.notebook.set_dirty(true);\n    this.send_message('ack', {});\n    var fig = this;\n    // Wait a second, then push the new image to the DOM so\n    // that it is saved nicely (might be nice to debounce this).\n    setTimeout(function () {\n        fig.push_to_output();\n    }, 1000);\n};\n\nmpl.figure.prototype._init_toolbar = function () {\n    var fig = this;\n\n    var toolbar = document.createElement('div');\n    toolbar.classList = 'btn-toolbar';\n    this.root.appendChild(toolbar);\n\n    function on_click_closure(name) {\n        return function (_event) {\n            return fig.toolbar_button_onclick(name);\n        };\n    }\n\n    function on_mouseover_closure(tooltip) {\n        return function (event) {\n            if (!event.currentTarget.disabled) {\n                return fig.toolbar_button_onmouseover(tooltip);\n            }\n        };\n    }\n\n    fig.buttons = {};\n    var buttonGroup = document.createElement('div');\n    buttonGroup.classList = 'btn-group';\n    var button;\n    for (var toolbar_ind in mpl.toolbar_items) {\n        var name = mpl.toolbar_items[toolbar_ind][0];\n        var tooltip = mpl.toolbar_items[toolbar_ind][1];\n        var image = mpl.toolbar_items[toolbar_ind][2];\n        var method_name = mpl.toolbar_items[toolbar_ind][3];\n\n        if (!name) {\n            /* Instead of a spacer, we start a new button group. */\n            if (buttonGroup.hasChildNodes()) {\n                toolbar.appendChild(buttonGroup);\n            }\n            buttonGroup = document.createElement('div');\n            buttonGroup.classList = 'btn-group';\n            continue;\n        }\n\n        button = fig.buttons[name] = document.createElement('button');\n        button.classList = 'btn btn-default';\n        button.href = '#';\n        button.title = name;\n        button.innerHTML = '<i class=\"fa ' + image + ' fa-lg\"></i>';\n        button.addEventListener('click', on_click_closure(method_name));\n        button.addEventListener('mouseover', on_mouseover_closure(tooltip));\n        buttonGroup.appendChild(button);\n    }\n\n    if (buttonGroup.hasChildNodes()) {\n        toolbar.appendChild(buttonGroup);\n    }\n\n    // Add the status bar.\n    var status_bar = document.createElement('span');\n    status_bar.classList = 'mpl-message pull-right';\n    toolbar.appendChild(status_bar);\n    this.message = status_bar;\n\n    // Add the close button to the window.\n    var buttongrp = document.createElement('div');\n    buttongrp.classList = 'btn-group inline pull-right';\n    button = document.createElement('button');\n    button.classList = 'btn btn-mini btn-primary';\n    button.href = '#';\n    button.title = 'Stop Interaction';\n    button.innerHTML = '<i class=\"fa fa-power-off icon-remove icon-large\"></i>';\n    button.addEventListener('click', function (_evt) {\n        fig.handle_close(fig, {});\n    });\n    button.addEventListener(\n        'mouseover',\n        on_mouseover_closure('Stop Interaction')\n    );\n    buttongrp.appendChild(button);\n    var titlebar = this.root.querySelector('.ui-dialog-titlebar');\n    titlebar.insertBefore(buttongrp, titlebar.firstChild);\n};\n\nmpl.figure.prototype._remove_fig_handler = function (event) {\n    var fig = event.data.fig;\n    if (event.target !== this) {\n        // Ignore bubbled events from children.\n        return;\n    }\n    fig.close_ws(fig, {});\n};\n\nmpl.figure.prototype._root_extra_style = function (el) {\n    el.style.boxSizing = 'content-box'; // override notebook setting of border-box.\n};\n\nmpl.figure.prototype._canvas_extra_style = function (el) {\n    // this is important to make the div 'focusable\n    el.setAttribute('tabindex', 0);\n    // reach out to IPython and tell the keyboard manager to turn it's self\n    // off when our div gets focus\n\n    // location in version 3\n    if (IPython.notebook.keyboard_manager) {\n        IPython.notebook.keyboard_manager.register_events(el);\n    } else {\n        // location in version 2\n        IPython.keyboard_manager.register_events(el);\n    }\n};\n\nmpl.figure.prototype._key_event_extra = function (event, _name) {\n    // Check for shift+enter\n    if (event.shiftKey && event.which === 13) {\n        this.canvas_div.blur();\n        // select the cell after this one\n        var index = IPython.notebook.find_cell_index(this.cell_info[0]);\n        IPython.notebook.select(index + 1);\n    }\n};\n\nmpl.figure.prototype.handle_save = function (fig, _msg) {\n    fig.ondownload(fig, null);\n};\n\nmpl.find_output_cell = function (html_output) {\n    // Return the cell and output element which can be found *uniquely* in the notebook.\n    // Note - this is a bit hacky, but it is done because the \"notebook_saving.Notebook\"\n    // IPython event is triggered only after the cells have been serialised, which for\n    // our purposes (turning an active figure into a static one), is too late.\n    var cells = IPython.notebook.get_cells();\n    var ncells = cells.length;\n    for (var i = 0; i < ncells; i++) {\n        var cell = cells[i];\n        if (cell.cell_type === 'code') {\n            for (var j = 0; j < cell.output_area.outputs.length; j++) {\n                var data = cell.output_area.outputs[j];\n                if (data.data) {\n                    // IPython >= 3 moved mimebundle to data attribute of output\n                    data = data.data;\n                }\n                if (data['text/html'] === html_output) {\n                    return [cell, data, j];\n                }\n            }\n        }\n    }\n};\n\n// Register the function which deals with the matplotlib target/channel.\n// The kernel may be null if the page has been refreshed.\nif (IPython.notebook.kernel !== null) {\n    IPython.notebook.kernel.comm_manager.register_target(\n        'matplotlib',\n        mpl.mpl_figure_comm\n    );\n}\n"
     },
     "metadata": {},
     "output_type": "display_data"
    },
    {
     "data": {
      "text/plain": "<IPython.core.display.HTML object>",
      "text/html": "<div id='3a269da9-ec44-46f5-8e28-1a86c1b780c8'></div>"
     },
     "metadata": {},
     "output_type": "display_data"
    }
   ],
   "source": [
    "from utils_ex1.utils import plot_cable_v\n",
    "plt.close()\n",
    "plot_cable_v()    "
   ]
  },
  {
   "cell_type": "markdown",
   "metadata": {
    "collapsed": false
   },
   "source": [
    "Question: What happens when you increase the radius $a$ of the cable?\n",
    "Answer: The membrane potential decays more slowly along the cable.\n",
    "\n",
    "Question: What happens when you increase the injected current $i_e$?\n",
    "Answer: The membrane potential increases along the cable."
   ]
  },
  {
   "cell_type": "code",
   "execution_count": null,
   "metadata": {
    "ExecuteTime": {
     "start_time": "2024-09-19T22:38:48.192797Z"
    },
    "collapsed": false
   },
   "outputs": [],
   "source": [
    "#TODO: 2 nodes\n",
    "2. We consider an infinitely long axon, which can be assumed passive, apart from two nodes where there are sodium channels. These nodes are at x = 0 and x = 2\u0000. Let the resting potential be \u000070mV and the threshold for action potential generation at the nodes be \u000050mV. Artificially we generate a prolonged ’action potential’ at x = 0 (su\u0000ciently long to assume constant current injection) of peak voltage 30mV. Will this procedure trigger an action potential at the second node?\n",
    "3. If we double the radius of the axon (without changing the absolute position of the two nodes), does this change the answer to question 2? Note that the situation in questions 2, 3, and 4 is a voltage-clamp experiment, so we inject whatever current is necessary to bring the membrane potential from \u000070mV to 30mV.\n",
    "4. In a second axon extra membrane tightly surrounds the axon between the nodes. As a consequence the membrane resistance increases by a factor of 4, while the capacitance decreases by a factor of 4. In all other respects the axon is similar to the first one, with the same absolute position of the two nodes and the radius of a = 2 μm. Again, does this change the answer to question 2?"
   ]
  },
  {
   "cell_type": "code",
   "execution_count": null,
   "metadata": {
    "collapsed": false
   },
   "outputs": [],
   "source": []
  }
 ],
 "metadata": {
  "colab": {
   "provenance": []
  },
  "kernelspec": {
   "display_name": "Python 3 (ipykernel)",
   "language": "python",
   "name": "python3"
  },
  "language_info": {
   "codemirror_mode": {
    "name": "ipython",
    "version": 3
   },
   "file_extension": ".py",
   "mimetype": "text/x-python",
   "name": "python",
   "nbconvert_exporter": "python",
   "pygments_lexer": "ipython3",
   "version": "3.10.2"
  },
  "widgets": {
   "application/vnd.jupyter.widget-state+json": {
    "0367b50c8af0486cb599e48b3e4801fc": {
     "model_module": "@jupyter-widgets/controls",
     "model_module_version": "1.5.0",
     "model_name": "FloatSliderModel",
     "state": {
      "_dom_classes": [],
      "_model_module": "@jupyter-widgets/controls",
      "_model_module_version": "1.5.0",
      "_model_name": "FloatSliderModel",
      "_view_count": null,
      "_view_module": "@jupyter-widgets/controls",
      "_view_module_version": "1.5.0",
      "_view_name": "FloatSliderView",
      "continuous_update": false,
      "description": "P_Cl",
      "description_tooltip": null,
      "disabled": false,
      "layout": "IPY_MODEL_8d5708595fef457d817567d3009f84f1",
      "max": 1,
      "min": 0,
      "orientation": "horizontal",
      "readout": true,
      "readout_format": ".2f",
      "step": 0.01,
      "style": "IPY_MODEL_795315ca855a4411876513467517e80f",
      "value": 0.1
     }
    },
    "17f94578979e49d283a95adbd1a30334": {
     "model_module": "@jupyter-widgets/controls",
     "model_module_version": "1.5.0",
     "model_name": "FloatSliderModel",
     "state": {
      "_dom_classes": [],
      "_model_module": "@jupyter-widgets/controls",
      "_model_module_version": "1.5.0",
      "_model_name": "FloatSliderModel",
      "_view_count": null,
      "_view_module": "@jupyter-widgets/controls",
      "_view_module_version": "1.5.0",
      "_view_name": "FloatSliderView",
      "continuous_update": false,
      "description": "P_Na",
      "description_tooltip": null,
      "disabled": false,
      "layout": "IPY_MODEL_8d5708595fef457d817567d3009f84f1",
      "max": 1,
      "min": 0,
      "orientation": "horizontal",
      "readout": true,
      "readout_format": ".2f",
      "step": 0.01,
      "style": "IPY_MODEL_9c31fc45806b47edbdc69ee7bae91ce1",
      "value": 0.03
     }
    },
    "20ebe8a0675545b28b4b4720c00d4822": {
     "model_module": "@jupyter-widgets/controls",
     "model_module_version": "1.5.0",
     "model_name": "DescriptionStyleModel",
     "state": {
      "_model_module": "@jupyter-widgets/controls",
      "_model_module_version": "1.5.0",
      "_model_name": "DescriptionStyleModel",
      "_view_count": null,
      "_view_module": "@jupyter-widgets/base",
      "_view_module_version": "1.2.0",
      "_view_name": "StyleView",
      "description_width": ""
     }
    },
    "23c023f655bd499f998e39d55e4628a8": {
     "model_module": "@jupyter-widgets/controls",
     "model_module_version": "1.5.0",
     "model_name": "DescriptionStyleModel",
     "state": {
      "_model_module": "@jupyter-widgets/controls",
      "_model_module_version": "1.5.0",
      "_model_name": "DescriptionStyleModel",
      "_view_count": null,
      "_view_module": "@jupyter-widgets/base",
      "_view_module_version": "1.2.0",
      "_view_name": "StyleView",
      "description_width": ""
     }
    },
    "28a0901305fc4f99808f74d13630df3c": {
     "model_module": "@jupyter-widgets/base",
     "model_module_version": "1.2.0",
     "model_name": "LayoutModel",
     "state": {
      "_model_module": "@jupyter-widgets/base",
      "_model_module_version": "1.2.0",
      "_model_name": "LayoutModel",
      "_view_count": null,
      "_view_module": "@jupyter-widgets/base",
      "_view_module_version": "1.2.0",
      "_view_name": "LayoutView",
      "align_content": null,
      "align_items": null,
      "align_self": null,
      "border": null,
      "bottom": null,
      "display": null,
      "flex": null,
      "flex_flow": null,
      "grid_area": null,
      "grid_auto_columns": null,
      "grid_auto_flow": null,
      "grid_auto_rows": null,
      "grid_column": null,
      "grid_gap": null,
      "grid_row": null,
      "grid_template_areas": null,
      "grid_template_columns": null,
      "grid_template_rows": null,
      "height": null,
      "justify_content": null,
      "justify_items": null,
      "left": null,
      "margin": null,
      "max_height": null,
      "max_width": null,
      "min_height": null,
      "min_width": null,
      "object_fit": null,
      "object_position": null,
      "order": null,
      "overflow": null,
      "overflow_x": null,
      "overflow_y": null,
      "padding": null,
      "right": null,
      "top": null,
      "visibility": null,
      "width": null
     }
    },
    "2a34b208fa7a427998ec0a835b1f2fd9": {
     "model_module": "@jupyter-widgets/controls",
     "model_module_version": "1.5.0",
     "model_name": "SliderStyleModel",
     "state": {
      "_model_module": "@jupyter-widgets/controls",
      "_model_module_version": "1.5.0",
      "_model_name": "SliderStyleModel",
      "_view_count": null,
      "_view_module": "@jupyter-widgets/base",
      "_view_module_version": "1.2.0",
      "_view_name": "StyleView",
      "description_width": "150px",
      "handle_color": null
     }
    },
    "2d8f9ee445d04106a930911bc705d4f8": {
     "model_module": "@jupyter-widgets/controls",
     "model_module_version": "1.5.0",
     "model_name": "HTMLModel",
     "state": {
      "_dom_classes": [],
      "_model_module": "@jupyter-widgets/controls",
      "_model_module_version": "1.5.0",
      "_model_name": "HTMLModel",
      "_view_count": null,
      "_view_module": "@jupyter-widgets/controls",
      "_view_module_version": "1.5.0",
      "_view_name": "HTMLView",
      "description": "",
      "description_tooltip": null,
      "layout": "IPY_MODEL_28a0901305fc4f99808f74d13630df3c",
      "placeholder": "​",
      "style": "IPY_MODEL_a356b409695348aabe92da5be8b20d2a",
      "value": "<b>Intracellular Potential (mV):</b> -73.26 mV"
     }
    },
    "339251bd6423431899e705fff9033f1d": {
     "model_module": "@jupyter-widgets/controls",
     "model_module_version": "1.5.0",
     "model_name": "FloatSliderModel",
     "state": {
      "_dom_classes": [],
      "_model_module": "@jupyter-widgets/controls",
      "_model_module_version": "1.5.0",
      "_model_name": "FloatSliderModel",
      "_view_count": null,
      "_view_module": "@jupyter-widgets/controls",
      "_view_module_version": "1.5.0",
      "_view_name": "FloatSliderView",
      "continuous_update": false,
      "description": "[K+]_out",
      "description_tooltip": null,
      "disabled": false,
      "layout": "IPY_MODEL_8d5708595fef457d817567d3009f84f1",
      "max": 400,
      "min": 1,
      "orientation": "horizontal",
      "readout": true,
      "readout_format": ".2f",
      "step": 1,
      "style": "IPY_MODEL_a2fd561ff1ae43b98d427c86e341d79f",
      "value": 5
     }
    },
    "35c29acb4ecc4566b711416df968ebf7": {
     "model_module": "@jupyter-widgets/controls",
     "model_module_version": "1.5.0",
     "model_name": "HTMLModel",
     "state": {
      "_dom_classes": [],
      "_model_module": "@jupyter-widgets/controls",
      "_model_module_version": "1.5.0",
      "_model_name": "HTMLModel",
      "_view_count": null,
      "_view_module": "@jupyter-widgets/controls",
      "_view_module_version": "1.5.0",
      "_view_name": "HTMLView",
      "description": "",
      "description_tooltip": null,
      "layout": "IPY_MODEL_514d77567b5e40649c1f47d1bdebac14",
      "placeholder": "​",
      "style": "IPY_MODEL_23c023f655bd499f998e39d55e4628a8",
      "value": "<b>Intracellular Potential (mV):</b> -73.26 mV"
     }
    },
    "38493d09faf74c6a8c61d5370f5122e2": {
     "model_module": "@jupyter-widgets/controls",
     "model_module_version": "1.5.0",
     "model_name": "FloatSliderModel",
     "state": {
      "_dom_classes": [],
      "_model_module": "@jupyter-widgets/controls",
      "_model_module_version": "1.5.0",
      "_model_name": "FloatSliderModel",
      "_view_count": null,
      "_view_module": "@jupyter-widgets/controls",
      "_view_module_version": "1.5.0",
      "_view_name": "FloatSliderView",
      "continuous_update": false,
      "description": "Temperature (K)",
      "description_tooltip": null,
      "disabled": false,
      "layout": "IPY_MODEL_8d5708595fef457d817567d3009f84f1",
      "max": 373,
      "min": 273,
      "orientation": "horizontal",
      "readout": true,
      "readout_format": ".2f",
      "step": 1,
      "style": "IPY_MODEL_f76d9dcfbf0444019bcc11fe1f8f0338",
      "value": 310
     }
    },
    "4fe21b9b02f94b6893a53c0660500f49": {
     "model_module": "@jupyter-widgets/controls",
     "model_module_version": "1.5.0",
     "model_name": "FloatSliderModel",
     "state": {
      "_dom_classes": [],
      "_model_module": "@jupyter-widgets/controls",
      "_model_module_version": "1.5.0",
      "_model_name": "FloatSliderModel",
      "_view_count": null,
      "_view_module": "@jupyter-widgets/controls",
      "_view_module_version": "1.5.0",
      "_view_name": "FloatSliderView",
      "continuous_update": false,
      "description": "Extracellular V (mV)",
      "description_tooltip": null,
      "disabled": false,
      "layout": "IPY_MODEL_8d5708595fef457d817567d3009f84f1",
      "max": 100,
      "min": -100,
      "orientation": "horizontal",
      "readout": true,
      "readout_format": ".2f",
      "step": 1,
      "style": "IPY_MODEL_91c6f75348794c53bd289ab0c45c666d",
      "value": 0
     }
    },
    "50ebb1cdbcce437e9736d99b5a0af2bc": {
     "model_module": "@jupyter-widgets/controls",
     "model_module_version": "1.5.0",
     "model_name": "SliderStyleModel",
     "state": {
      "_model_module": "@jupyter-widgets/controls",
      "_model_module_version": "1.5.0",
      "_model_name": "SliderStyleModel",
      "_view_count": null,
      "_view_module": "@jupyter-widgets/base",
      "_view_module_version": "1.2.0",
      "_view_name": "StyleView",
      "description_width": "150px",
      "handle_color": null
     }
    },
    "514d77567b5e40649c1f47d1bdebac14": {
     "model_module": "@jupyter-widgets/base",
     "model_module_version": "1.2.0",
     "model_name": "LayoutModel",
     "state": {
      "_model_module": "@jupyter-widgets/base",
      "_model_module_version": "1.2.0",
      "_model_name": "LayoutModel",
      "_view_count": null,
      "_view_module": "@jupyter-widgets/base",
      "_view_module_version": "1.2.0",
      "_view_name": "LayoutView",
      "align_content": null,
      "align_items": null,
      "align_self": null,
      "border": null,
      "bottom": null,
      "display": null,
      "flex": null,
      "flex_flow": null,
      "grid_area": null,
      "grid_auto_columns": null,
      "grid_auto_flow": null,
      "grid_auto_rows": null,
      "grid_column": null,
      "grid_gap": null,
      "grid_row": null,
      "grid_template_areas": null,
      "grid_template_columns": null,
      "grid_template_rows": null,
      "height": null,
      "justify_content": null,
      "justify_items": null,
      "left": null,
      "margin": null,
      "max_height": null,
      "max_width": null,
      "min_height": null,
      "min_width": null,
      "object_fit": null,
      "object_position": null,
      "order": null,
      "overflow": null,
      "overflow_x": null,
      "overflow_y": null,
      "padding": null,
      "right": null,
      "top": null,
      "visibility": null,
      "width": null
     }
    },
    "5e76cb1f0d594135bfb8fa9c4d6566bc": {
     "model_module": "@jupyter-widgets/controls",
     "model_module_version": "1.5.0",
     "model_name": "SliderStyleModel",
     "state": {
      "_model_module": "@jupyter-widgets/controls",
      "_model_module_version": "1.5.0",
      "_model_name": "SliderStyleModel",
      "_view_count": null,
      "_view_module": "@jupyter-widgets/base",
      "_view_module_version": "1.2.0",
      "_view_name": "StyleView",
      "description_width": "150px",
      "handle_color": null
     }
    },
    "602f76bd45b149f0b9c254469dee2e7d": {
     "model_module": "@jupyter-widgets/controls",
     "model_module_version": "1.5.0",
     "model_name": "FloatSliderModel",
     "state": {
      "_dom_classes": [],
      "_model_module": "@jupyter-widgets/controls",
      "_model_module_version": "1.5.0",
      "_model_name": "FloatSliderModel",
      "_view_count": null,
      "_view_module": "@jupyter-widgets/controls",
      "_view_module_version": "1.5.0",
      "_view_name": "FloatSliderView",
      "continuous_update": false,
      "description": "[K+]_in",
      "description_tooltip": null,
      "disabled": false,
      "layout": "IPY_MODEL_8d5708595fef457d817567d3009f84f1",
      "max": 400,
      "min": 1,
      "orientation": "horizontal",
      "readout": true,
      "readout_format": ".2f",
      "step": 1,
      "style": "IPY_MODEL_2a34b208fa7a427998ec0a835b1f2fd9",
      "value": 140
     }
    },
    "71184763c29d4865a485b01f41eeebb4": {
     "model_module": "@jupyter-widgets/base",
     "model_module_version": "1.2.0",
     "model_name": "LayoutModel",
     "state": {
      "_model_module": "@jupyter-widgets/base",
      "_model_module_version": "1.2.0",
      "_model_name": "LayoutModel",
      "_view_count": null,
      "_view_module": "@jupyter-widgets/base",
      "_view_module_version": "1.2.0",
      "_view_name": "LayoutView",
      "align_content": null,
      "align_items": null,
      "align_self": null,
      "border": null,
      "bottom": null,
      "display": null,
      "flex": null,
      "flex_flow": null,
      "grid_area": null,
      "grid_auto_columns": null,
      "grid_auto_flow": null,
      "grid_auto_rows": null,
      "grid_column": null,
      "grid_gap": null,
      "grid_row": null,
      "grid_template_areas": null,
      "grid_template_columns": null,
      "grid_template_rows": null,
      "height": null,
      "justify_content": null,
      "justify_items": null,
      "left": null,
      "margin": null,
      "max_height": null,
      "max_width": null,
      "min_height": null,
      "min_width": null,
      "object_fit": null,
      "object_position": null,
      "order": null,
      "overflow": null,
      "overflow_x": null,
      "overflow_y": null,
      "padding": null,
      "right": null,
      "top": null,
      "visibility": null,
      "width": null
     }
    },
    "792c50178e0842a1b10e9c28adba8ccf": {
     "model_module": "@jupyter-widgets/controls",
     "model_module_version": "1.5.0",
     "model_name": "FloatSliderModel",
     "state": {
      "_dom_classes": [],
      "_model_module": "@jupyter-widgets/controls",
      "_model_module_version": "1.5.0",
      "_model_name": "FloatSliderModel",
      "_view_count": null,
      "_view_module": "@jupyter-widgets/controls",
      "_view_module_version": "1.5.0",
      "_view_name": "FloatSliderView",
      "continuous_update": false,
      "description": "[Cl-]_in",
      "description_tooltip": null,
      "disabled": false,
      "layout": "IPY_MODEL_8d5708595fef457d817567d3009f84f1",
      "max": 150,
      "min": 1,
      "orientation": "horizontal",
      "readout": true,
      "readout_format": ".2f",
      "step": 1,
      "style": "IPY_MODEL_f5e509654c1345718be2d1b829fea316",
      "value": 4
     }
    },
    "795315ca855a4411876513467517e80f": {
     "model_module": "@jupyter-widgets/controls",
     "model_module_version": "1.5.0",
     "model_name": "SliderStyleModel",
     "state": {
      "_model_module": "@jupyter-widgets/controls",
      "_model_module_version": "1.5.0",
      "_model_name": "SliderStyleModel",
      "_view_count": null,
      "_view_module": "@jupyter-widgets/base",
      "_view_module_version": "1.2.0",
      "_view_name": "StyleView",
      "description_width": "150px",
      "handle_color": null
     }
    },
    "832dc0888d6449468e651a8d0eb7d247": {
     "model_module": "@jupyter-widgets/controls",
     "model_module_version": "1.5.0",
     "model_name": "SliderStyleModel",
     "state": {
      "_model_module": "@jupyter-widgets/controls",
      "_model_module_version": "1.5.0",
      "_model_name": "SliderStyleModel",
      "_view_count": null,
      "_view_module": "@jupyter-widgets/base",
      "_view_module_version": "1.2.0",
      "_view_name": "StyleView",
      "description_width": "150px",
      "handle_color": null
     }
    },
    "8d5708595fef457d817567d3009f84f1": {
     "model_module": "@jupyter-widgets/base",
     "model_module_version": "1.2.0",
     "model_name": "LayoutModel",
     "state": {
      "_model_module": "@jupyter-widgets/base",
      "_model_module_version": "1.2.0",
      "_model_name": "LayoutModel",
      "_view_count": null,
      "_view_module": "@jupyter-widgets/base",
      "_view_module_version": "1.2.0",
      "_view_name": "LayoutView",
      "align_content": null,
      "align_items": null,
      "align_self": null,
      "border": null,
      "bottom": null,
      "display": null,
      "flex": null,
      "flex_flow": null,
      "grid_area": null,
      "grid_auto_columns": null,
      "grid_auto_flow": null,
      "grid_auto_rows": null,
      "grid_column": null,
      "grid_gap": null,
      "grid_row": null,
      "grid_template_areas": null,
      "grid_template_columns": null,
      "grid_template_rows": null,
      "height": null,
      "justify_content": null,
      "justify_items": null,
      "left": null,
      "margin": null,
      "max_height": null,
      "max_width": null,
      "min_height": null,
      "min_width": null,
      "object_fit": null,
      "object_position": null,
      "order": null,
      "overflow": null,
      "overflow_x": null,
      "overflow_y": null,
      "padding": null,
      "right": null,
      "top": null,
      "visibility": null,
      "width": "400px"
     }
    },
    "91c6f75348794c53bd289ab0c45c666d": {
     "model_module": "@jupyter-widgets/controls",
     "model_module_version": "1.5.0",
     "model_name": "SliderStyleModel",
     "state": {
      "_model_module": "@jupyter-widgets/controls",
      "_model_module_version": "1.5.0",
      "_model_name": "SliderStyleModel",
      "_view_count": null,
      "_view_module": "@jupyter-widgets/base",
      "_view_module_version": "1.2.0",
      "_view_name": "StyleView",
      "description_width": "150px",
      "handle_color": null
     }
    },
    "9287adf0f0e348a08240fec3730206e6": {
     "model_module": "@jupyter-widgets/controls",
     "model_module_version": "1.5.0",
     "model_name": "HTMLModel",
     "state": {
      "_dom_classes": [],
      "_model_module": "@jupyter-widgets/controls",
      "_model_module_version": "1.5.0",
      "_model_name": "HTMLModel",
      "_view_count": null,
      "_view_module": "@jupyter-widgets/controls",
      "_view_module_version": "1.5.0",
      "_view_name": "HTMLView",
      "description": "",
      "description_tooltip": null,
      "layout": "IPY_MODEL_d2b0d28da3ed4ad08b7382f2f23d5c4b",
      "placeholder": "​",
      "style": "IPY_MODEL_20ebe8a0675545b28b4b4720c00d4822",
      "value": "<b>Extracellular Potential (mV):</b> 0.00 mV"
     }
    },
    "934cc0f972044aac8f2ff1269899508f": {
     "model_module": "@jupyter-widgets/controls",
     "model_module_version": "1.5.0",
     "model_name": "HBoxModel",
     "state": {
      "_dom_classes": [],
      "_model_module": "@jupyter-widgets/controls",
      "_model_module_version": "1.5.0",
      "_model_name": "HBoxModel",
      "_view_count": null,
      "_view_module": "@jupyter-widgets/controls",
      "_view_module_version": "1.5.0",
      "_view_name": "HBoxView",
      "box_style": "",
      "children": [
       "IPY_MODEL_a9627675b2a645aaaa36ef88cde98c61",
       "IPY_MODEL_a9e0f0d7a70442148e1d1896af5471eb"
      ],
      "layout": "IPY_MODEL_71184763c29d4865a485b01f41eeebb4"
     }
    },
    "9c31fc45806b47edbdc69ee7bae91ce1": {
     "model_module": "@jupyter-widgets/controls",
     "model_module_version": "1.5.0",
     "model_name": "SliderStyleModel",
     "state": {
      "_model_module": "@jupyter-widgets/controls",
      "_model_module_version": "1.5.0",
      "_model_name": "SliderStyleModel",
      "_view_count": null,
      "_view_module": "@jupyter-widgets/base",
      "_view_module_version": "1.2.0",
      "_view_name": "StyleView",
      "description_width": "150px",
      "handle_color": null
     }
    },
    "a0a79bb9252c4f9890cbdd9a14356742": {
     "model_module": "@jupyter-widgets/base",
     "model_module_version": "1.2.0",
     "model_name": "LayoutModel",
     "state": {
      "_model_module": "@jupyter-widgets/base",
      "_model_module_version": "1.2.0",
      "_model_name": "LayoutModel",
      "_view_count": null,
      "_view_module": "@jupyter-widgets/base",
      "_view_module_version": "1.2.0",
      "_view_name": "LayoutView",
      "align_content": null,
      "align_items": null,
      "align_self": null,
      "border": null,
      "bottom": null,
      "display": null,
      "flex": null,
      "flex_flow": null,
      "grid_area": null,
      "grid_auto_columns": null,
      "grid_auto_flow": null,
      "grid_auto_rows": null,
      "grid_column": null,
      "grid_gap": null,
      "grid_row": null,
      "grid_template_areas": null,
      "grid_template_columns": null,
      "grid_template_rows": null,
      "height": null,
      "justify_content": null,
      "justify_items": null,
      "left": null,
      "margin": null,
      "max_height": null,
      "max_width": null,
      "min_height": null,
      "min_width": null,
      "object_fit": null,
      "object_position": null,
      "order": null,
      "overflow": null,
      "overflow_x": null,
      "overflow_y": null,
      "padding": null,
      "right": null,
      "top": null,
      "visibility": null,
      "width": null
     }
    },
    "a112d4db57ed43ebae28d0171d8411ec": {
     "model_module": "@jupyter-widgets/base",
     "model_module_version": "1.2.0",
     "model_name": "LayoutModel",
     "state": {
      "_model_module": "@jupyter-widgets/base",
      "_model_module_version": "1.2.0",
      "_model_name": "LayoutModel",
      "_view_count": null,
      "_view_module": "@jupyter-widgets/base",
      "_view_module_version": "1.2.0",
      "_view_name": "LayoutView",
      "align_content": null,
      "align_items": null,
      "align_self": null,
      "border": null,
      "bottom": null,
      "display": null,
      "flex": null,
      "flex_flow": null,
      "grid_area": null,
      "grid_auto_columns": null,
      "grid_auto_flow": null,
      "grid_auto_rows": null,
      "grid_column": null,
      "grid_gap": null,
      "grid_row": null,
      "grid_template_areas": null,
      "grid_template_columns": null,
      "grid_template_rows": null,
      "height": null,
      "justify_content": null,
      "justify_items": null,
      "left": null,
      "margin": null,
      "max_height": null,
      "max_width": null,
      "min_height": null,
      "min_width": null,
      "object_fit": null,
      "object_position": null,
      "order": null,
      "overflow": null,
      "overflow_x": null,
      "overflow_y": null,
      "padding": null,
      "right": null,
      "top": null,
      "visibility": null,
      "width": null
     }
    },
    "a2fd561ff1ae43b98d427c86e341d79f": {
     "model_module": "@jupyter-widgets/controls",
     "model_module_version": "1.5.0",
     "model_name": "SliderStyleModel",
     "state": {
      "_model_module": "@jupyter-widgets/controls",
      "_model_module_version": "1.5.0",
      "_model_name": "SliderStyleModel",
      "_view_count": null,
      "_view_module": "@jupyter-widgets/base",
      "_view_module_version": "1.2.0",
      "_view_name": "StyleView",
      "description_width": "150px",
      "handle_color": null
     }
    },
    "a356b409695348aabe92da5be8b20d2a": {
     "model_module": "@jupyter-widgets/controls",
     "model_module_version": "1.5.0",
     "model_name": "DescriptionStyleModel",
     "state": {
      "_model_module": "@jupyter-widgets/controls",
      "_model_module_version": "1.5.0",
      "_model_name": "DescriptionStyleModel",
      "_view_count": null,
      "_view_module": "@jupyter-widgets/base",
      "_view_module_version": "1.2.0",
      "_view_name": "StyleView",
      "description_width": ""
     }
    },
    "a6db52457ad146459eb6b86d94ade8fa": {
     "model_module": "@jupyter-widgets/controls",
     "model_module_version": "1.5.0",
     "model_name": "FloatSliderModel",
     "state": {
      "_dom_classes": [],
      "_model_module": "@jupyter-widgets/controls",
      "_model_module_version": "1.5.0",
      "_model_name": "FloatSliderModel",
      "_view_count": null,
      "_view_module": "@jupyter-widgets/controls",
      "_view_module_version": "1.5.0",
      "_view_name": "FloatSliderView",
      "continuous_update": false,
      "description": "P_K",
      "description_tooltip": null,
      "disabled": false,
      "layout": "IPY_MODEL_8d5708595fef457d817567d3009f84f1",
      "max": 1,
      "min": 0,
      "orientation": "horizontal",
      "readout": true,
      "readout_format": ".2f",
      "step": 0.01,
      "style": "IPY_MODEL_5e76cb1f0d594135bfb8fa9c4d6566bc",
      "value": 1
     }
    },
    "a9627675b2a645aaaa36ef88cde98c61": {
     "model_module": "@jupyter-widgets/controls",
     "model_module_version": "1.5.0",
     "model_name": "VBoxModel",
     "state": {
      "_dom_classes": [],
      "_model_module": "@jupyter-widgets/controls",
      "_model_module_version": "1.5.0",
      "_model_name": "VBoxModel",
      "_view_count": null,
      "_view_module": "@jupyter-widgets/controls",
      "_view_module_version": "1.5.0",
      "_view_name": "VBoxView",
      "box_style": "",
      "children": [
       "IPY_MODEL_602f76bd45b149f0b9c254469dee2e7d",
       "IPY_MODEL_339251bd6423431899e705fff9033f1d",
       "IPY_MODEL_d5df4eb89767415fba341e6a1b6e2b5d",
       "IPY_MODEL_fb064a4c5c9d44e983b2d27c1f32920a",
       "IPY_MODEL_792c50178e0842a1b10e9c28adba8ccf",
       "IPY_MODEL_e78fc38118a5483a84d47d6c755a773d",
       "IPY_MODEL_a6db52457ad146459eb6b86d94ade8fa",
       "IPY_MODEL_17f94578979e49d283a95adbd1a30334",
       "IPY_MODEL_0367b50c8af0486cb599e48b3e4801fc",
       "IPY_MODEL_38493d09faf74c6a8c61d5370f5122e2",
       "IPY_MODEL_4fe21b9b02f94b6893a53c0660500f49"
      ],
      "layout": "IPY_MODEL_cf66d5fef6214b7d968f98a0319ba78b"
     }
    },
    "a9e0f0d7a70442148e1d1896af5471eb": {
     "model_module": "@jupyter-widgets/output",
     "model_module_version": "1.0.0",
     "model_name": "OutputModel",
     "state": {
      "_dom_classes": [],
      "_model_module": "@jupyter-widgets/output",
      "_model_module_version": "1.0.0",
      "_model_name": "OutputModel",
      "_view_count": null,
      "_view_module": "@jupyter-widgets/output",
      "_view_module_version": "1.0.0",
      "_view_name": "OutputView",
      "layout": "IPY_MODEL_a112d4db57ed43ebae28d0171d8411ec",
      "msg_id": "",
      "outputs": [
       {
        "data": {
         "image/png": "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\n",
         "text/plain": "<Figure size 800x600 with 1 Axes>"
        },
        "metadata": {},
        "output_type": "display_data"
       },
       {
        "data": {
         "application/vnd.jupyter.widget-view+json": {
          "model_id": "db3ee39f1099466f91a80244e10c009e",
          "version_major": 2,
          "version_minor": 0
         },
         "text/plain": "VBox(children=(HTML(value='<b>Intracellular Potential (mV):</b> -73.26 mV'), HTML(value='<b>Extracellular Pote…"
        },
        "metadata": {},
        "output_type": "display_data"
       }
      ]
     }
    },
    "b4176e79cfec4ac59cdfc806d0f035bb": {
     "model_module": "@jupyter-widgets/controls",
     "model_module_version": "1.5.0",
     "model_name": "VBoxModel",
     "state": {
      "_dom_classes": [],
      "_model_module": "@jupyter-widgets/controls",
      "_model_module_version": "1.5.0",
      "_model_name": "VBoxModel",
      "_view_count": null,
      "_view_module": "@jupyter-widgets/controls",
      "_view_module_version": "1.5.0",
      "_view_name": "VBoxView",
      "box_style": "",
      "children": [
       "IPY_MODEL_35c29acb4ecc4566b711416df968ebf7",
       "IPY_MODEL_f66a3feff6e54697a68674c31b16c998"
      ],
      "layout": "IPY_MODEL_b59bab495f53480f8bb484cfad41a1dc"
     }
    },
    "b59bab495f53480f8bb484cfad41a1dc": {
     "model_module": "@jupyter-widgets/base",
     "model_module_version": "1.2.0",
     "model_name": "LayoutModel",
     "state": {
      "_model_module": "@jupyter-widgets/base",
      "_model_module_version": "1.2.0",
      "_model_name": "LayoutModel",
      "_view_count": null,
      "_view_module": "@jupyter-widgets/base",
      "_view_module_version": "1.2.0",
      "_view_name": "LayoutView",
      "align_content": null,
      "align_items": null,
      "align_self": null,
      "border": null,
      "bottom": null,
      "display": null,
      "flex": null,
      "flex_flow": null,
      "grid_area": null,
      "grid_auto_columns": null,
      "grid_auto_flow": null,
      "grid_auto_rows": null,
      "grid_column": null,
      "grid_gap": null,
      "grid_row": null,
      "grid_template_areas": null,
      "grid_template_columns": null,
      "grid_template_rows": null,
      "height": null,
      "justify_content": null,
      "justify_items": null,
      "left": null,
      "margin": null,
      "max_height": null,
      "max_width": null,
      "min_height": null,
      "min_width": null,
      "object_fit": null,
      "object_position": null,
      "order": null,
      "overflow": null,
      "overflow_x": null,
      "overflow_y": null,
      "padding": null,
      "right": null,
      "top": null,
      "visibility": null,
      "width": null
     }
    },
    "c26673ba0f1b4ba9aa2470544f711778": {
     "model_module": "@jupyter-widgets/controls",
     "model_module_version": "1.5.0",
     "model_name": "DescriptionStyleModel",
     "state": {
      "_model_module": "@jupyter-widgets/controls",
      "_model_module_version": "1.5.0",
      "_model_name": "DescriptionStyleModel",
      "_view_count": null,
      "_view_module": "@jupyter-widgets/base",
      "_view_module_version": "1.2.0",
      "_view_name": "StyleView",
      "description_width": ""
     }
    },
    "cf66d5fef6214b7d968f98a0319ba78b": {
     "model_module": "@jupyter-widgets/base",
     "model_module_version": "1.2.0",
     "model_name": "LayoutModel",
     "state": {
      "_model_module": "@jupyter-widgets/base",
      "_model_module_version": "1.2.0",
      "_model_name": "LayoutModel",
      "_view_count": null,
      "_view_module": "@jupyter-widgets/base",
      "_view_module_version": "1.2.0",
      "_view_name": "LayoutView",
      "align_content": null,
      "align_items": null,
      "align_self": null,
      "border": null,
      "bottom": null,
      "display": null,
      "flex": null,
      "flex_flow": null,
      "grid_area": null,
      "grid_auto_columns": null,
      "grid_auto_flow": null,
      "grid_auto_rows": null,
      "grid_column": null,
      "grid_gap": null,
      "grid_row": null,
      "grid_template_areas": null,
      "grid_template_columns": null,
      "grid_template_rows": null,
      "height": null,
      "justify_content": null,
      "justify_items": null,
      "left": null,
      "margin": null,
      "max_height": null,
      "max_width": null,
      "min_height": null,
      "min_width": null,
      "object_fit": null,
      "object_position": null,
      "order": null,
      "overflow": null,
      "overflow_x": null,
      "overflow_y": null,
      "padding": null,
      "right": null,
      "top": null,
      "visibility": null,
      "width": null
     }
    },
    "d2b0d28da3ed4ad08b7382f2f23d5c4b": {
     "model_module": "@jupyter-widgets/base",
     "model_module_version": "1.2.0",
     "model_name": "LayoutModel",
     "state": {
      "_model_module": "@jupyter-widgets/base",
      "_model_module_version": "1.2.0",
      "_model_name": "LayoutModel",
      "_view_count": null,
      "_view_module": "@jupyter-widgets/base",
      "_view_module_version": "1.2.0",
      "_view_name": "LayoutView",
      "align_content": null,
      "align_items": null,
      "align_self": null,
      "border": null,
      "bottom": null,
      "display": null,
      "flex": null,
      "flex_flow": null,
      "grid_area": null,
      "grid_auto_columns": null,
      "grid_auto_flow": null,
      "grid_auto_rows": null,
      "grid_column": null,
      "grid_gap": null,
      "grid_row": null,
      "grid_template_areas": null,
      "grid_template_columns": null,
      "grid_template_rows": null,
      "height": null,
      "justify_content": null,
      "justify_items": null,
      "left": null,
      "margin": null,
      "max_height": null,
      "max_width": null,
      "min_height": null,
      "min_width": null,
      "object_fit": null,
      "object_position": null,
      "order": null,
      "overflow": null,
      "overflow_x": null,
      "overflow_y": null,
      "padding": null,
      "right": null,
      "top": null,
      "visibility": null,
      "width": null
     }
    },
    "d5df4eb89767415fba341e6a1b6e2b5d": {
     "model_module": "@jupyter-widgets/controls",
     "model_module_version": "1.5.0",
     "model_name": "FloatSliderModel",
     "state": {
      "_dom_classes": [],
      "_model_module": "@jupyter-widgets/controls",
      "_model_module_version": "1.5.0",
      "_model_name": "FloatSliderModel",
      "_view_count": null,
      "_view_module": "@jupyter-widgets/controls",
      "_view_module_version": "1.5.0",
      "_view_name": "FloatSliderView",
      "continuous_update": false,
      "description": "[Na+]_in",
      "description_tooltip": null,
      "disabled": false,
      "layout": "IPY_MODEL_8d5708595fef457d817567d3009f84f1",
      "max": 150,
      "min": 1,
      "orientation": "horizontal",
      "readout": true,
      "readout_format": ".2f",
      "step": 1,
      "style": "IPY_MODEL_50ebb1cdbcce437e9736d99b5a0af2bc",
      "value": 12
     }
    },
    "db3ee39f1099466f91a80244e10c009e": {
     "model_module": "@jupyter-widgets/controls",
     "model_module_version": "1.5.0",
     "model_name": "VBoxModel",
     "state": {
      "_dom_classes": [],
      "_model_module": "@jupyter-widgets/controls",
      "_model_module_version": "1.5.0",
      "_model_name": "VBoxModel",
      "_view_count": null,
      "_view_module": "@jupyter-widgets/controls",
      "_view_module_version": "1.5.0",
      "_view_name": "VBoxView",
      "box_style": "",
      "children": [
       "IPY_MODEL_2d8f9ee445d04106a930911bc705d4f8",
       "IPY_MODEL_9287adf0f0e348a08240fec3730206e6"
      ],
      "layout": "IPY_MODEL_a0a79bb9252c4f9890cbdd9a14356742"
     }
    },
    "e78fc38118a5483a84d47d6c755a773d": {
     "model_module": "@jupyter-widgets/controls",
     "model_module_version": "1.5.0",
     "model_name": "FloatSliderModel",
     "state": {
      "_dom_classes": [],
      "_model_module": "@jupyter-widgets/controls",
      "_model_module_version": "1.5.0",
      "_model_name": "FloatSliderModel",
      "_view_count": null,
      "_view_module": "@jupyter-widgets/controls",
      "_view_module_version": "1.5.0",
      "_view_name": "FloatSliderView",
      "continuous_update": false,
      "description": "[Cl-]_out",
      "description_tooltip": null,
      "disabled": false,
      "layout": "IPY_MODEL_8d5708595fef457d817567d3009f84f1",
      "max": 150,
      "min": 1,
      "orientation": "horizontal",
      "readout": true,
      "readout_format": ".2f",
      "step": 1,
      "style": "IPY_MODEL_832dc0888d6449468e651a8d0eb7d247",
      "value": 110
     }
    },
    "f5e509654c1345718be2d1b829fea316": {
     "model_module": "@jupyter-widgets/controls",
     "model_module_version": "1.5.0",
     "model_name": "SliderStyleModel",
     "state": {
      "_model_module": "@jupyter-widgets/controls",
      "_model_module_version": "1.5.0",
      "_model_name": "SliderStyleModel",
      "_view_count": null,
      "_view_module": "@jupyter-widgets/base",
      "_view_module_version": "1.2.0",
      "_view_name": "StyleView",
      "description_width": "150px",
      "handle_color": null
     }
    },
    "f66a3feff6e54697a68674c31b16c998": {
     "model_module": "@jupyter-widgets/controls",
     "model_module_version": "1.5.0",
     "model_name": "HTMLModel",
     "state": {
      "_dom_classes": [],
      "_model_module": "@jupyter-widgets/controls",
      "_model_module_version": "1.5.0",
      "_model_name": "HTMLModel",
      "_view_count": null,
      "_view_module": "@jupyter-widgets/controls",
      "_view_module_version": "1.5.0",
      "_view_name": "HTMLView",
      "description": "",
      "description_tooltip": null,
      "layout": "IPY_MODEL_f8021e45fb0042b7b4ad6f1cc59b95bd",
      "placeholder": "​",
      "style": "IPY_MODEL_c26673ba0f1b4ba9aa2470544f711778",
      "value": "<b>Extracellular Potential (mV):</b> 0.00 mV"
     }
    },
    "f76d9dcfbf0444019bcc11fe1f8f0338": {
     "model_module": "@jupyter-widgets/controls",
     "model_module_version": "1.5.0",
     "model_name": "SliderStyleModel",
     "state": {
      "_model_module": "@jupyter-widgets/controls",
      "_model_module_version": "1.5.0",
      "_model_name": "SliderStyleModel",
      "_view_count": null,
      "_view_module": "@jupyter-widgets/base",
      "_view_module_version": "1.2.0",
      "_view_name": "StyleView",
      "description_width": "150px",
      "handle_color": null
     }
    },
    "f8021e45fb0042b7b4ad6f1cc59b95bd": {
     "model_module": "@jupyter-widgets/base",
     "model_module_version": "1.2.0",
     "model_name": "LayoutModel",
     "state": {
      "_model_module": "@jupyter-widgets/base",
      "_model_module_version": "1.2.0",
      "_model_name": "LayoutModel",
      "_view_count": null,
      "_view_module": "@jupyter-widgets/base",
      "_view_module_version": "1.2.0",
      "_view_name": "LayoutView",
      "align_content": null,
      "align_items": null,
      "align_self": null,
      "border": null,
      "bottom": null,
      "display": null,
      "flex": null,
      "flex_flow": null,
      "grid_area": null,
      "grid_auto_columns": null,
      "grid_auto_flow": null,
      "grid_auto_rows": null,
      "grid_column": null,
      "grid_gap": null,
      "grid_row": null,
      "grid_template_areas": null,
      "grid_template_columns": null,
      "grid_template_rows": null,
      "height": null,
      "justify_content": null,
      "justify_items": null,
      "left": null,
      "margin": null,
      "max_height": null,
      "max_width": null,
      "min_height": null,
      "min_width": null,
      "object_fit": null,
      "object_position": null,
      "order": null,
      "overflow": null,
      "overflow_x": null,
      "overflow_y": null,
      "padding": null,
      "right": null,
      "top": null,
      "visibility": null,
      "width": null
     }
    },
    "fb064a4c5c9d44e983b2d27c1f32920a": {
     "model_module": "@jupyter-widgets/controls",
     "model_module_version": "1.5.0",
     "model_name": "FloatSliderModel",
     "state": {
      "_dom_classes": [],
      "_model_module": "@jupyter-widgets/controls",
      "_model_module_version": "1.5.0",
      "_model_name": "FloatSliderModel",
      "_view_count": null,
      "_view_module": "@jupyter-widgets/controls",
      "_view_module_version": "1.5.0",
      "_view_name": "FloatSliderView",
      "continuous_update": false,
      "description": "[Na+]_out",
      "description_tooltip": null,
      "disabled": false,
      "layout": "IPY_MODEL_8d5708595fef457d817567d3009f84f1",
      "max": 150,
      "min": 1,
      "orientation": "horizontal",
      "readout": true,
      "readout_format": ".2f",
      "step": 1,
      "style": "IPY_MODEL_fd9537ac71e04cdc933683628c9dd973",
      "value": 145
     }
    },
    "fd9537ac71e04cdc933683628c9dd973": {
     "model_module": "@jupyter-widgets/controls",
     "model_module_version": "1.5.0",
     "model_name": "SliderStyleModel",
     "state": {
      "_model_module": "@jupyter-widgets/controls",
      "_model_module_version": "1.5.0",
      "_model_name": "SliderStyleModel",
      "_view_count": null,
      "_view_module": "@jupyter-widgets/base",
      "_view_module_version": "1.2.0",
      "_view_name": "StyleView",
      "description_width": "150px",
      "handle_color": null
     }
    }
   }
  }
 },
 "nbformat": 4,
 "nbformat_minor": 4
}
