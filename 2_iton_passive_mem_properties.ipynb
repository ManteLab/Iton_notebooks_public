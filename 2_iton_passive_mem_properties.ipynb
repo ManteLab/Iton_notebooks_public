{
 "cells": [
  {
   "cell_type": "markdown",
   "metadata": {
    "id": "eudUol3p0CHA"
   },
   "source": [
    "# Introduction to Neuroinformatics\n",
    "## Exercise session 2: Passive membrane properties\n",
    "\n",
    "Welcome to the second exercise session of the introduction to neuroinformatics course. This exerciese session will dive deeper into the RC circuits explored in the last exercise session and model some simple properties of neurons."
   ]
  },
  {
   "cell_type": "markdown",
   "metadata": {
    "id": "WCVtGJgJ0CHE"
   },
   "source": [
    "# Table of contents\n",
    "\n",
    "* [Packages](#packages)\n",
    "* [1: The parallel RC circuit](#prc)\n",
    "    * [1.1: Charging the capacitor in the parallel RC circuit](#cprc)\n",
    "    * [1.2: The neuronal membrane: Multiple conductances](#tnm)\n",
    "* [2: Cable equation](#ce)\n",
    "    * [2.1: Cable resistance](#cr)\n",
    "    * [2.2 The cable equation](#tce)\n",
    "    * [2.3 Steady-state solution (infinite cable)](#sss)\n",
    "    * [2.4: An axon with three injection sites](#axon)\n",
    "* [3: Integrate-and-Fire neuron and delayed synaptic inputs](#if)\n",
    "    * [3.1: Delays: How cable theory affects synaptic inputs](#cable)\n",
    "    * [3.2: The Integrate-and-No-Fire Model](#inf)\n"
   ]
  },
  {
   "cell_type": "markdown",
   "metadata": {
    "id": "6JthYH1d0CHF"
   },
   "source": [
    "# Packages  <a class=\"anchor\" id=\"cprc\"></a>\n",
    "\n",
    "We <font color='red'>**highly recommend**</font> to download this notebook and run it <font color='red'>**locally**</font> on your machine. The interactive plots are slow in Google Colab and don't provide a nice experience.\n"
   ]
  },
  {
   "cell_type": "code",
   "execution_count": 1,
   "metadata": {
    "colab": {
     "base_uri": "https://localhost:8080/"
    },
    "executionInfo": {
     "elapsed": 21169,
     "status": "ok",
     "timestamp": 1758786000917,
     "user": {
      "displayName": "Richard Morgan",
      "userId": "08652038592759040016"
     },
     "user_tz": -120
    },
    "id": "T4BQFHWa0CHF",
    "outputId": "7ceb0785-4875-41c6-c301-2dcc8b195301"
   },
   "outputs": [],
   "source": [
    "!pip3 install --quiet ipywidgets ipympl wget"
   ]
  },
  {
   "cell_type": "code",
   "execution_count": 2,
   "metadata": {
    "ExecuteTime": {
     "end_time": "2024-10-09T17:18:20.869605Z",
     "start_time": "2024-10-09T17:18:20.865874Z"
    },
    "colab": {
     "base_uri": "https://localhost:8080/"
    },
    "executionInfo": {
     "elapsed": 49,
     "status": "ok",
     "timestamp": 1758786000971,
     "user": {
      "displayName": "Richard Morgan",
      "userId": "08652038592759040016"
     },
     "user_tz": -120
    },
    "id": "Qt4p7aCyM8va",
    "outputId": "772ee852-d589-474e-90a4-fa2c476d87b5"
   },
   "outputs": [
    {
     "name": "stdout",
     "output_type": "stream",
     "text": [
      "platform: notebook\n"
     ]
    }
   ],
   "source": [
    "platform = 'notebook'\n",
    "try:\n",
    "    import google.colab\n",
    "    from google.colab import output\n",
    "    platform = 'colab'\n",
    "    output.enable_custom_widget_manager()\n",
    "except:\n",
    "    pass\n",
    "print(f\"platform: {platform}\")"
   ]
  },
  {
   "cell_type": "code",
   "execution_count": 3,
   "metadata": {
    "ExecuteTime": {
     "end_time": "2024-10-09T17:18:20.873431Z",
     "start_time": "2024-10-09T17:18:20.871963Z"
    },
    "colab": {
     "base_uri": "https://localhost:8080/"
    },
    "executionInfo": {
     "elapsed": 339,
     "status": "ok",
     "timestamp": 1758786001312,
     "user": {
      "displayName": "Richard Morgan",
      "userId": "08652038592759040016"
     },
     "user_tz": -120
    },
    "id": "8v_yBXoINEZl",
    "outputId": "c0e01dcc-b311-4337-cc9e-b93923f78cb5"
   },
   "outputs": [],
   "source": [
    "import wget\n",
    "import os\n",
    "\n",
    "# Define the URL and the output directory\n",
    "url = 'https://github.com/ManteLab/Iton_notebooks_public/raw/refs/heads/ex2/utils_ex2/utils.py'\n",
    "output_dir = 'utils_ex2'\n",
    "\n",
    "if not os.path.exists(output_dir):\n",
    "    # Create the directory if it doesn't already exist\n",
    "    os.makedirs(output_dir, exist_ok=True)\n",
    "\n",
    "    # Download the file into the specified directory\n",
    "    print(f\"Downloading file to '{output_dir}'...\")\n",
    "    filename = wget.download(url, out=output_dir)\n",
    "    print(f\"\\nFile successfully downloaded as: {filename}\")"
   ]
  },
  {
   "cell_type": "markdown",
   "metadata": {
    "collapsed": false,
    "id": "tIv7oQbk7wlf"
   },
   "source": [
    "## 1.1: Charging the capacitor in the parallel RC circuit <a class=\"anchor\" id=\"cprc\"></a>\n",
    "\n",
    "In the last exercise, we took a closer look at the <ins>Nernst equation</ins> and the <ins>GHK equation</ins>. We also introduced the <ins>series RC circuit</ins> and the <ins>time constant</ins>.\n",
    "\n",
    "These concepts help us to understand further how voltage gradients are established across cell membranes and how the temporal dynamics of these gradients charge and discharge a capacitor.\n",
    "\n",
    "In fact, we can <ins>model the passive properties of real neuronal cell membranes</ins> using the **parallel RC circuit** (note that the last exercise did only intruduce the series RC circuit).\n",
    "For this, we need an electrical circuit with a <ins>**capacitor** in parallel with a **resistor**</ins> that is <ins>in series with a **voltage source**</ins> (see figure below).\n",
    "- The **capacitor** represents the **lipid bilayer** of the membrane.\n",
    "- The **voltage source** represents the **Nernst potential** for a given ion.\n",
    "- The **resistor** represent the **ion channels** (**conductances**) in the membrane for a given ion.\n"
   ]
  },
  {
   "cell_type": "markdown",
   "metadata": {
    "id": "C2qKI8XHDAjW"
   },
   "source": [
    "![My Image](https://github.com/ManteLab/Iton_notebooks_public/blob/ex2/utils_ex2/ex2_parallel.png?raw=true)"
   ]
  },
  {
   "cell_type": "markdown",
   "metadata": {
    "id": "0FyJonoFDX4v"
   },
   "source": [
    "In section 2.a from the last exercise we used Euler's method to find the numerical solution for\n",
    "\n",
    "$\\begin{aligned}\n",
    "    \\frac{dV_C}{dt} = \\frac{V - V_C}{R \\cdot C} \\\\\n",
    "    \\end{aligned}$\n",
    "\n",
    "\n",
    "The solution was\n",
    "\n",
    "\n",
    "\n",
    "$V_C(t + \\Delta t) = V_C(t) + \\frac{V - V_C(t)}{R \\cdot C} \\cdot \\Delta t$ = $(1 - \\frac{\\Delta t}{R \\cdot C}) \\cdot V_C(t) + \\frac{\\Delta t}{R \\cdot C} \\cdot V$\n",
    "\n",
    "This equation nicely shows how the voltage accross a capacitor at time $t + \\Delta t$ is a weighted sum of the current capacitor voltage $V_C(t)$ and the applied voltage $V$, with the weights depending on the time step $\\Delta t$, the resistance $R$, and the capacitance $C$.\n",
    "\n",
    "In this new circuit, the current $I_{in}$ splits at the node - the equations above no longer apply."
   ]
  },
  {
   "cell_type": "markdown",
   "metadata": {
    "id": "1BxUwudT0CHK"
   },
   "source": [
    "---\n",
    "\n",
    "> **Assignment 1**\n",
    ">\n",
    "> Using KVL, KCL and Ohm's Law (see last exercise) mathematically describe how the voltage across the resistor changes over time when charing ($\\frac{dV}{dt} = ...$). Note that the total input current divides between the capacitor and the resistor, based on the rate of voltage change across the capacitor and the resistive load.\n",
    "\n",
    "---\n",
    "\n",
    "\n",
    "\n",
    "**Assignment 2**\n",
    ">\n",
    "> Using Euler's method find $V(t+\\Delta t)$ = ...\n",
    ">\n",
    "> If you found the correct equation in the previous assignment, you can now use Euler's method to find the numercial solution.\n",
    "\n",
    "---\n",
    "\n",
    "**Assignment 3**\n",
    ">\n",
    "> In section 2.b from last exercise we had set some parameters and you completed the function <ins>rc_euler</ins> by adding the missing equation. Thus, you were able to plot the charging and discharging dynamics for a series RC circuit. Let's try this for the parallel RC circuit.\n",
    ">\n",
    "> Complete the code below and plot the charing curve in the parallel RC circuit."
   ]
  },
  {
   "cell_type": "code",
   "execution_count": 4,
   "metadata": {
    "ExecuteTime": {
     "end_time": "2024-10-09T21:53:21.266923Z",
     "start_time": "2024-10-09T21:53:21.187036Z"
    },
    "colab": {
     "base_uri": "https://localhost:8080/"
    },
    "executionInfo": {
     "elapsed": 6,
     "status": "ok",
     "timestamp": 1758786001320,
     "user": {
      "displayName": "Richard Morgan",
      "userId": "08652038592759040016"
     },
     "user_tz": -120
    },
    "id": "C5xiG2KqDL_C",
    "outputId": "5177d40c-ba4e-4952-f3b5-258ad68bc700"
   },
   "outputs": [
    {
     "ename": "TypeError",
     "evalue": "float() argument must be a string or a real number, not 'ellipsis'",
     "output_type": "error",
     "traceback": [
      "\u001b[31m---------------------------------------------------------------------------\u001b[39m",
      "\u001b[31mTypeError\u001b[39m                                 Traceback (most recent call last)",
      "\u001b[36mCell\u001b[39m\u001b[36m \u001b[39m\u001b[32mIn[4]\u001b[39m\u001b[32m, line 18\u001b[39m\n\u001b[32m     15\u001b[39m t = np.arange(\u001b[32m0\u001b[39m, \u001b[32m100\u001b[39m, \u001b[32m0.1\u001b[39m)\n\u001b[32m     16\u001b[39m dt = \u001b[32m0.001\u001b[39m\n\u001b[32m---> \u001b[39m\u001b[32m18\u001b[39m V_t = \u001b[43mrc_parallel_circuit\u001b[49m\u001b[43m(\u001b[49m\u001b[43mV0\u001b[49m\u001b[43m,\u001b[49m\u001b[43m \u001b[49m\u001b[43mE_ion\u001b[49m\u001b[43m,\u001b[49m\u001b[43m \u001b[49m\u001b[43mR\u001b[49m\u001b[43m,\u001b[49m\u001b[43m \u001b[49m\u001b[43mC\u001b[49m\u001b[43m,\u001b[49m\u001b[43m \u001b[49m\u001b[43mI_in\u001b[49m\u001b[43m,\u001b[49m\u001b[43m \u001b[49m\u001b[43mt\u001b[49m\u001b[43m,\u001b[49m\u001b[43m \u001b[49m\u001b[43mdt\u001b[49m\u001b[43m)\u001b[49m\n\u001b[32m     19\u001b[39m V_t.shape\n",
      "\u001b[36mCell\u001b[39m\u001b[36m \u001b[39m\u001b[32mIn[4]\u001b[39m\u001b[32m, line 7\u001b[39m, in \u001b[36mrc_parallel_circuit\u001b[39m\u001b[34m(V0, E_ion, R, C, I_in, t, dt)\u001b[39m\n\u001b[32m      4\u001b[39m V_t[\u001b[32m0\u001b[39m] = V0\n\u001b[32m      5\u001b[39m \u001b[38;5;28;01mfor\u001b[39;00m i \u001b[38;5;129;01min\u001b[39;00m \u001b[38;5;28mrange\u001b[39m(\u001b[32m1\u001b[39m, \u001b[38;5;28mlen\u001b[39m(t)):\n\u001b[32m      6\u001b[39m     \u001b[38;5;66;03m# Assignment: complete the equation below\u001b[39;00m\n\u001b[32m----> \u001b[39m\u001b[32m7\u001b[39m     \u001b[43mV_t\u001b[49m\u001b[43m[\u001b[49m\u001b[43mi\u001b[49m\u001b[43m]\u001b[49m = ...\n\u001b[32m      8\u001b[39m \u001b[38;5;28;01mreturn\u001b[39;00m V_t\n",
      "\u001b[31mTypeError\u001b[39m: float() argument must be a string or a real number, not 'ellipsis'"
     ]
    }
   ],
   "source": [
    "import numpy as np\n",
    "def rc_parallel_circuit(V0, E_ion, R, C, I_in, t, dt):\n",
    "    V_t = np.zeros(t.shape)\n",
    "    V_t[0] = V0\n",
    "    for i in range(1, len(t)):\n",
    "        # Assignment: complete the equation below\n",
    "        V_t[i] = ...\n",
    "    return V_t\n",
    "\n",
    "V0 = 0\n",
    "E_ion = 0.3\n",
    "R = 1e2\n",
    "C = 1e-3\n",
    "I_in = 1e-3\n",
    "t = np.arange(0, 100, 0.1)\n",
    "dt = 0.001\n",
    "\n",
    "V_t = rc_parallel_circuit(V0, E_ion, R, C, I_in, t, dt)\n",
    "V_t.shape\n"
   ]
  },
  {
   "cell_type": "code",
   "execution_count": null,
   "metadata": {
    "ExecuteTime": {
     "end_time": "2024-10-09T21:53:22.390156Z",
     "start_time": "2024-10-09T21:53:21.986199Z"
    },
    "colab": {
     "base_uri": "https://localhost:8080/",
     "height": 333
    },
    "executionInfo": {
     "elapsed": 431,
     "status": "ok",
     "timestamp": 1758786001753,
     "user": {
      "displayName": "Richard Morgan",
      "userId": "08652038592759040016"
     },
     "user_tz": -120
    },
    "id": "Lj1vPPQ-Ya7R",
    "outputId": "d08ce7d2-4616-40ce-ada2-bec14cbf81ae"
   },
   "outputs": [],
   "source": [
    "import matplotlib.pyplot as plt\n",
    "px = 1/plt.rcParams['figure.dpi']  # pixel in inches\n",
    "plt.close()\n",
    "fig, ax = plt.subplots(1, 1, figsize=(600*px, 300*px))\n",
    "ax.plot(t, V_t)  # plot in mV\n",
    "ax.set_xlabel('Time (ms)')\n",
    "ax.set_ylabel('Membrane potential (mV)')\n",
    "ax.set_title('Membrane potential of a neuron modeled as a parallel RC circuit')\n",
    "plt.grid()\n",
    "plt.show()"
   ]
  },
  {
   "cell_type": "markdown",
   "metadata": {
    "collapsed": false,
    "id": "BLcvEbOg7wlg"
   },
   "source": [
    "\n",
    "---\n",
    "\n",
    "## 1.2: The neuronal membrane: Multiple conductances <a class=\"anchor\" id=\"tnm\"></a>"
   ]
  },
  {
   "cell_type": "markdown",
   "metadata": {
    "collapsed": false,
    "id": "vxjjYJdf7wlg"
   },
   "source": [
    "We are now getting close to <ins>modelling the passive membrane properties</ins> of a real neuron. As you have seen, the Nernst potential calculates the reversal potential for each ion species seperately. To calculate the resting membrane potential, we need <ins>mainly three ion types</ins>: **sodium**, **potassium**, and **chloride**.\n",
    "\n",
    "In biological neurons, the <ins>reversal potential</ins> for these ions is given by their different concentrations inside and outside the cell. That means, <ins>every ion species</ins> must have its \"personal\" driving force - a **voltage source**, if you will. Additionally, the membrane is selectively permeable for each ion species (different ion channels allow only crossing for specific ions) - thus also the **conductances** are specific for the ion type ($g_{ion}$).\n",
    "\n",
    "We start with the following premises:\n",
    "- Three ions are required to make up the resting membrane potential\n",
    "- Each ion requires a voltage source and some conductance / resistance\n",
    "- The cell membrane itself is modelled as a capacitor in parallel to the resistor(s)\n"
   ]
  },
  {
   "cell_type": "markdown",
   "metadata": {
    "collapsed": false,
    "id": "FALFcIcu7wlg"
   },
   "source": [
    "Knowing how to model the **Nerst equation** (<ins>single ion</ins>) as an electrical circuit (**parallel RC**) and how the **GHK equation** is used to calculate the <ins>resting membrane potential including sodium, potassium and chloride ions</ins>, you can now get close to model the cell membrane of a neuron.\n",
    "\n",
    "---\n",
    "\n",
    "> **Assignment 4**\n",
    ">\n",
    "> Draw the equivalent electrical circuit modelling the cell membrane of a neuron with three conductances. Using this equivalent circuit, answer the following questions:\n",
    "> - What is the relationship between the permeability of the membrane and the resistance for that ion?\n",
    "> - How can you represent the electrical potential generated by an ion across the membrane?\n",
    "\n",
    "---\n",
    "\n",
    "> **Assignment 5**\n",
    ">\n",
    "> Using the equivalent circuit you just drew and Kirchhoff's laws, write the equation for the membrane potential of a neuron.\n",
    ">\n",
    "> $V_m =...$\n",
    "\n",
    "---\n",
    "\n",
    "> **Assignment 6**\n",
    ">\n",
    "> Write a function to simulate the membrane potential using the 3-conductance model.\n"
   ]
  },
  {
   "cell_type": "code",
   "execution_count": null,
   "metadata": {
    "ExecuteTime": {
     "end_time": "2024-10-09T21:53:24.623951Z",
     "start_time": "2024-10-09T21:53:24.620842Z"
    },
    "executionInfo": {
     "elapsed": 4,
     "status": "ok",
     "timestamp": 1758786001762,
     "user": {
      "displayName": "Richard Morgan",
      "userId": "08652038592759040016"
     },
     "user_tz": -120
    },
    "id": "JKG4MV2l7wlh"
   },
   "outputs": [],
   "source": [
    "def membrane_potential(g_K, E_K, g_Na, E_Na, g_Cl, E_Cl):\n",
    "    Vm = ...\n",
    "    return Vm"
   ]
  },
  {
   "cell_type": "markdown",
   "metadata": {
    "id": "TXQee47k0CHM"
   },
   "source": [
    "---"
   ]
  },
  {
   "cell_type": "markdown",
   "metadata": {
    "collapsed": false,
    "id": "WgZQ8J_c7wlh"
   },
   "source": [
    "# 2. Cable equation <a class=\"anchor\" id=\"ce\"></a>\n"
   ]
  },
  {
   "cell_type": "markdown",
   "metadata": {
    "collapsed": false,
    "id": "LPuB4JTteXda"
   },
   "source": [
    "So far, we have discussed membrane properties in steady-state conditions and over time. In neurons, <ins>changes in membrane potential</ins> often initially occur at the tip of long, thin cell membrane protrusions - called **dendrites** - and then <ins>passivly conduct</ins> along these dendrites towards the cell body (**soma**). Large changes in the membrane potential can trigger **action potentials** (**spikes**) at the soma which are propagated actively along the **axon**.\n",
    "\n",
    "The conduction is most pronounced in long and narrow membrane compartments (dendrite and soma) which may be treated like a ‘cable’. If a cable (or an axon, for that matter), would receive a current input $I_0(t)$ at one end, the voltage change at location of input would depent on Ohms Law.\n",
    "\n",
    "A typical problem in **cable theory** (Wilfrid Rall, 1977) is to determine the distribution of voltage $V (x, t)$ along the cable (ditance to the site of input $x$) and over time $t$.\n",
    "\n",
    "![My Image](https://github.com/ManteLab/Iton_notebooks_public/blob/ex2/utils_ex2/ex2_cable.png?raw=true)\n"
   ]
  },
  {
   "cell_type": "markdown",
   "metadata": {
    "id": "KcVDoGV-XDRE"
   },
   "source": [
    "## 2.1: Cable resistance <a class=\"anchor\" id=\"cr\"></a>"
   ]
  },
  {
   "cell_type": "markdown",
   "metadata": {
    "collapsed": false,
    "id": "lrA1vAqXeXdb"
   },
   "source": [
    "Electrons when flowing through a cable (of copper for exemple) encounter a resistance due to the atoms in the cable. This is called the longitudinal resistance of the cable and is given by the formula:\n",
    "$R_L = \\frac{r_L \\Delta x}{\\pi a^2}$ where:\n",
    "- $r_L$ is the specific longitudinal resistance of the cable [$\\Omega \\cdot mm$],\n",
    "- $\\Delta x$ is the length of the cable [$mm$]."
   ]
  },
  {
   "cell_type": "markdown",
   "metadata": {
    "id": "Bd-zmF-J0CHN"
   },
   "source": [
    "---\n",
    "\n",
    ">**Assignment 7**\n",
    ">\n",
    "> Given these information and the depiction in the figure above answer the following questions:\n",
    ">   1. What is the unit of the longitudinal resistance $R_L$?\n",
    ">   2. If you double the radius $a$ of the cable, what happens to the longitudinal resistance $R_L$?\n",
    ">   3. If you double the length $\\Delta x$ of the cable, what happens to the longitudinal resistance $R_L$?\n",
    "\n",
    "---"
   ]
  },
  {
   "cell_type": "markdown",
   "metadata": {
    "id": "-Qsvpy7YXZaP"
   },
   "source": [
    "Note, that we can relate the voltage drop along the cable to the current injected into the cable by using Ohm's law:\n",
    "\n",
    "$\\Delta V = - I_L \\cdot R_L$ = $- I_L \\cdot \\frac{r_L \\Delta x}{\\pi a^2}$."
   ]
  },
  {
   "cell_type": "markdown",
   "metadata": {
    "collapsed": false,
    "id": "mJkkOAKmeXdb"
   },
   "source": [
    "Applying cable theory to neurons, we established that ions flowing along the longitudinal axis of an axon experience a restistance $R_L$. However, ions do not only travel along the x-axis but also in radial direction. The resitance, ions encounter there is called the membrane resistance and is given by the formula:\n",
    "\n",
    "$R_m = \\frac{r_m}{2 \\pi a \\Delta x}$ where:\n",
    "- $r_m$ is the specific membrane resistance [$\\Omega \\cdot mm^2$],\n",
    "- $\\Delta x$ is the length of the cable [$mm$].\n",
    "- $a$ is the radius of the cable [$mm$]."
   ]
  },
  {
   "cell_type": "markdown",
   "metadata": {
    "id": "srHJUaOw0CHO"
   },
   "source": [
    "---\n",
    "\n",
    "> **Assignment 8**\n",
    "> Given these information and the depiction in the figure above answer the following questions:\n",
    ">\n",
    "> 1. What is the unit of the membrane resistance $R_m$?\n",
    "> 2. If you double the radius $a$ of the cable, what happens to the specific membrane resistance $R_m$?\n",
    "> 3. If you double the length $\\Delta x$ of the cable, what happens to the specific membrane resistance $R_m$?\n",
    "\n",
    "---"
   ]
  },
  {
   "cell_type": "markdown",
   "metadata": {
    "id": "vI0o5QE1XdxW"
   },
   "source": [
    "## 2.2: The cable equation <a class=\"anchor\" id=\"tce\"></a>"
   ]
  },
  {
   "cell_type": "markdown",
   "metadata": {
    "collapsed": false,
    "id": "xyadC2AQeXdb"
   },
   "source": [
    "For a passive membrane, the membrane potential $V(x,t)$ is determined by solving the following partial differential equation (linear cable equation):\n",
    "$\\tau_m \\frac{\\partial v}{\\partial t} = \\lambda^2 \\frac{\\partial^2 v}{\\partial x^2} - v + r_m i_e$\n",
    "where:\n",
    "- The time-derivative term $\\frac{\\partial v}{\\partial t}$ relates to chargin of the membrane capacitance.\n",
    "- The second space-derivative term $\\frac{\\partial^2 v}{\\partial x^2}$ relates to accumulation of longitudinal currents.\n",
    "- $\\tau_m = r_m c_m$ sets the scale for the **temporal** variation in the membrane potential. $\\tau_m$ is called the membrane time constant.\n",
    "- $\\lambda = \\sqrt{\\frac{ar_m}{2r_l}}$ sets the scale for the **spatial** variation in the membrane potential. $\\lambda$ is called the electrotonic length constant.\n",
    "with:\n",
    "- $c_m$ is the specific membrane capacitance,\n",
    "- $a$ is the radius of the cable (axon in our case),\n",
    "- $v = V - V_{rest}$ is the membrane potential relative to the resting potential,\n",
    "- $r_m$ is the specific membrane resistance (= $1 M\\Omega \\cdot mm^2$),\n",
    "- $r_L$ is the longitudinal resistance (= $1 k\\Omega \\cdot mm$),\n",
    "- $i_e$ is the current injected into the cable."
   ]
  },
  {
   "cell_type": "markdown",
   "metadata": {
    "collapsed": false,
    "id": "Z1580G91eXdb"
   },
   "source": [
    "---\n",
    "\n",
    ">**Assignment 9**\n",
    ">\n",
    "> Given the information above answer the follwing questions:\n",
    ">\n",
    ">$r_m = 1 M\\Omega \\cdot mm^2$,\n",
    ">\n",
    ">$r_L = 1 k\\Omega \\cdot mm$,\n",
    ">\n",
    ">$a = 2 \\mu m$\n",
    ">\n",
    ">1. What is the unit of the  length constant $\\lambda$?\n",
    ">2. What is the unit of the membrane time constant $\\tau_m$?\n",
    "\n",
    "\n",
    "---"
   ]
  },
  {
   "cell_type": "markdown",
   "metadata": {
    "collapsed": false,
    "id": "k4lw_Bw8eXdb"
   },
   "source": [
    "## 2.3: Steady-state solution (infinite cable) <a class=\"anchor\" id=\"sss\"></a>"
   ]
  },
  {
   "cell_type": "markdown",
   "metadata": {
    "collapsed": false,
    "id": "xg5aWNIS7wlh"
   },
   "source": [
    "We assume an infinite long **cable** and inject a constant current $i_e$ locally at $x = 0$.\n",
    "\n",
    "The steady-state solution (so that $\\frac{\\partial v}{\\partial t} = 0 $) of the cable equation then is:\n",
    "\n",
    "$v(x) = \\frac{i_e R_L}{2} e^{\\frac{-|x|}{\\lambda}}$ with $R_L = \\frac{r_L \\lambda}{\\pi a^2}$."
   ]
  },
  {
   "cell_type": "code",
   "execution_count": null,
   "metadata": {
    "ExecuteTime": {
     "end_time": "2024-10-09T21:53:31.886917Z",
     "start_time": "2024-10-09T21:53:31.669299Z"
    },
    "colab": {
     "base_uri": "https://localhost:8080/",
     "height": 376
    },
    "executionInfo": {
     "elapsed": 388,
     "status": "ok",
     "timestamp": 1758786002149,
     "user": {
      "displayName": "Richard Morgan",
      "userId": "08652038592759040016"
     },
     "user_tz": -120
    },
    "id": "07_rgeNC7wlh",
    "outputId": "ee26eeac-cd9d-43d9-fd25-34fcd814e6cf"
   },
   "outputs": [],
   "source": [
    "import numpy as np\n",
    "import matplotlib.pyplot as plt\n",
    "px = 1/plt.rcParams['figure.dpi']  # pixel in inches\n",
    "platform = 'notebook'\n",
    "x = np.linspace(-10, 10, 1000)  # position along the cable in mm\n",
    "\n",
    "\n",
    "i_e = 1e-6  # injected current in ampere\n",
    "a = 2e-3  # radius of the cable in mm (2um)\n",
    "r_m = 1e6  # specific membrane resistance in Ohm * mm^2\n",
    "r_l = 1e3  # specific longitudinal resistance in Ohm * mm\n",
    "lambda_elc = np.sqrt((a*r_m) / (2*r_l))  #  length constant in mm\n",
    "print(f'Length constant: {lambda_elc:.2f} mm')\n",
    "R_l = r_l * lambda_elc / (np.pi * a**2)  # longitudinal resistance in Ohm\n",
    "\n",
    "v = (i_e * R_l / 2) * np.exp(-np.abs(x) / lambda_elc)  # membrane potential in mV\n",
    "v0 = (i_e * R_l / 2)\n",
    "\n",
    "# Plot the membrane potential along the cable\n",
    "%matplotlib inline\n",
    "plt.close()\n",
    "fig, ax = plt.subplots(1, 1, figsize=(600*px, 300*px))\n",
    "ax.plot(x, v)  # plot in mV\n",
    "ax.set_xlabel('x (mm)')\n",
    "ax.set_ylabel(r'$v$ (mV)')\n",
    "ax.set_title('Membrane potential along the cable \\n for ' + r'$i_e = 1 \\mu A, a = 2 \\mu m, r_m = 1 M\\Omega \\cdot mm^2, r_l = 1 k\\Omega \\cdot mm$')\n",
    "text_display = ax.text(0.2, 0.7, r'$\\lambda$ ' + f' = {lambda_elc:.2f} mm \\n' + r'$V(0) =$' +  f'{v0:.2f} mV', transform=ax.transAxes, fontsize=12, ha='center', bbox=dict(facecolor='white', alpha=0.7))\n",
    "ax.set_xticks(np.arange(-10, 11, 1))\n",
    "plt.grid()\n",
    "plt.show()"
   ]
  },
  {
   "cell_type": "markdown",
   "metadata": {
    "collapsed": false,
    "id": "ymgLbI-l7wlh"
   },
   "source": [
    "To get a better understanding for the parameters in the passive cable equation, you can use an interactive plot below to modify the specific resistances $r_L$ and $r_m$ as well as the amount of current injected $i_e$ (at $x=0$) and the radius of the denrite $a$."
   ]
  },
  {
   "cell_type": "code",
   "execution_count": null,
   "metadata": {
    "ExecuteTime": {
     "end_time": "2024-10-09T21:57:53.304853Z",
     "start_time": "2024-10-09T21:57:53.236015Z"
    },
    "colab": {
     "base_uri": "https://localhost:8080/",
     "height": 401
    },
    "executionInfo": {
     "elapsed": 793,
     "status": "ok",
     "timestamp": 1758786050984,
     "user": {
      "displayName": "Richard Morgan",
      "userId": "08652038592759040016"
     },
     "user_tz": -120
    },
    "id": "HCGLb2_x7wlh",
    "outputId": "1ce04fd7-07ef-4296-d5ed-00d2f0263e18"
   },
   "outputs": [],
   "source": [
    "from utils_ex2.utils import plot_cable_v\n",
    "if platform == 'notebook':\n",
    "    %matplotlib inline\n",
    "plt.close()\n",
    "plot_cable_v(y_axis_lim=100, plot_lambda=True) # y_axis_lim is the limit of the y-axis (in mV), default is 80"
   ]
  },
  {
   "cell_type": "markdown",
   "metadata": {
    "collapsed": false,
    "id": "bEDLBqc77wlh"
   },
   "source": [
    "---\n",
    "\n",
    ">**Assignment 10**\n",
    ">Using the provided information (cable equation and interactive plot), answer the following questions:\n",
    ">\n",
    ">1. What happens if you increase the radius $a$? (Hint: there is a second, not obvious effect which you can visualize in the interactive plot above by changing the `y_axis_lim` parameter in the function `plot_cable_v` to a lower value (e.g., 20 mV).\n",
    ">2. What happens if you increase the injected current $i_e$?\n",
    ">3. What happens if you increase the longitudinal resistance $R_L$? Why?\n",
    ">4. What happens if you increase the membrane resistance $R_m$? Why?\n",
    "\n",
    "---"
   ]
  },
  {
   "cell_type": "markdown",
   "metadata": {
    "id": "bcZtB22fdYnz"
   },
   "source": [
    "Did you wonder, where the <ins>current that changes our membrane potential</ins> comes from in the first place? In neurons, these inputs are usually caused by ions crossing the membrane via **open ion channels**. Why do they open? That depends on the ion channel and you will hear a lot more about this during the rest of the course. For now, we assume that the <ins>initial current input</ins> at $x=0$ <ins>is just a given</ins>.\n",
    "\n",
    "However, along the axon we find more ion channels (let's assume that they allow sodium ions to enter the axon, when open). These channels are likely closed but <ins>change their probability to open</ins> if the <ins>membrane potential at their location crosses a certain **threshold**</ins>. We call them **voltage-gates ion channels**."
   ]
  },
  {
   "cell_type": "markdown",
   "metadata": {
    "id": "BTjaroJ3dXKl"
   },
   "source": [
    "---\n",
    "\n",
    ">**Assignment 11**\n",
    ">\n",
    ">In the code for the interactive plot above, find the function `plot_cable_v` and change the value of the parameter `plot_lambda` to `True`, then rerun the cell. This will plot the vertical line at x=4mm, which represents twice the length constant $\\lambda$. It will also plot a horizontal line showing the membrane potential at x=4mm.\n",
    ">\n",
    ">Press the button $2\\lambda$ (above the ` Reset ` button). This will set $r_m = 6.4 MΩ·mm^2$, $r_l = 0.8 kΩ·mm$ and $a = 1 μm$. >It also sets the injected current $i_e = 0.39 μA$, resulting in a membrane potential of 100 mV at $x = 0$.\n",
    "\n",
    "---"
   ]
  },
  {
   "cell_type": "markdown",
   "metadata": {
    "id": "6WomTTjS0CHR"
   },
   "source": [
    "\n",
    "In the plot above, we generate a <ins>prolonged atrificial \"spike\"</ins> (assume constant current injection) at $x = 0$ to generate a peak voltage of 100mV.\n",
    "\n",
    "The voltage-gated sodium channels at $x = 2\\lambda = 4 mm$ could allow the artificial spike to actively propergate further if the membrane potential at location exceeded their opening-**theshold** voltage of 20mV (let the resting potential be 0V).\n"
   ]
  },
  {
   "cell_type": "markdown",
   "metadata": {
    "id": "faZSpNmK0CHR"
   },
   "source": [
    "---\n",
    "\n",
    ">**Assignment 12**\n",
    ">\n",
    ">1. Looking at the interactive plot above, will these settings allow the spike to be actively propagated beyond $x = 2\\lambda = 4 mm$?\n",
    "> 2. Double the radius of the axon. This will change $\\lambda$ but we keep the absolute position of the two nodes fixed i.e $x_0 = 0$ and $x_1 = 4 mm$. What happems to the membrane potential at $x=0$? How much current do we need to inject into the axon to again reach a membrane potential of 100mV at $x = 0$?\n",
    "> 3. After adjusting the injected current, do the new parameters allow the spike to be actively propagated beyond $x = 2\\lambda = 4 mm$?\n",
    "\n",
    "\n",
    "---"
   ]
  },
  {
   "cell_type": "markdown",
   "metadata": {
    "collapsed": false,
    "id": "ajTFK0FneXdc"
   },
   "source": [
    "## 2.4: An axon with three injection sites <a class=\"anchor\" id=\"axon\"></a>\n",
    "\n",
    "Next, we assume again an infinite cable but this time we inject constant currents $i_{1}$, $i_{2}$ and $i_{3}$ simultaneously at three locations: $x = 0$, $x = x_1$ and $x = x_2$.\n",
    "\n",
    "Here the linear cable equation that we have already introduced for all three injection sites:\n",
    "\n",
    "$\\tau_m \\frac{\\partial v_1}{\\partial t} = \\lambda^2 \\frac{\\partial^2 v_1}{\\partial x^2} - v + r_m i_{e_1}$ for $x = 0$\n",
    "\n",
    "$\\tau_m \\frac{\\partial v_2}{\\partial t} = \\lambda^2 \\frac{\\partial^2 v_2}{\\partial x^2} - v + r_m i_{e_2}$ for $x = x_1$\n",
    "\n",
    "$\\tau_m \\frac{\\partial v_3}{\\partial t} = \\lambda^2 \\frac{\\partial^2 v_3}{\\partial x^2} - v + r_m i_{e_3}$ for $x = x_2$\n",
    "\n",
    "Then the steady-state membrane potential at location $V(x)$ is given by :\n",
    "\n",
    "$V(x) = \\frac{R_L}{2} (i_{0} e^{\\frac{-|x - x_0|}{\\lambda}} + i_{1} e^{\\frac{-|x_1|}{\\lambda}} + i_{2} e^{\\frac{-|x - x_2|}{\\lambda}})$.\n"
   ]
  },
  {
   "cell_type": "code",
   "execution_count": null,
   "metadata": {
    "ExecuteTime": {
     "end_time": "2024-09-26T17:25:44.260761Z",
     "start_time": "2024-09-26T17:25:44.191669Z"
    },
    "colab": {
     "base_uri": "https://localhost:8080/",
     "height": 0
    },
    "executionInfo": {
     "elapsed": 1692,
     "status": "ok",
     "timestamp": 1758786217103,
     "user": {
      "displayName": "Richard Morgan",
      "userId": "08652038592759040016"
     },
     "user_tz": -120
    },
    "id": "8PzLw9SLeXdc",
    "outputId": "66c08a33-6d45-4d01-eb49-16b46d64bc08"
   },
   "outputs": [],
   "source": [
    "from utils_ex2.utils import plot_multi_injection\n",
    "\n",
    "plot_multi_injection(y_axis_lim=80)"
   ]
  },
  {
   "cell_type": "markdown",
   "metadata": {
    "id": "-u4oV6uC0CHX"
   },
   "source": [
    "In the last assignment we saw that input (current injection) at $x=0$ propagates along an axon where it may or may not trigger a spike at $x=4mm$. Although the mechanism of **action potential propagation** in biological axons is more complicated (we will hear about this later during the course), the general idea of what we saw, holds true.\n"
   ]
  },
  {
   "cell_type": "markdown",
   "metadata": {
    "id": "1UyuU3danwh2"
   },
   "source": [
    "\n",
    "---\n",
    "\n",
    ">**Assignment 13**\n",
    ">\n",
    ">In the **interactive plot** above you can change individual parameters of three current injections. Adjust the settings and observe, what changes. Note that $x_0$ can only occure to the left of $x_1$ and $x_2$ will only occure to the right of $x_1$.\n",
    "\n",
    "\n",
    "---\n"
   ]
  },
  {
   "cell_type": "markdown",
   "metadata": {
    "id": "1xyF7HdK0CHY"
   },
   "source": [
    "\n",
    "We use this example to showcase an interesting mechanism found in neurons: summation of inputs."
   ]
  },
  {
   "cell_type": "markdown",
   "metadata": {
    "id": "8eq1Mk0E0CHY"
   },
   "source": [
    "---\n",
    "\n",
    ">**Assignment 14**\n",
    ">\n",
    ">Compare the single-input case with the three-inputs case and try to answer the following questions:\n",
    ">\n",
    ">- Which of the two cases is more relevant for action potential propagation in axons and why?\n",
    ">- What exactly does the red line in the interactive plot above show and how relevant is this line for biological axons?\n",
    ">-  Try to identify three details in the cable equation models above that incorrecly, inadequately, incompletely or poorly represent the mechanisms in biological neurons.\n",
    "\n",
    "\n",
    "---"
   ]
  },
  {
   "cell_type": "markdown",
   "metadata": {
    "collapsed": false,
    "id": "F0w2_KGOeXdd"
   },
   "source": [
    "# 3. Integrate-and-Fire neuron and delayed synaptic inputs <a class=\"anchor\" id=\"if\"></a>"
   ]
  },
  {
   "cell_type": "markdown",
   "metadata": {
    "id": "cfaFyJ3Ikhwv"
   },
   "source": [
    "You now have a good understanding of **cable theory** and how passive conduction affects voltage distribution along a neuron’s axon or dendrite. As mentioned already, inputs arriving somewhere along dendrites passivly travel to the soma where they are **integrated**.\n",
    "\n",
    "The **cable equation** has provided us with the tools to calculate how signals <ins>attenuate and decay</ins> as they conduct along a dendrite. Building on this foundation, we introduce the **Integrate-and-No-Fire neuron model** — a simplified representation of **neuronal input integration**.\n",
    "\n",
    "The following properties of a neuron can be studied using the the Integrate-and-No-Fire model:\n",
    "\n",
    "  1.\t**Input integration**: How a neuron accumulates inputs from multiple synapses over time.\n",
    "  2.\t**Synaptic weights**: How varying synaptic strengths impact membrane potential changes.\n",
    "  3.\t**Delays**: How the physical properties of dendrites introduce delays in signal propagation.\n",
    "  4.\t**Summation**: How inputs arriving at different times and different locations along the dendrites are summed.\n",
    "\n"
   ]
  },
  {
   "cell_type": "markdown",
   "metadata": {
    "id": "5vofIVoSl70_"
   },
   "source": [
    "## 3.1: Delays: How cable theory affects synaptic inputs <a class=\"anchor\" id=\"cable\"></a>\n",
    "\n",
    "In the previous section, we have learned that the **passive properties** of **dendrites** cause the membrane potential to attenuate and decay as they travel towards the soma. Note, that passive propagation doesn't happen instantaneously. Aided by insights of **cable theory**, the delay  $d_i$ for a synaptic input located at a distance  $x_i$  is given by:\n",
    "\n",
    "\n",
    "$d_i = \\frac{x_i}{v}$\n",
    "\n",
    "where  $v$  is the propagation velocity along the dendrite, calculated using physical properties such as the length constant ${\\lambda}$ and the membrane time constant ${\\tau_m}$. $v$ is given by:\n",
    "\n",
    "$v = \\frac{2\\lambda}{\\tau_m}$\n",
    "\n",
    "These equations highlight how dendritic properties like resistance, capacitance, and geometry influence the time it takes for a synaptic input to arrive at the soma.\n",
    "\n"
   ]
  },
  {
   "cell_type": "markdown",
   "metadata": {
    "id": "Rd9bT38DnwCZ"
   },
   "source": [
    "## 3.2: The Integrate-and-No-Fire Model <a class=\"anchor\" id=\"inf\"></a>\n",
    "\n",
    "In the Integrate-and-No-Fire model, we model the neuron’s membrane potential  V(t) at the soma as the cumulative sum of all synaptic inputs that have arrived up to time $t$. Each synaptic input contributes to the membrane potential based on its:\n",
    "\n",
    "-\tSynaptic weight ( $w_i$ ): The strength of the synaptic input.\n",
    "-\tDelay ( $d_i$ ): The time it takes for the input to reach the soma.\n",
    "\n",
    "\n",
    "\n",
    "Mathematically, the membrane potential can be expressed as:\n",
    "\n",
    "\n",
    "$V(t) = V_{\\text{rest}} + \\sum_{i=1}^{N} \\sum_{j} w_i \\cdot \\delta(t - (s_{ij} + d_i))$\n",
    "\n",
    "-\t $V_{\\text{rest}}$ : Resting membrane potential (set to 0 for simplicity).\n",
    "-\t $N$ : Number of synapses.\n",
    "-\t $s_{ij}$ : Input times $j$ at synapse $i$ (note that multiple inputs could arrive at a single synapse).\n",
    "-\t $\\delta$ : Kronecker delta function, ensuring the input is considered only if $t = s_{ij} + d_i$ ."
   ]
  },
  {
   "cell_type": "code",
   "execution_count": null,
   "metadata": {
    "colab": {
     "base_uri": "https://localhost:8080/",
     "height": 799,
     "referenced_widgets": [
      "7b849ce18b07466983ad971605761493",
      "e897f2ba423b4890a8c189b00df3df4f",
      "8d422eae118e4da4b121dc1250f7db14",
      "c50c08e14e53456a93dcdbce3941c9b4",
      "8780b6b6552c4851953dbb8e4d6b08f5",
      "7225e0ee2b0f4708a79f906d17506ee9",
      "7055d60f6c4546f2a36a07a3a849ca0e",
      "05ea8bb6ad2f4b43ae067a19a72d8c45",
      "2266c472cfe6408b8a043fb8f4e499e1",
      "1f96e3120c1048b0a8c1a93d59c74384",
      "9c137fd989bd43c2a32e3e0bc7df019b",
      "05d352c046e64508a1940421ea3ba289",
      "8d00102c5d7943db9fda0c8441f453de",
      "5e48798560b44994a810b06e2e3ca423",
      "e4871c6a2f904df0a8db79a17a146763",
      "6416f5816cb14454abd048e895afe2e7",
      "40968b3e06c94e77b264a75cd52388db",
      "9541d4a074764d1992345e9ccc17c338",
      "d610e7dde35b46888d46c4c50a20df4a",
      "b93753a7d9c44147a7b05b400abac159",
      "a2f0da33e8664e0ebcde70f34fe539a5",
      "cc5ce409cce54f9b81d7b695cad8ffc0"
     ]
    },
    "executionInfo": {
     "elapsed": 1715,
     "status": "ok",
     "timestamp": 1758786010421,
     "user": {
      "displayName": "Richard Morgan",
      "userId": "08652038592759040016"
     },
     "user_tz": -120
    },
    "id": "5c4TfzpvBRx6",
    "outputId": "578b126a-d1e6-4b30-972a-c44eb7c373e9"
   },
   "outputs": [],
   "source": [
    "from utils_ex2.utils import iplot_InoF_model\n",
    "iplot_InoF_model()"
   ]
  },
  {
   "cell_type": "markdown",
   "metadata": {
    "id": "-AC-JEg4cFK2"
   },
   "source": [
    "---\n",
    "\n",
    "**The answers to these questions are in the cell below.**\n",
    "\n",
    ">**Assignment 15**\n",
    ">\n",
    ">Without changing parameters in the interactive plot obove, look at the input times in all three synapses. How long do the delays $d_1$, $d_2$, and $d_3$ have to be, so that all three inputs arriveat the soma simultaneously at  t=50ms? Adjust the synaptic delays $d_i$ using the sliders and explain how this synchronization will affect the membrane potential at  t=50ms.\n",
    "\n",
    "---\n",
    "\n",
    "Using the provided “Integrate-and-No-Fire” model, consider three synapses located along a dendrite at different distances from the soma:\n",
    "\n",
    "-\tSynapse 1 is located at a distance  $x_1$ = 1  mm from the soma.\n",
    "-\tSynapse 2 is located at  $x_2$ = 2  mm.\n",
    "-\tSynapse 3 is located at  $x_3$ = 3  mm.\n",
    "\n",
    "All synapses receive inputs at t=10ms and t=40ms and each input changes the membrane potential locally to +1mV.\n",
    "\n",
    "Assume the following parameters for the dendrite:\n",
    "\n",
    "-\tMembrane resistance per unit length:  $r_m$ = 1  MΩ·mm\n",
    "-\tAxial (internal) resistance per unit length:  $r_i$ = 100  Ω·mm\n",
    "-\tMembrane capacitance per unit length:  $c_m$ = 1  μF/mm\n",
    "- Uniform radius of $a$ = 1 mm\n",
    "- Membrane time constant $\\tau_m$ = 1 s\n",
    "-\tThe dendrite is modeled as a passive cable with uniform properties, assuming that only delay but not voltage is affected by the resistance.\n",
    "\n",
    "---\n",
    "\n",
    ">**Assignment 16**\n",
    ">\n",
    ">- Calculate the delays  $d_i$  for each synaptic input.\n",
    ">- Compute the somatic membrane potential  $V(t)$  at  t=50ms using the calculated delays (synaptic weights $w_1$ = 5, $w_2$ = 10, and $w_3$ = 15).\n",
    "\n",
    "---\n",
    "\n",
    "Remember when we talked about action potential propagation along the axon (2.c) and wondered where the original input comes from? At the **axon hillock**, the area at the soma where the axon starts, synaptic inputs are integrated - if the membrane potential there crosses a certain theshold, the neuron will fire an action potential.\n",
    "\n",
    "Our \"Integrate-and-No-Fire” model does not implement this functionality by definition (that's why we call it \"no-fire\"). In the next exercise we will implement finally upgrade and work with an \"Integrate-and-Fire” model.\n",
    "\n",
    "Until then, consider a neuron that does have a threshold to trigger action potentials at $V_{th} = 15 mV$. It receives two synaptic inputs of $1mV$ that individually are not sufficient to cross the firing threshold. However, both inputs combined can cause the neuron to fire. The synaptic weights are  $w_1 = w_2 = 10$, and the delays are $d_1 = d_2 = 5 ms$.\n",
    "\n",
    "---\n",
    "\n",
    ">**Assignment 17**\n",
    ">\n",
    "> Determine at what time (if at all) the neuron fires given that:\n",
    ">- Inputs to synapse 1 arrive at  $t_1 = 10 \\text{ms}$  and  $t_2 = 30 \\text{ms}$.\n",
    ">- Inputs to synapse 2 arrive at  $t_1 = 10 \\text{ms}$  and  $t_2 = 12 \\text{ms}$.\n",
    "\n",
    "---\n",
    "\n",
    ">**Assignment 18**\n",
    ">\n",
    ">Modify the mathematical model to include membrane potential attenuation with a time constant  $\\tau_m$. Write the updated equation for $V(t)$ and explain how this changes the neuron’s response to synaptic inputs.\n",
    "---"
   ]
  },
  {
   "cell_type": "markdown",
   "metadata": {
    "id": "z3JunLzjT_3Y"
   },
   "source": []
  },
  {
   "cell_type": "markdown",
   "metadata": {
    "id": "KbusJouC0CHa"
   },
   "source": [
    "# End of this exercise session"
   ]
  }
 ],
 "metadata": {
  "colab": {
   "provenance": []
  },
  "kernelspec": {
   "display_name": "iton",
   "language": "python",
   "name": "python3"
  },
  "language_info": {
   "codemirror_mode": {
    "name": "ipython",
    "version": 3
   },
   "file_extension": ".py",
   "mimetype": "text/x-python",
   "name": "python",
   "nbconvert_exporter": "python",
   "pygments_lexer": "ipython3",
   "version": "3.12.11"
  },
  "widgets": {
   "application/vnd.jupyter.widget-state+json": {
    "05d352c046e64508a1940421ea3ba289": {
     "model_module": "@jupyter-widgets/base",
     "model_module_version": "1.2.0",
     "model_name": "LayoutModel",
     "state": {
      "_model_module": "@jupyter-widgets/base",
      "_model_module_version": "1.2.0",
      "_model_name": "LayoutModel",
      "_view_count": null,
      "_view_module": "@jupyter-widgets/base",
      "_view_module_version": "1.2.0",
      "_view_name": "LayoutView",
      "align_content": null,
      "align_items": null,
      "align_self": null,
      "border": null,
      "bottom": null,
      "display": null,
      "flex": null,
      "flex_flow": null,
      "grid_area": null,
      "grid_auto_columns": null,
      "grid_auto_flow": null,
      "grid_auto_rows": null,
      "grid_column": null,
      "grid_gap": null,
      "grid_row": null,
      "grid_template_areas": null,
      "grid_template_columns": null,
      "grid_template_rows": null,
      "height": null,
      "justify_content": null,
      "justify_items": null,
      "left": null,
      "margin": null,
      "max_height": null,
      "max_width": null,
      "min_height": null,
      "min_width": null,
      "object_fit": null,
      "object_position": null,
      "order": null,
      "overflow": null,
      "overflow_x": null,
      "overflow_y": null,
      "padding": null,
      "right": null,
      "top": null,
      "visibility": null,
      "width": null
     }
    },
    "05ea8bb6ad2f4b43ae067a19a72d8c45": {
     "model_module": "@jupyter-widgets/output",
     "model_module_version": "1.0.0",
     "model_name": "OutputModel",
     "state": {
      "_dom_classes": [],
      "_model_module": "@jupyter-widgets/output",
      "_model_module_version": "1.0.0",
      "_model_name": "OutputModel",
      "_view_count": null,
      "_view_module": "@jupyter-widgets/output",
      "_view_module_version": "1.0.0",
      "_view_name": "OutputView",
      "layout": "IPY_MODEL_cc5ce409cce54f9b81d7b695cad8ffc0",
      "msg_id": "",
      "outputs": [
       {
        "data": {
         "image/png": "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\n",
         "text/plain": "<Figure size 800x600 with 2 Axes>"
        },
        "metadata": {},
        "output_type": "display_data"
       }
      ]
     }
    },
    "1f96e3120c1048b0a8c1a93d59c74384": {
     "model_module": "@jupyter-widgets/base",
     "model_module_version": "1.2.0",
     "model_name": "LayoutModel",
     "state": {
      "_model_module": "@jupyter-widgets/base",
      "_model_module_version": "1.2.0",
      "_model_name": "LayoutModel",
      "_view_count": null,
      "_view_module": "@jupyter-widgets/base",
      "_view_module_version": "1.2.0",
      "_view_name": "LayoutView",
      "align_content": null,
      "align_items": null,
      "align_self": null,
      "border": null,
      "bottom": null,
      "display": null,
      "flex": null,
      "flex_flow": null,
      "grid_area": null,
      "grid_auto_columns": null,
      "grid_auto_flow": null,
      "grid_auto_rows": null,
      "grid_column": null,
      "grid_gap": null,
      "grid_row": null,
      "grid_template_areas": null,
      "grid_template_columns": null,
      "grid_template_rows": null,
      "height": null,
      "justify_content": null,
      "justify_items": null,
      "left": null,
      "margin": null,
      "max_height": null,
      "max_width": null,
      "min_height": null,
      "min_width": null,
      "object_fit": null,
      "object_position": null,
      "order": null,
      "overflow": null,
      "overflow_x": null,
      "overflow_y": null,
      "padding": null,
      "right": null,
      "top": null,
      "visibility": null,
      "width": null
     }
    },
    "2266c472cfe6408b8a043fb8f4e499e1": {
     "model_module": "@jupyter-widgets/base",
     "model_module_version": "1.2.0",
     "model_name": "LayoutModel",
     "state": {
      "_model_module": "@jupyter-widgets/base",
      "_model_module_version": "1.2.0",
      "_model_name": "LayoutModel",
      "_view_count": null,
      "_view_module": "@jupyter-widgets/base",
      "_view_module_version": "1.2.0",
      "_view_name": "LayoutView",
      "align_content": null,
      "align_items": null,
      "align_self": null,
      "border": null,
      "bottom": null,
      "display": null,
      "flex": null,
      "flex_flow": null,
      "grid_area": null,
      "grid_auto_columns": null,
      "grid_auto_flow": null,
      "grid_auto_rows": null,
      "grid_column": null,
      "grid_gap": null,
      "grid_row": null,
      "grid_template_areas": null,
      "grid_template_columns": null,
      "grid_template_rows": null,
      "height": null,
      "justify_content": null,
      "justify_items": null,
      "left": null,
      "margin": null,
      "max_height": null,
      "max_width": null,
      "min_height": null,
      "min_width": null,
      "object_fit": null,
      "object_position": null,
      "order": null,
      "overflow": null,
      "overflow_x": null,
      "overflow_y": null,
      "padding": null,
      "right": null,
      "top": null,
      "visibility": null,
      "width": null
     }
    },
    "40968b3e06c94e77b264a75cd52388db": {
     "model_module": "@jupyter-widgets/controls",
     "model_module_version": "1.5.0",
     "model_name": "SliderStyleModel",
     "state": {
      "_model_module": "@jupyter-widgets/controls",
      "_model_module_version": "1.5.0",
      "_model_name": "SliderStyleModel",
      "_view_count": null,
      "_view_module": "@jupyter-widgets/base",
      "_view_module_version": "1.2.0",
      "_view_name": "StyleView",
      "description_width": "initial",
      "handle_color": null
     }
    },
    "5e48798560b44994a810b06e2e3ca423": {
     "model_module": "@jupyter-widgets/base",
     "model_module_version": "1.2.0",
     "model_name": "LayoutModel",
     "state": {
      "_model_module": "@jupyter-widgets/base",
      "_model_module_version": "1.2.0",
      "_model_name": "LayoutModel",
      "_view_count": null,
      "_view_module": "@jupyter-widgets/base",
      "_view_module_version": "1.2.0",
      "_view_name": "LayoutView",
      "align_content": null,
      "align_items": null,
      "align_self": null,
      "border": null,
      "bottom": null,
      "display": null,
      "flex": null,
      "flex_flow": null,
      "grid_area": null,
      "grid_auto_columns": null,
      "grid_auto_flow": null,
      "grid_auto_rows": null,
      "grid_column": null,
      "grid_gap": null,
      "grid_row": null,
      "grid_template_areas": null,
      "grid_template_columns": null,
      "grid_template_rows": null,
      "height": null,
      "justify_content": null,
      "justify_items": null,
      "left": null,
      "margin": null,
      "max_height": null,
      "max_width": null,
      "min_height": null,
      "min_width": null,
      "object_fit": null,
      "object_position": null,
      "order": null,
      "overflow": null,
      "overflow_x": null,
      "overflow_y": null,
      "padding": null,
      "right": null,
      "top": null,
      "visibility": null,
      "width": null
     }
    },
    "6416f5816cb14454abd048e895afe2e7": {
     "model_module": "@jupyter-widgets/base",
     "model_module_version": "1.2.0",
     "model_name": "LayoutModel",
     "state": {
      "_model_module": "@jupyter-widgets/base",
      "_model_module_version": "1.2.0",
      "_model_name": "LayoutModel",
      "_view_count": null,
      "_view_module": "@jupyter-widgets/base",
      "_view_module_version": "1.2.0",
      "_view_name": "LayoutView",
      "align_content": null,
      "align_items": null,
      "align_self": null,
      "border": null,
      "bottom": null,
      "display": null,
      "flex": null,
      "flex_flow": null,
      "grid_area": null,
      "grid_auto_columns": null,
      "grid_auto_flow": null,
      "grid_auto_rows": null,
      "grid_column": null,
      "grid_gap": null,
      "grid_row": null,
      "grid_template_areas": null,
      "grid_template_columns": null,
      "grid_template_rows": null,
      "height": null,
      "justify_content": null,
      "justify_items": null,
      "left": null,
      "margin": null,
      "max_height": null,
      "max_width": null,
      "min_height": null,
      "min_width": null,
      "object_fit": null,
      "object_position": null,
      "order": null,
      "overflow": null,
      "overflow_x": null,
      "overflow_y": null,
      "padding": null,
      "right": null,
      "top": null,
      "visibility": null,
      "width": null
     }
    },
    "7055d60f6c4546f2a36a07a3a849ca0e": {
     "model_module": "@jupyter-widgets/controls",
     "model_module_version": "1.5.0",
     "model_name": "IntSliderModel",
     "state": {
      "_dom_classes": [],
      "_model_module": "@jupyter-widgets/controls",
      "_model_module_version": "1.5.0",
      "_model_name": "IntSliderModel",
      "_view_count": null,
      "_view_module": "@jupyter-widgets/controls",
      "_view_module_version": "1.5.0",
      "_view_name": "IntSliderView",
      "continuous_update": true,
      "description": "Synaptic Delay 3 (ms)",
      "description_tooltip": null,
      "disabled": false,
      "layout": "IPY_MODEL_b93753a7d9c44147a7b05b400abac159",
      "max": 40,
      "min": 0,
      "orientation": "horizontal",
      "readout": true,
      "readout_format": "d",
      "step": 1,
      "style": "IPY_MODEL_a2f0da33e8664e0ebcde70f34fe539a5",
      "value": 15
     }
    },
    "7225e0ee2b0f4708a79f906d17506ee9": {
     "model_module": "@jupyter-widgets/controls",
     "model_module_version": "1.5.0",
     "model_name": "IntSliderModel",
     "state": {
      "_dom_classes": [],
      "_model_module": "@jupyter-widgets/controls",
      "_model_module_version": "1.5.0",
      "_model_name": "IntSliderModel",
      "_view_count": null,
      "_view_module": "@jupyter-widgets/controls",
      "_view_module_version": "1.5.0",
      "_view_name": "IntSliderView",
      "continuous_update": true,
      "description": "Synaptic Delay 2 (ms)",
      "description_tooltip": null,
      "disabled": false,
      "layout": "IPY_MODEL_9541d4a074764d1992345e9ccc17c338",
      "max": 40,
      "min": 0,
      "orientation": "horizontal",
      "readout": true,
      "readout_format": "d",
      "step": 1,
      "style": "IPY_MODEL_d610e7dde35b46888d46c4c50a20df4a",
      "value": 10
     }
    },
    "7b849ce18b07466983ad971605761493": {
     "model_module": "@jupyter-widgets/controls",
     "model_module_version": "1.5.0",
     "model_name": "VBoxModel",
     "state": {
      "_dom_classes": [
       "widget-interact"
      ],
      "_model_module": "@jupyter-widgets/controls",
      "_model_module_version": "1.5.0",
      "_model_name": "VBoxModel",
      "_view_count": null,
      "_view_module": "@jupyter-widgets/controls",
      "_view_module_version": "1.5.0",
      "_view_name": "VBoxView",
      "box_style": "",
      "children": [
       "IPY_MODEL_e897f2ba423b4890a8c189b00df3df4f",
       "IPY_MODEL_8d422eae118e4da4b121dc1250f7db14",
       "IPY_MODEL_c50c08e14e53456a93dcdbce3941c9b4",
       "IPY_MODEL_8780b6b6552c4851953dbb8e4d6b08f5",
       "IPY_MODEL_7225e0ee2b0f4708a79f906d17506ee9",
       "IPY_MODEL_7055d60f6c4546f2a36a07a3a849ca0e",
       "IPY_MODEL_05ea8bb6ad2f4b43ae067a19a72d8c45"
      ],
      "layout": "IPY_MODEL_2266c472cfe6408b8a043fb8f4e499e1"
     }
    },
    "8780b6b6552c4851953dbb8e4d6b08f5": {
     "model_module": "@jupyter-widgets/controls",
     "model_module_version": "1.5.0",
     "model_name": "IntSliderModel",
     "state": {
      "_dom_classes": [],
      "_model_module": "@jupyter-widgets/controls",
      "_model_module_version": "1.5.0",
      "_model_name": "IntSliderModel",
      "_view_count": null,
      "_view_module": "@jupyter-widgets/controls",
      "_view_module_version": "1.5.0",
      "_view_name": "IntSliderView",
      "continuous_update": true,
      "description": "Synaptic Delay 1 (ms)",
      "description_tooltip": null,
      "disabled": false,
      "layout": "IPY_MODEL_6416f5816cb14454abd048e895afe2e7",
      "max": 40,
      "min": 0,
      "orientation": "horizontal",
      "readout": true,
      "readout_format": "d",
      "step": 1,
      "style": "IPY_MODEL_40968b3e06c94e77b264a75cd52388db",
      "value": 5
     }
    },
    "8d00102c5d7943db9fda0c8441f453de": {
     "model_module": "@jupyter-widgets/controls",
     "model_module_version": "1.5.0",
     "model_name": "SliderStyleModel",
     "state": {
      "_model_module": "@jupyter-widgets/controls",
      "_model_module_version": "1.5.0",
      "_model_name": "SliderStyleModel",
      "_view_count": null,
      "_view_module": "@jupyter-widgets/base",
      "_view_module_version": "1.2.0",
      "_view_name": "StyleView",
      "description_width": "initial",
      "handle_color": null
     }
    },
    "8d422eae118e4da4b121dc1250f7db14": {
     "model_module": "@jupyter-widgets/controls",
     "model_module_version": "1.5.0",
     "model_name": "FloatSliderModel",
     "state": {
      "_dom_classes": [],
      "_model_module": "@jupyter-widgets/controls",
      "_model_module_version": "1.5.0",
      "_model_name": "FloatSliderModel",
      "_view_count": null,
      "_view_module": "@jupyter-widgets/controls",
      "_view_module_version": "1.5.0",
      "_view_name": "FloatSliderView",
      "continuous_update": true,
      "description": "Synaptic  Weight 2:",
      "description_tooltip": null,
      "disabled": false,
      "layout": "IPY_MODEL_05d352c046e64508a1940421ea3ba289",
      "max": 100,
      "min": 0,
      "orientation": "horizontal",
      "readout": true,
      "readout_format": ".2f",
      "step": 5,
      "style": "IPY_MODEL_8d00102c5d7943db9fda0c8441f453de",
      "value": 10
     }
    },
    "9541d4a074764d1992345e9ccc17c338": {
     "model_module": "@jupyter-widgets/base",
     "model_module_version": "1.2.0",
     "model_name": "LayoutModel",
     "state": {
      "_model_module": "@jupyter-widgets/base",
      "_model_module_version": "1.2.0",
      "_model_name": "LayoutModel",
      "_view_count": null,
      "_view_module": "@jupyter-widgets/base",
      "_view_module_version": "1.2.0",
      "_view_name": "LayoutView",
      "align_content": null,
      "align_items": null,
      "align_self": null,
      "border": null,
      "bottom": null,
      "display": null,
      "flex": null,
      "flex_flow": null,
      "grid_area": null,
      "grid_auto_columns": null,
      "grid_auto_flow": null,
      "grid_auto_rows": null,
      "grid_column": null,
      "grid_gap": null,
      "grid_row": null,
      "grid_template_areas": null,
      "grid_template_columns": null,
      "grid_template_rows": null,
      "height": null,
      "justify_content": null,
      "justify_items": null,
      "left": null,
      "margin": null,
      "max_height": null,
      "max_width": null,
      "min_height": null,
      "min_width": null,
      "object_fit": null,
      "object_position": null,
      "order": null,
      "overflow": null,
      "overflow_x": null,
      "overflow_y": null,
      "padding": null,
      "right": null,
      "top": null,
      "visibility": null,
      "width": null
     }
    },
    "9c137fd989bd43c2a32e3e0bc7df019b": {
     "model_module": "@jupyter-widgets/controls",
     "model_module_version": "1.5.0",
     "model_name": "SliderStyleModel",
     "state": {
      "_model_module": "@jupyter-widgets/controls",
      "_model_module_version": "1.5.0",
      "_model_name": "SliderStyleModel",
      "_view_count": null,
      "_view_module": "@jupyter-widgets/base",
      "_view_module_version": "1.2.0",
      "_view_name": "StyleView",
      "description_width": "initial",
      "handle_color": null
     }
    },
    "a2f0da33e8664e0ebcde70f34fe539a5": {
     "model_module": "@jupyter-widgets/controls",
     "model_module_version": "1.5.0",
     "model_name": "SliderStyleModel",
     "state": {
      "_model_module": "@jupyter-widgets/controls",
      "_model_module_version": "1.5.0",
      "_model_name": "SliderStyleModel",
      "_view_count": null,
      "_view_module": "@jupyter-widgets/base",
      "_view_module_version": "1.2.0",
      "_view_name": "StyleView",
      "description_width": "initial",
      "handle_color": null
     }
    },
    "b93753a7d9c44147a7b05b400abac159": {
     "model_module": "@jupyter-widgets/base",
     "model_module_version": "1.2.0",
     "model_name": "LayoutModel",
     "state": {
      "_model_module": "@jupyter-widgets/base",
      "_model_module_version": "1.2.0",
      "_model_name": "LayoutModel",
      "_view_count": null,
      "_view_module": "@jupyter-widgets/base",
      "_view_module_version": "1.2.0",
      "_view_name": "LayoutView",
      "align_content": null,
      "align_items": null,
      "align_self": null,
      "border": null,
      "bottom": null,
      "display": null,
      "flex": null,
      "flex_flow": null,
      "grid_area": null,
      "grid_auto_columns": null,
      "grid_auto_flow": null,
      "grid_auto_rows": null,
      "grid_column": null,
      "grid_gap": null,
      "grid_row": null,
      "grid_template_areas": null,
      "grid_template_columns": null,
      "grid_template_rows": null,
      "height": null,
      "justify_content": null,
      "justify_items": null,
      "left": null,
      "margin": null,
      "max_height": null,
      "max_width": null,
      "min_height": null,
      "min_width": null,
      "object_fit": null,
      "object_position": null,
      "order": null,
      "overflow": null,
      "overflow_x": null,
      "overflow_y": null,
      "padding": null,
      "right": null,
      "top": null,
      "visibility": null,
      "width": null
     }
    },
    "c50c08e14e53456a93dcdbce3941c9b4": {
     "model_module": "@jupyter-widgets/controls",
     "model_module_version": "1.5.0",
     "model_name": "FloatSliderModel",
     "state": {
      "_dom_classes": [],
      "_model_module": "@jupyter-widgets/controls",
      "_model_module_version": "1.5.0",
      "_model_name": "FloatSliderModel",
      "_view_count": null,
      "_view_module": "@jupyter-widgets/controls",
      "_view_module_version": "1.5.0",
      "_view_name": "FloatSliderView",
      "continuous_update": true,
      "description": "Synaptic  Weight 3:",
      "description_tooltip": null,
      "disabled": false,
      "layout": "IPY_MODEL_5e48798560b44994a810b06e2e3ca423",
      "max": 100,
      "min": 0,
      "orientation": "horizontal",
      "readout": true,
      "readout_format": ".2f",
      "step": 5,
      "style": "IPY_MODEL_e4871c6a2f904df0a8db79a17a146763",
      "value": 15
     }
    },
    "cc5ce409cce54f9b81d7b695cad8ffc0": {
     "model_module": "@jupyter-widgets/base",
     "model_module_version": "1.2.0",
     "model_name": "LayoutModel",
     "state": {
      "_model_module": "@jupyter-widgets/base",
      "_model_module_version": "1.2.0",
      "_model_name": "LayoutModel",
      "_view_count": null,
      "_view_module": "@jupyter-widgets/base",
      "_view_module_version": "1.2.0",
      "_view_name": "LayoutView",
      "align_content": null,
      "align_items": null,
      "align_self": null,
      "border": null,
      "bottom": null,
      "display": null,
      "flex": null,
      "flex_flow": null,
      "grid_area": null,
      "grid_auto_columns": null,
      "grid_auto_flow": null,
      "grid_auto_rows": null,
      "grid_column": null,
      "grid_gap": null,
      "grid_row": null,
      "grid_template_areas": null,
      "grid_template_columns": null,
      "grid_template_rows": null,
      "height": null,
      "justify_content": null,
      "justify_items": null,
      "left": null,
      "margin": null,
      "max_height": null,
      "max_width": null,
      "min_height": null,
      "min_width": null,
      "object_fit": null,
      "object_position": null,
      "order": null,
      "overflow": null,
      "overflow_x": null,
      "overflow_y": null,
      "padding": null,
      "right": null,
      "top": null,
      "visibility": null,
      "width": null
     }
    },
    "d610e7dde35b46888d46c4c50a20df4a": {
     "model_module": "@jupyter-widgets/controls",
     "model_module_version": "1.5.0",
     "model_name": "SliderStyleModel",
     "state": {
      "_model_module": "@jupyter-widgets/controls",
      "_model_module_version": "1.5.0",
      "_model_name": "SliderStyleModel",
      "_view_count": null,
      "_view_module": "@jupyter-widgets/base",
      "_view_module_version": "1.2.0",
      "_view_name": "StyleView",
      "description_width": "initial",
      "handle_color": null
     }
    },
    "e4871c6a2f904df0a8db79a17a146763": {
     "model_module": "@jupyter-widgets/controls",
     "model_module_version": "1.5.0",
     "model_name": "SliderStyleModel",
     "state": {
      "_model_module": "@jupyter-widgets/controls",
      "_model_module_version": "1.5.0",
      "_model_name": "SliderStyleModel",
      "_view_count": null,
      "_view_module": "@jupyter-widgets/base",
      "_view_module_version": "1.2.0",
      "_view_name": "StyleView",
      "description_width": "initial",
      "handle_color": null
     }
    },
    "e897f2ba423b4890a8c189b00df3df4f": {
     "model_module": "@jupyter-widgets/controls",
     "model_module_version": "1.5.0",
     "model_name": "FloatSliderModel",
     "state": {
      "_dom_classes": [],
      "_model_module": "@jupyter-widgets/controls",
      "_model_module_version": "1.5.0",
      "_model_name": "FloatSliderModel",
      "_view_count": null,
      "_view_module": "@jupyter-widgets/controls",
      "_view_module_version": "1.5.0",
      "_view_name": "FloatSliderView",
      "continuous_update": true,
      "description": "Synaptic  Weight 1:",
      "description_tooltip": null,
      "disabled": false,
      "layout": "IPY_MODEL_1f96e3120c1048b0a8c1a93d59c74384",
      "max": 100,
      "min": 0,
      "orientation": "horizontal",
      "readout": true,
      "readout_format": ".2f",
      "step": 5,
      "style": "IPY_MODEL_9c137fd989bd43c2a32e3e0bc7df019b",
      "value": 5
     }
    }
   }
  }
 },
 "nbformat": 4,
 "nbformat_minor": 0
}
